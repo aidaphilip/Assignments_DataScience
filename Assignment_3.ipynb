{
 "cells": [
  {
   "cell_type": "markdown",
   "id": "3446174e",
   "metadata": {},
   "source": [
    "1. Why are functions advantageous to have in your programs?\n",
    "\n",
    "    Answer:-\n",
    "        Functions, lets the programmer to break down the task into different modules. We can call the function anywhere in the program, whenever necessary. It reduces code duplication. Function modules are easy to read, understand and update."
   ]
  },
  {
   "cell_type": "markdown",
   "id": "34a0e982",
   "metadata": {},
   "source": [
    "2. When does the code in a function run: when it's specified or when it's called?\n",
    "    \n",
    "    Answer:-\n",
    "        The code in a function runs, when a function call statement encounters during execution of the program. A function has a function definition with a name and zero or more parameters. Usually, program follows sequential execution and when the control reaches in the function call statement in the program the control redirects to its function definition.\n",
    "        \n",
    "        Example is given below:-"
   ]
  },
  {
   "cell_type": "code",
   "execution_count": 1,
   "id": "db40af53",
   "metadata": {},
   "outputs": [
    {
     "name": "stdout",
     "output_type": "stream",
     "text": [
      "Sum of 5 and 7 is :  12\n"
     ]
    }
   ],
   "source": [
    "def add(a,b):  #Function definition\n",
    "    return a+b\n",
    "\n",
    "print(\"Sum of 5 and 7 is : \",add(5,7)) # Function call"
   ]
  },
  {
   "cell_type": "markdown",
   "id": "93163a9f",
   "metadata": {},
   "source": [
    "3. What statement creates a function?\n",
    "\n",
    "    Answer:-\n",
    "        def function_name(parameter_list):"
   ]
  },
  {
   "cell_type": "markdown",
   "id": "122174a1",
   "metadata": {},
   "source": [
    "4. What is the difference between a function and a function call?\n",
    "\n",
    "    Answer:-\n",
    "        A function definition contains the definition of the task. ie; the work is to be carried out. \n",
    "\n",
    "Syntax: \n",
    "        def function_name(formal arguments):\n",
    "            statements\n",
    "\n",
    "A function call is where the function definition being called in the program. When a function call happens, it will be replaced by function definition.\n",
    "\n",
    "Syntax:\n",
    "        function_name(Actual arguments)"
   ]
  },
  {
   "cell_type": "markdown",
   "id": "555b263c",
   "metadata": {},
   "source": [
    "5. How many global scopes are there in a Python program? How many local scopes?\n",
    "\n",
    "    Answer:-\n",
    "        There is only one global scope in the program. \n",
    "        There are many local scopes of the same variable name in a program. Local scopes exists in the function body only."
   ]
  },
  {
   "cell_type": "markdown",
   "id": "c193ff24",
   "metadata": {},
   "source": [
    "6. What happens to variables in a local scope when the function call returns?\n",
    "\n",
    "    Answer:-\n",
    "        Local scope of a variable ends when the function call returns.\n",
    "        \n",
    "Example:-"
   ]
  },
  {
   "cell_type": "code",
   "execution_count": 2,
   "id": "58f48132",
   "metadata": {},
   "outputs": [
    {
     "name": "stdout",
     "output_type": "stream",
     "text": [
      "16\n"
     ]
    },
    {
     "ename": "NameError",
     "evalue": "name 's' is not defined",
     "output_type": "error",
     "traceback": [
      "\u001b[0;31m---------------------------------------------------------------------------\u001b[0m",
      "\u001b[0;31mNameError\u001b[0m                                 Traceback (most recent call last)",
      "\u001b[0;32m/var/folders/_5/01nbllds2m75j2trb0dt5d4m0000gn/T/ipykernel_1335/351469600.py\u001b[0m in \u001b[0;36m<module>\u001b[0;34m\u001b[0m\n\u001b[1;32m      4\u001b[0m \u001b[0;34m\u001b[0m\u001b[0m\n\u001b[1;32m      5\u001b[0m \u001b[0mprint\u001b[0m\u001b[0;34m(\u001b[0m\u001b[0madd\u001b[0m\u001b[0;34m(\u001b[0m\u001b[0;36m3\u001b[0m\u001b[0;34m,\u001b[0m\u001b[0;36m4\u001b[0m\u001b[0;34m)\u001b[0m\u001b[0;34m)\u001b[0m\u001b[0;34m\u001b[0m\u001b[0;34m\u001b[0m\u001b[0m\n\u001b[0;32m----> 6\u001b[0;31m \u001b[0mprint\u001b[0m\u001b[0;34m(\u001b[0m\u001b[0ms\u001b[0m\u001b[0;34m)\u001b[0m\u001b[0;34m\u001b[0m\u001b[0;34m\u001b[0m\u001b[0m\n\u001b[0m\u001b[1;32m      7\u001b[0m \u001b[0;34m\u001b[0m\u001b[0m\n",
      "\u001b[0;31mNameError\u001b[0m: name 's' is not defined"
     ]
    }
   ],
   "source": [
    "def add(a,b):\n",
    "    s = 9  # Local variable\n",
    "    return a+b+s\n",
    "\n",
    "print(add(3,4))\n",
    "print(s) # s doesn't have a scope here"
   ]
  },
  {
   "cell_type": "markdown",
   "id": "1dca47d9",
   "metadata": {},
   "source": [
    "7. What is the concept of a return value? Is it possible to have a return value in an expression?\n",
    "\n",
    "    Answer:-\n",
    "        Result of a function definition, returns to the main program using the statement 'return'. \n",
    "        Yes, we can use the return value in an expression.\n",
    "        \n",
    "Example:-"
   ]
  },
  {
   "cell_type": "code",
   "execution_count": 3,
   "id": "fb3a72f7",
   "metadata": {},
   "outputs": [
    {
     "name": "stdout",
     "output_type": "stream",
     "text": [
      "90\n"
     ]
    }
   ],
   "source": [
    "def square(a):\n",
    "    return a**2\n",
    "\n",
    "s = 9 + square(9) # Return value of function 'square' used in the expression\n",
    "print(s)"
   ]
  },
  {
   "cell_type": "markdown",
   "id": "8edf713c",
   "metadata": {},
   "source": [
    "8. If a function does not have a return statement, what is the return value of a call to that function?\n",
    "    \n",
    "    Answer:-\n",
    "        If a function does not have a return statement then the return value of a function call is 'None'"
   ]
  },
  {
   "cell_type": "code",
   "execution_count": 6,
   "id": "4579d987",
   "metadata": {},
   "outputs": [
    {
     "name": "stdout",
     "output_type": "stream",
     "text": [
      "25\n",
      "None\n"
     ]
    }
   ],
   "source": [
    "def square(a):\n",
    "    print(a**2) #25\n",
    "\n",
    "print(square(5)) #None"
   ]
  },
  {
   "cell_type": "markdown",
   "id": "86e6c521",
   "metadata": {},
   "source": [
    "9. How do you make a function variable refer to the global variable?\n",
    "\n",
    "    Answer:-\n",
    "        using the keyword 'global'"
   ]
  },
  {
   "cell_type": "code",
   "execution_count": 9,
   "id": "923c0d94",
   "metadata": {},
   "outputs": [
    {
     "name": "stdout",
     "output_type": "stream",
     "text": [
      "16\n",
      "9\n"
     ]
    }
   ],
   "source": [
    "def add(a,b):\n",
    "    global s\n",
    "    s = 9  # Local variable declared as global variable\n",
    "    return a+b+s\n",
    "\n",
    "print(\"Function return value : \",add(3,4))\n",
    "print(\"Global variable declared in the local function : \",s) # s has a global scope here"
   ]
  },
  {
   "cell_type": "markdown",
   "id": "a676ea2d",
   "metadata": {},
   "source": [
    "10. What is the data type of None?\n",
    "\n",
    "Answer:-"
   ]
  },
  {
   "cell_type": "code",
   "execution_count": 10,
   "id": "2b9835a7",
   "metadata": {},
   "outputs": [
    {
     "data": {
      "text/plain": [
       "NoneType"
      ]
     },
     "execution_count": 10,
     "metadata": {},
     "output_type": "execute_result"
    }
   ],
   "source": [
    "type(None)"
   ]
  },
  {
   "cell_type": "markdown",
   "id": "4782ad2f",
   "metadata": {},
   "source": [
    "11. What does the sentence import areallyourpetsnamederic do?\n",
    "\n",
    "    Answer:-\n",
    "        Here, 'areallyourpetsnamederic' is a Python module. When we import the module, all the Python statements and definitions are accessible in our current program."
   ]
  },
  {
   "cell_type": "markdown",
   "id": "648d0c79",
   "metadata": {},
   "source": [
    "12. If you had a bacon() feature in a spam module, what would you call it after importing spam?\n",
    "\n",
    "Answer:- \n",
    "\n",
    "import spam\n",
    "\n",
    "spam.bacon()"
   ]
  },
  {
   "cell_type": "markdown",
   "id": "80813dbf",
   "metadata": {},
   "source": [
    "13. What can you do to save a program from crashing if it encounters an error?\n",
    "    \n",
    "    Answer:-\n",
    "        Using a try -- except an save our program from error crashing. We can mention exceptions in the except block and can notify the user about the error."
   ]
  },
  {
   "cell_type": "markdown",
   "id": "9d287f33",
   "metadata": {},
   "source": [
    "14. What is the purpose of the try clause? What is the purpose of the except clause?\n",
    "\n",
    "    Answer:-\n",
    "        'Try' statement is used to define a block of code to be tested for errors. 'except' statement is used to execute a block of code when exceptions arise.\n",
    "        \n",
    "Example:-"
   ]
  },
  {
   "cell_type": "code",
   "execution_count": 13,
   "id": "e6f2ef0b",
   "metadata": {},
   "outputs": [
    {
     "name": "stdout",
     "output_type": "stream",
     "text": [
      "Division by zero is not defined!\n"
     ]
    }
   ],
   "source": [
    "try:\n",
    "    print(3/0)\n",
    "except ZeroDivisionError:\n",
    "    print(\"Division by zero is not defined!\")\n"
   ]
  }
 ],
 "metadata": {
  "kernelspec": {
   "display_name": "Python 3 (ipykernel)",
   "language": "python",
   "name": "python3"
  },
  "language_info": {
   "codemirror_mode": {
    "name": "ipython",
    "version": 3
   },
   "file_extension": ".py",
   "mimetype": "text/x-python",
   "name": "python",
   "nbconvert_exporter": "python",
   "pygments_lexer": "ipython3",
   "version": "3.9.7"
  }
 },
 "nbformat": 4,
 "nbformat_minor": 5
}
