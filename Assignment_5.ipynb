{
 "cells": [
  {
   "cell_type": "markdown",
   "id": "1b186b75",
   "metadata": {},
   "source": [
    "1. What does an empty dictionary's code look like?\n",
    "\n",
    "    Answer:-"
   ]
  },
  {
   "cell_type": "code",
   "execution_count": 1,
   "id": "1a6d0eb0",
   "metadata": {},
   "outputs": [
    {
     "data": {
      "text/plain": [
       "dict"
      ]
     },
     "execution_count": 1,
     "metadata": {},
     "output_type": "execute_result"
    }
   ],
   "source": [
    "d = {}   # Empty dictionary\n",
    "type(d)"
   ]
  },
  {
   "cell_type": "markdown",
   "id": "b9c6ef0a",
   "metadata": {},
   "source": [
    "2. What is the value of a dictionary value with the key 'foo' and the value 42?\n",
    "\n",
    "    Answer:-"
   ]
  },
  {
   "cell_type": "code",
   "execution_count": 5,
   "id": "1fb71dfe",
   "metadata": {},
   "outputs": [
    {
     "data": {
      "text/plain": [
       "42"
      ]
     },
     "execution_count": 5,
     "metadata": {},
     "output_type": "execute_result"
    }
   ],
   "source": [
    "d = {'foo':42}\n",
    "d['foo']   # Value of key 'foo'"
   ]
  },
  {
   "cell_type": "markdown",
   "id": "44d4c839",
   "metadata": {},
   "source": [
    "3. What is the most significant distinction between a dictionary and a list?\n",
    "\n",
    "    Answer:-\n",
    "        A dictionary contains, same or different data items in the form of a 'key: value' pair.\n",
    "        \n",
    "        A list contains, same or different data items as elements.\n",
    "       \n",
    "Examples are given below:-"
   ]
  },
  {
   "cell_type": "code",
   "execution_count": 8,
   "id": "0c9b5886",
   "metadata": {},
   "outputs": [],
   "source": [
    "d = {'a':10,'b':'ten','c':[1,2,3,4],45:34.7}\n",
    "l = [12,34,67.5,'hello',[3,4,5],(3,4)]"
   ]
  },
  {
   "cell_type": "code",
   "execution_count": null,
   "id": "d102a72c",
   "metadata": {},
   "outputs": [],
   "source": [
    "4. What happens if you try to access spam['foo'] if spam is {'bar': 100}?\n",
    "\n",
    "    Answer:- It will report a 'KeyError' in the runtime, as, such a key doesn't exist."
   ]
  },
  {
   "cell_type": "code",
   "execution_count": 10,
   "id": "6481a2b6",
   "metadata": {},
   "outputs": [
    {
     "ename": "KeyError",
     "evalue": "'foo'",
     "output_type": "error",
     "traceback": [
      "\u001b[0;31m---------------------------------------------------------------------------\u001b[0m",
      "\u001b[0;31mKeyError\u001b[0m                                  Traceback (most recent call last)",
      "\u001b[0;32m/var/folders/_5/01nbllds2m75j2trb0dt5d4m0000gn/T/ipykernel_1029/3611763342.py\u001b[0m in \u001b[0;36m<module>\u001b[0;34m\u001b[0m\n\u001b[1;32m      1\u001b[0m \u001b[0mspam\u001b[0m \u001b[0;34m=\u001b[0m \u001b[0;34m{\u001b[0m\u001b[0;34m'bar'\u001b[0m \u001b[0;34m:\u001b[0m \u001b[0;36m100\u001b[0m\u001b[0;34m}\u001b[0m\u001b[0;34m\u001b[0m\u001b[0;34m\u001b[0m\u001b[0m\n\u001b[0;32m----> 2\u001b[0;31m \u001b[0mspam\u001b[0m\u001b[0;34m[\u001b[0m\u001b[0;34m'foo'\u001b[0m\u001b[0;34m]\u001b[0m\u001b[0;34m\u001b[0m\u001b[0;34m\u001b[0m\u001b[0m\n\u001b[0m",
      "\u001b[0;31mKeyError\u001b[0m: 'foo'"
     ]
    }
   ],
   "source": [
    "spam = {'bar' : 100}\n",
    "spam['foo']"
   ]
  },
  {
   "cell_type": "markdown",
   "id": "776b2ffc",
   "metadata": {},
   "source": [
    "5. If a dictionary is stored in spam, what is the difference between the expressions 'cat' in spam and\n",
    "'cat' in spam.keys()?\n",
    "    \n",
    "    Answer:- There is no difference between the expressions. The in operator checks, whether the key 'cat' \n",
    "              exists in the dictionary or not."
   ]
  },
  {
   "cell_type": "code",
   "execution_count": 16,
   "id": "af971957",
   "metadata": {},
   "outputs": [
    {
     "data": {
      "text/plain": [
       "False"
      ]
     },
     "execution_count": 16,
     "metadata": {},
     "output_type": "execute_result"
    }
   ],
   "source": [
    "spam = {'animal':'cat','birds':'parrot'}  # Key 'cat' not in spam\n",
    "'cat' in spam"
   ]
  },
  {
   "cell_type": "code",
   "execution_count": 17,
   "id": "3414f5fb",
   "metadata": {},
   "outputs": [
    {
     "data": {
      "text/plain": [
       "False"
      ]
     },
     "execution_count": 17,
     "metadata": {},
     "output_type": "execute_result"
    }
   ],
   "source": [
    "'cat' in spam.keys()    # Key 'cat' not in spam"
   ]
  },
  {
   "cell_type": "code",
   "execution_count": 18,
   "id": "387cc74d",
   "metadata": {},
   "outputs": [
    {
     "data": {
      "text/plain": [
       "True"
      ]
     },
     "execution_count": 18,
     "metadata": {},
     "output_type": "execute_result"
    }
   ],
   "source": [
    "spam = {'cat':'animal','birds':'parrot'}   # Key 'cat' is in spam\n",
    "'cat' in spam"
   ]
  },
  {
   "cell_type": "code",
   "execution_count": 19,
   "id": "04454237",
   "metadata": {},
   "outputs": [
    {
     "data": {
      "text/plain": [
       "True"
      ]
     },
     "execution_count": 19,
     "metadata": {},
     "output_type": "execute_result"
    }
   ],
   "source": [
    "'cat' in spam.keys()     # Key 'cat' is in spam"
   ]
  },
  {
   "cell_type": "markdown",
   "id": "fd6ba10e",
   "metadata": {},
   "source": [
    "6. If a dictionary is stored in spam, what is the difference between the expressions 'cat' in spam and\n",
    "'cat' in spam.values()?\n",
    "\n",
    "    Answer:- 'cat' in spam checks for the key 'cat'.\n",
    "              \n",
    "             'cat' in spam.values() checks for the key value 'cat'\n",
    "        "
   ]
  },
  {
   "cell_type": "code",
   "execution_count": 21,
   "id": "fb07498f",
   "metadata": {},
   "outputs": [
    {
     "data": {
      "text/plain": [
       "False"
      ]
     },
     "execution_count": 21,
     "metadata": {},
     "output_type": "execute_result"
    }
   ],
   "source": [
    "spam = {'animal':'cat','birds':'parrot'}  \n",
    "'cat' in spam                            # Key 'cat' is not in spam"
   ]
  },
  {
   "cell_type": "code",
   "execution_count": 22,
   "id": "d05d5067",
   "metadata": {},
   "outputs": [
    {
     "data": {
      "text/plain": [
       "True"
      ]
     },
     "execution_count": 22,
     "metadata": {},
     "output_type": "execute_result"
    }
   ],
   "source": [
    "'cat' in spam.values()                  # Value 'cat' is in spam"
   ]
  },
  {
   "cell_type": "markdown",
   "id": "6ff31eba",
   "metadata": {},
   "source": [
    "7. What is a shortcut for the following code?\n",
    "\n",
    "    if 'color' not in spam:\n",
    "            spam['color'] = 'black'\n",
    "\n",
    "    Answer:-"
   ]
  },
  {
   "cell_type": "code",
   "execution_count": 28,
   "id": "947c7d06",
   "metadata": {},
   "outputs": [
    {
     "data": {
      "text/plain": [
       "{'animal': 'cat', 'birds': 'parrot', 'color': 'black'}"
      ]
     },
     "execution_count": 28,
     "metadata": {},
     "output_type": "execute_result"
    }
   ],
   "source": [
    "spam.setdefault('color', 'black')   \n",
    "spam"
   ]
  },
  {
   "cell_type": "markdown",
   "id": "736752a1",
   "metadata": {},
   "source": [
    "8. How do you 'pretty print' dictionary values using which module and function?\n",
    "\n",
    "    Answer:-\n",
    "        import pprint is the module used for pretty print and\n",
    "        pprint.pprint(dictionary_name) is the function."
   ]
  },
  {
   "cell_type": "code",
   "execution_count": 32,
   "id": "c65fdd07",
   "metadata": {},
   "outputs": [
    {
     "name": "stdout",
     "output_type": "stream",
     "text": [
      "{'animal': 'cat', 'birds': 'parrot'}\n"
     ]
    }
   ],
   "source": [
    "import pprint\n",
    "spam = {'animal':'cat','birds':'parrot'} \n",
    "pprint.pprint(spam)"
   ]
  }
 ],
 "metadata": {
  "kernelspec": {
   "display_name": "Python 3 (ipykernel)",
   "language": "python",
   "name": "python3"
  },
  "language_info": {
   "codemirror_mode": {
    "name": "ipython",
    "version": 3
   },
   "file_extension": ".py",
   "mimetype": "text/x-python",
   "name": "python",
   "nbconvert_exporter": "python",
   "pygments_lexer": "ipython3",
   "version": "3.9.7"
  }
 },
 "nbformat": 4,
 "nbformat_minor": 5
}
