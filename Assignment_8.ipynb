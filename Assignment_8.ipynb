{
 "cells": [
  {
   "cell_type": "markdown",
   "id": "7595c15b",
   "metadata": {},
   "source": [
    "1. Is the Python Standard Library included with PyInputPlus?\n",
    "\n",
    "    Answer:-\n",
    "        PyInputPlus is a Python module used for taking inputs with additional validation features. PyInputPlus will keep asking the user for text until they enter valid input.\n",
    "        PyInputPlus is not a part of the Python Standard Library, so you must install it separately using Pip."
   ]
  },
  {
   "cell_type": "code",
   "execution_count": 1,
   "id": "2034b77f",
   "metadata": {},
   "outputs": [
    {
     "name": "stdout",
     "output_type": "stream",
     "text": [
      "Collecting PyInputPlus\n",
      "  Downloading PyInputPlus-0.2.12.tar.gz (20 kB)\n",
      "  Installing build dependencies ... \u001b[?25ldone\n",
      "\u001b[?25h  Getting requirements to build wheel ... \u001b[?25ldone\n",
      "\u001b[?25h    Preparing wheel metadata ... \u001b[?25ldone\n",
      "\u001b[?25hCollecting stdiomask>=0.0.3\n",
      "  Downloading stdiomask-0.0.6.tar.gz (3.6 kB)\n",
      "  Installing build dependencies ... \u001b[?25ldone\n",
      "\u001b[?25h  Getting requirements to build wheel ... \u001b[?25ldone\n",
      "\u001b[?25h    Preparing wheel metadata ... \u001b[?25ldone\n",
      "\u001b[?25hCollecting pysimplevalidate>=0.2.7\n",
      "  Downloading PySimpleValidate-0.2.12.tar.gz (22 kB)\n",
      "  Installing build dependencies ... \u001b[?25ldone\n",
      "\u001b[?25h  Getting requirements to build wheel ... \u001b[?25ldone\n",
      "\u001b[?25h    Preparing wheel metadata ... \u001b[?25ldone\n",
      "\u001b[?25hBuilding wheels for collected packages: PyInputPlus, pysimplevalidate, stdiomask\n",
      "  Building wheel for PyInputPlus (PEP 517) ... \u001b[?25ldone\n",
      "\u001b[?25h  Created wheel for PyInputPlus: filename=PyInputPlus-0.2.12-py3-none-any.whl size=11297 sha256=89cb900122bb9fb52756c63cfe7fb35b1b7d56dc5cd70a0ad80c83be57cd6c92\n",
      "  Stored in directory: /Users/justin/Library/Caches/pip/wheels/b4/6e/2f/8a852732646cabec36c3fe8fc060ec5bea1c1be711432c47f7\n",
      "  Building wheel for pysimplevalidate (PEP 517) ... \u001b[?25ldone\n",
      "\u001b[?25h  Created wheel for pysimplevalidate: filename=PySimpleValidate-0.2.12-py3-none-any.whl size=16175 sha256=d0ca568e5d3619388e871f62cc5b79e824d1afb390ed92d130a89800adb0a8b5\n",
      "  Stored in directory: /Users/justin/Library/Caches/pip/wheels/b1/44/4a/043a4f4c4512c7cdfb0c2b8408b18b0de5fd45cac57f5dfa02\n",
      "  Building wheel for stdiomask (PEP 517) ... \u001b[?25ldone\n",
      "\u001b[?25h  Created wheel for stdiomask: filename=stdiomask-0.0.6-py3-none-any.whl size=3306 sha256=7166ccf33e10532a70169f633ba33f7f32411a1e778a7fdf176d14421b1b49c7\n",
      "  Stored in directory: /Users/justin/Library/Caches/pip/wheels/1d/aa/47/f41f117d22c5de82e95d9342f44da578c80610739a2d5ebec4\n",
      "Successfully built PyInputPlus pysimplevalidate stdiomask\n",
      "Installing collected packages: stdiomask, pysimplevalidate, PyInputPlus\n",
      "Successfully installed PyInputPlus-0.2.12 pysimplevalidate-0.2.12 stdiomask-0.0.6\n",
      "Note: you may need to restart the kernel to use updated packages.\n"
     ]
    }
   ],
   "source": [
    "pip install PyInputPlus"
   ]
  },
  {
   "cell_type": "markdown",
   "id": "fb5d822d",
   "metadata": {},
   "source": [
    "2. Why is PyInputPlus commonly imported with import pyinputplus as pypi?\n",
    "\n",
    "    Answer:-\n",
    "        You can import the module with import pyinputplus as pyip so that you can enter a shorter name when calling the module's functions. "
   ]
  },
  {
   "cell_type": "markdown",
   "id": "d7fcaee2",
   "metadata": {},
   "source": [
    "3. How do you distinguish between inputInt() and inputFloat()?\n",
    "\n",
    "    Answer:-\n",
    "        The inputInt() function is used to take integer inputs.\n",
    "        If any non-integer input is passed, the function retries until a valid input is given, time runs out or maximum number of tries exceed.\n",
    "        The inputFloat() function is used to take float inputs.If any non-integer input is passed, the function retries until a valid input is given, time runs out or maximum number of tries exceed.\n",
    "        When user enters an integer input, function will consider it as float by converting it into float."
   ]
  },
  {
   "cell_type": "code",
   "execution_count": 2,
   "id": "2a1a17c9",
   "metadata": {},
   "outputs": [
    {
     "name": "stdout",
     "output_type": "stream",
     "text": [
      "Enter an Integer... hai\n",
      "'hai' is not an integer.\n",
      "Enter an Integer... *\n",
      "'*' is not an integer.\n",
      "Enter an Integer... 23\n",
      "23\n"
     ]
    }
   ],
   "source": [
    "import pyinputplus as pyip\n",
    "inpu = pyip.inputInt(prompt = \"Enter an Integer... \",\n",
    "      default = 0, limit = 3)  # It keeps ask for an integer, until the user enters it.\n",
    "print(inpu)\n"
   ]
  },
  {
   "cell_type": "code",
   "execution_count": 4,
   "id": "e00cdbdc",
   "metadata": {},
   "outputs": [
    {
     "name": "stdout",
     "output_type": "stream",
     "text": [
      "Enter a float value... hello\n",
      "'hello' is not a float.\n",
      "Enter a float value... 45\n",
      "45.0\n"
     ]
    }
   ],
   "source": [
    "import pyinputplus as pyip\n",
    "inpu = pyip.inputFloat(prompt = \"Enter a float value... \",\n",
    "      default = 0, limit = 3)  # It keeps ask for an integer, until the user enters it.\n",
    "print(inpu)"
   ]
  },
  {
   "cell_type": "markdown",
   "id": "c34b2260",
   "metadata": {},
   "source": [
    "4. Using PyInputPlus, how do you ensure that the user enters a whole number between 0 and 99?\n",
    "    \n",
    "    Answer:-\n",
    "        By putting minimum and lessthan limits."
   ]
  },
  {
   "cell_type": "code",
   "execution_count": 7,
   "id": "5f037b77",
   "metadata": {},
   "outputs": [
    {
     "name": "stdout",
     "output_type": "stream",
     "text": [
      "Enter num: 100\n",
      "Number must be less than 99.\n",
      "Enter num: -5\n",
      "Number must be at minimum 0.\n",
      "Enter num: 50\n"
     ]
    }
   ],
   "source": [
    "import pyinputplus as pyip\n",
    "response = pyip.inputNum('Enter num: ', min=0, lessThan=99)"
   ]
  },
  {
   "cell_type": "markdown",
   "id": "a6401137",
   "metadata": {},
   "source": [
    "5. What is transferred to the keyword arguments allowRegexes and blockRegexes?\n",
    "\n",
    "Answer:-\n",
    "    \n",
    "The issue is either within your assumption of how the parameter allowRegexes works, or in your regex. Though I guess it's probably the former.\n",
    "\n",
    "The behavior is this: If the regex set in allowRegexes matches any part of the input, the whole string will be valid (respectively invalid, if used in blockRegexes). The regex does not need to match the entire input. "
   ]
  },
  {
   "cell_type": "code",
   "execution_count": 1,
   "id": "ddadf99a",
   "metadata": {},
   "outputs": [
    {
     "name": "stdout",
     "output_type": "stream",
     "text": [
      "input: numbers\n",
      "'numbers' is not a number.\n",
      "input: 234\n"
     ]
    },
    {
     "data": {
      "text/plain": [
       "234"
      ]
     },
     "execution_count": 1,
     "metadata": {},
     "output_type": "execute_result"
    }
   ],
   "source": [
    "# allowRegexes, arguments 0 - 9 numbers allowed\n",
    "# blockRegexes, block alphabets\n",
    "\n",
    "import pyinputplus as pyip\n",
    "pyip.inputNum('input: ', allowRegexes=[r'0-9'], blockRegexes=[r'a-z'])                  "
   ]
  },
  {
   "cell_type": "markdown",
   "id": "bf0a5ed9",
   "metadata": {},
   "source": [
    "6. If a blank input is entered three times, what does inputStr(limit=3) do?\n",
    "\n",
    "    Answer:-\n",
    "        \n",
    "        It raises a RetryLimitException."
   ]
  },
  {
   "cell_type": "code",
   "execution_count": 3,
   "id": "816bfe26",
   "metadata": {},
   "outputs": [
    {
     "name": "stdout",
     "output_type": "stream",
     "text": [
      "Enter a string: \n",
      "Blank values are not allowed.\n",
      "Enter a string: \n",
      "Blank values are not allowed.\n",
      "Enter a string: \n",
      "Blank values are not allowed.\n"
     ]
    },
    {
     "ename": "RetryLimitException",
     "evalue": "",
     "output_type": "error",
     "traceback": [
      "\u001b[0;31m---------------------------------------------------------------------------\u001b[0m",
      "\u001b[0;31mValidationException\u001b[0m                       Traceback (most recent call last)",
      "\u001b[0;32m/opt/anaconda3/lib/python3.9/site-packages/pyinputplus/__init__.py\u001b[0m in \u001b[0;36m_genericInput\u001b[0;34m(prompt, default, timeout, limit, applyFunc, validationFunc, postValidateApplyFunc, passwordMask)\u001b[0m\n\u001b[1;32m    166\u001b[0m         \u001b[0;32mtry\u001b[0m\u001b[0;34m:\u001b[0m\u001b[0;34m\u001b[0m\u001b[0;34m\u001b[0m\u001b[0m\n\u001b[0;32m--> 167\u001b[0;31m             possibleNewUserInput = validationFunc(\n\u001b[0m\u001b[1;32m    168\u001b[0m                 \u001b[0muserInput\u001b[0m\u001b[0;34m\u001b[0m\u001b[0;34m\u001b[0m\u001b[0m\n",
      "\u001b[0;32m/opt/anaconda3/lib/python3.9/site-packages/pyinputplus/__init__.py\u001b[0m in \u001b[0;36m<lambda>\u001b[0;34m(value)\u001b[0m\n\u001b[1;32m    242\u001b[0m \u001b[0;34m\u001b[0m\u001b[0m\n\u001b[0;32m--> 243\u001b[0;31m     validationFunc = lambda value: pysv._prevalidationCheck(\n\u001b[0m\u001b[1;32m    244\u001b[0m         \u001b[0mvalue\u001b[0m\u001b[0;34m,\u001b[0m \u001b[0mblank\u001b[0m\u001b[0;34m=\u001b[0m\u001b[0mblank\u001b[0m\u001b[0;34m,\u001b[0m \u001b[0mstrip\u001b[0m\u001b[0;34m=\u001b[0m\u001b[0mstrip\u001b[0m\u001b[0;34m,\u001b[0m \u001b[0mallowRegexes\u001b[0m\u001b[0;34m=\u001b[0m\u001b[0mallowRegexes\u001b[0m\u001b[0;34m,\u001b[0m \u001b[0mblockRegexes\u001b[0m\u001b[0;34m=\u001b[0m\u001b[0mblockRegexes\u001b[0m\u001b[0;34m,\u001b[0m \u001b[0mexcMsg\u001b[0m\u001b[0;34m=\u001b[0m\u001b[0;32mNone\u001b[0m\u001b[0;34m,\u001b[0m\u001b[0;34m\u001b[0m\u001b[0;34m\u001b[0m\u001b[0m\n",
      "\u001b[0;32m/opt/anaconda3/lib/python3.9/site-packages/pysimplevalidate/__init__.py\u001b[0m in \u001b[0;36m_prevalidationCheck\u001b[0;34m(value, blank, strip, allowRegexes, blockRegexes, excMsg)\u001b[0m\n\u001b[1;32m    249\u001b[0m         \u001b[0;31m# value is blank but blanks aren't allowed.\u001b[0m\u001b[0;34m\u001b[0m\u001b[0;34m\u001b[0m\u001b[0m\n\u001b[0;32m--> 250\u001b[0;31m         \u001b[0m_raiseValidationException\u001b[0m\u001b[0;34m(\u001b[0m\u001b[0m_\u001b[0m\u001b[0;34m(\u001b[0m\u001b[0;34m\"Blank values are not allowed.\"\u001b[0m\u001b[0;34m)\u001b[0m\u001b[0;34m,\u001b[0m \u001b[0mexcMsg\u001b[0m\u001b[0;34m)\u001b[0m\u001b[0;34m\u001b[0m\u001b[0;34m\u001b[0m\u001b[0m\n\u001b[0m\u001b[1;32m    251\u001b[0m     \u001b[0;32melif\u001b[0m \u001b[0mblank\u001b[0m \u001b[0;32mand\u001b[0m \u001b[0mvalue\u001b[0m \u001b[0;34m==\u001b[0m \u001b[0;34m\"\"\u001b[0m\u001b[0;34m:\u001b[0m\u001b[0;34m\u001b[0m\u001b[0;34m\u001b[0m\u001b[0m\n",
      "\u001b[0;32m/opt/anaconda3/lib/python3.9/site-packages/pysimplevalidate/__init__.py\u001b[0m in \u001b[0;36m_raiseValidationException\u001b[0;34m(standardExcMsg, customExcMsg)\u001b[0m\n\u001b[1;32m    221\u001b[0m     \u001b[0;32mif\u001b[0m \u001b[0mcustomExcMsg\u001b[0m \u001b[0;32mis\u001b[0m \u001b[0;32mNone\u001b[0m\u001b[0;34m:\u001b[0m\u001b[0;34m\u001b[0m\u001b[0;34m\u001b[0m\u001b[0m\n\u001b[0;32m--> 222\u001b[0;31m         \u001b[0;32mraise\u001b[0m \u001b[0mValidationException\u001b[0m\u001b[0;34m(\u001b[0m\u001b[0mstr\u001b[0m\u001b[0;34m(\u001b[0m\u001b[0mstandardExcMsg\u001b[0m\u001b[0;34m)\u001b[0m\u001b[0;34m)\u001b[0m\u001b[0;34m\u001b[0m\u001b[0;34m\u001b[0m\u001b[0m\n\u001b[0m\u001b[1;32m    223\u001b[0m     \u001b[0;32melse\u001b[0m\u001b[0;34m:\u001b[0m\u001b[0;34m\u001b[0m\u001b[0;34m\u001b[0m\u001b[0m\n",
      "\u001b[0;31mValidationException\u001b[0m: Blank values are not allowed.",
      "\nDuring handling of the above exception, another exception occurred:\n",
      "\u001b[0;31mRetryLimitException\u001b[0m                       Traceback (most recent call last)",
      "\u001b[0;32m/var/folders/_5/01nbllds2m75j2trb0dt5d4m0000gn/T/ipykernel_2563/2595940936.py\u001b[0m in \u001b[0;36m<module>\u001b[0;34m\u001b[0m\n\u001b[1;32m      1\u001b[0m \u001b[0;32mimport\u001b[0m \u001b[0mpyinputplus\u001b[0m \u001b[0;32mas\u001b[0m \u001b[0mpyip\u001b[0m\u001b[0;34m\u001b[0m\u001b[0;34m\u001b[0m\u001b[0m\n\u001b[0;32m----> 2\u001b[0;31m \u001b[0mpyip\u001b[0m\u001b[0;34m.\u001b[0m\u001b[0minputStr\u001b[0m\u001b[0;34m(\u001b[0m\u001b[0;34m'Enter a string: '\u001b[0m\u001b[0;34m,\u001b[0m\u001b[0mlimit\u001b[0m\u001b[0;34m=\u001b[0m\u001b[0;36m3\u001b[0m\u001b[0;34m)\u001b[0m\u001b[0;34m\u001b[0m\u001b[0;34m\u001b[0m\u001b[0m\n\u001b[0m",
      "\u001b[0;32m/opt/anaconda3/lib/python3.9/site-packages/pyinputplus/__init__.py\u001b[0m in \u001b[0;36minputStr\u001b[0;34m(prompt, default, blank, timeout, limit, strip, allowRegexes, blockRegexes, applyFunc, postValidateApplyFunc)\u001b[0m\n\u001b[1;32m    245\u001b[0m     )[1]\n\u001b[1;32m    246\u001b[0m \u001b[0;34m\u001b[0m\u001b[0m\n\u001b[0;32m--> 247\u001b[0;31m     return _genericInput(\n\u001b[0m\u001b[1;32m    248\u001b[0m         \u001b[0mprompt\u001b[0m\u001b[0;34m=\u001b[0m\u001b[0mprompt\u001b[0m\u001b[0;34m,\u001b[0m\u001b[0;34m\u001b[0m\u001b[0;34m\u001b[0m\u001b[0m\n\u001b[1;32m    249\u001b[0m         \u001b[0mdefault\u001b[0m\u001b[0;34m=\u001b[0m\u001b[0mdefault\u001b[0m\u001b[0;34m,\u001b[0m\u001b[0;34m\u001b[0m\u001b[0;34m\u001b[0m\u001b[0m\n",
      "\u001b[0;32m/opt/anaconda3/lib/python3.9/site-packages/pyinputplus/__init__.py\u001b[0m in \u001b[0;36m_genericInput\u001b[0;34m(prompt, default, timeout, limit, applyFunc, validationFunc, postValidateApplyFunc, passwordMask)\u001b[0m\n\u001b[1;32m    186\u001b[0m                 \u001b[0;32melse\u001b[0m\u001b[0;34m:\u001b[0m\u001b[0;34m\u001b[0m\u001b[0;34m\u001b[0m\u001b[0m\n\u001b[1;32m    187\u001b[0m                     \u001b[0;31m# If there is no default, then raise the timeout/limit exception.\u001b[0m\u001b[0;34m\u001b[0m\u001b[0;34m\u001b[0m\u001b[0m\n\u001b[0;32m--> 188\u001b[0;31m                     \u001b[0;32mraise\u001b[0m \u001b[0mlimitOrTimeoutException\u001b[0m\u001b[0;34m\u001b[0m\u001b[0;34m\u001b[0m\u001b[0m\n\u001b[0m\u001b[1;32m    189\u001b[0m             \u001b[0;32melse\u001b[0m\u001b[0;34m:\u001b[0m\u001b[0;34m\u001b[0m\u001b[0;34m\u001b[0m\u001b[0m\n\u001b[1;32m    190\u001b[0m                 \u001b[0;31m# If there was no timeout/limit exceeded, let the user enter input again.\u001b[0m\u001b[0;34m\u001b[0m\u001b[0;34m\u001b[0m\u001b[0m\n",
      "\u001b[0;31mRetryLimitException\u001b[0m: "
     ]
    }
   ],
   "source": [
    "import pyinputplus as pyip\n",
    "pyip.inputStr('Enter a string: ',limit=3)"
   ]
  },
  {
   "cell_type": "code",
   "execution_count": null,
   "id": "a7a791f6",
   "metadata": {},
   "outputs": [],
   "source": [
    "7. If blank input is entered three times, what does inputStr(limit=3, default='hello') do?\n",
    "\n",
    "    Answer:-\n",
    "        It assigns the default value 'hello' after exceeding the limit value."
   ]
  },
  {
   "cell_type": "code",
   "execution_count": 4,
   "id": "383b527c",
   "metadata": {},
   "outputs": [
    {
     "name": "stdout",
     "output_type": "stream",
     "text": [
      "Enter a string: \n",
      "Blank values are not allowed.\n",
      "Enter a string: \n",
      "Blank values are not allowed.\n",
      "Enter a string: \n",
      "Blank values are not allowed.\n"
     ]
    },
    {
     "data": {
      "text/plain": [
       "'hello'"
      ]
     },
     "execution_count": 4,
     "metadata": {},
     "output_type": "execute_result"
    }
   ],
   "source": [
    "import pyinputplus as pyip\n",
    "pyip.inputStr('Enter a string: ', default = 'hello', limit=3)"
   ]
  }
 ],
 "metadata": {
  "kernelspec": {
   "display_name": "Python 3 (ipykernel)",
   "language": "python",
   "name": "python3"
  },
  "language_info": {
   "codemirror_mode": {
    "name": "ipython",
    "version": 3
   },
   "file_extension": ".py",
   "mimetype": "text/x-python",
   "name": "python",
   "nbconvert_exporter": "python",
   "pygments_lexer": "ipython3",
   "version": "3.9.7"
  }
 },
 "nbformat": 4,
 "nbformat_minor": 5
}
