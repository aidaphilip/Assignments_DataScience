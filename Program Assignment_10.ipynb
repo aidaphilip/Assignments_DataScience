{
 "cells": [
  {
   "cell_type": "code",
   "execution_count": 4,
   "id": "139e55f6-150e-477f-ae32-9126b9522c14",
   "metadata": {},
   "outputs": [
    {
     "name": "stdout",
     "output_type": "stream",
     "text": [
      "Sum of  [10, 30.5, 70.4534, 23, 'Nil', True] = 133.9534\n"
     ]
    }
   ],
   "source": [
    "# 1. Write a Python program to find sum of elements in list?\n",
    "\n",
    "def sumOFElementsList(l):\n",
    "    sum = 0\n",
    "    for i in l:\n",
    "        if type(i) == int or type(i) == float:\n",
    "            sum += i\n",
    "    return sum\n",
    "\n",
    "li = [10,30.5,70.4534,23,'Nil',True]\n",
    "print(f\"Sum of \",li,\"=\",sumOFElementsList(li))\n",
    "        "
   ]
  },
  {
   "cell_type": "code",
   "execution_count": 7,
   "id": "c9b04b2e",
   "metadata": {},
   "outputs": [
    {
     "name": "stdout",
     "output_type": "stream",
     "text": [
      "Product of  [10, 30.5, 70.4534, 23, 'Nil', True] = 494230.601\n"
     ]
    }
   ],
   "source": [
    "# 2. Write a Python program to Multiply all numbers in the list?\n",
    "\n",
    "def productOFElementsList(l):\n",
    "    product = 1\n",
    "    for i in l:\n",
    "        if type(i) == int or type(i) == float:\n",
    "            product *= i\n",
    "    return product\n",
    "\n",
    "li = [10,30.5,70.4534,23,'Nil',True]\n",
    "print(f\"Product of \",li,\"=\",productOFElementsList(li))"
   ]
  },
  {
   "cell_type": "code",
   "execution_count": 8,
   "id": "a6d261c1",
   "metadata": {},
   "outputs": [
    {
     "name": "stdout",
     "output_type": "stream",
     "text": [
      "Smallest of  [10, 30, 50, 20, 70, 100] = 10\n"
     ]
    }
   ],
   "source": [
    "# 3. Write a Python program to find smallest number in a list?\n",
    "\n",
    "def smallestEleList(l):\n",
    "    return min(l)\n",
    "\n",
    "li = [10,30,50,20,70,100]\n",
    "print(f\"Smallest of \",li,\"=\",smallestEleList(li))"
   ]
  },
  {
   "cell_type": "code",
   "execution_count": 10,
   "id": "0ded96b9",
   "metadata": {},
   "outputs": [
    {
     "name": "stdout",
     "output_type": "stream",
     "text": [
      "Largest of  [10, 30, 50, 20, 70, 100] = 100\n"
     ]
    }
   ],
   "source": [
    "# 4. Write a Python program to find largest number in a list?\n",
    "\n",
    "def largestEleList(l):\n",
    "    return max(l)\n",
    "\n",
    "li = [10,30,50,20,70,100]\n",
    "print(f\"Largest of \",li,\"=\",largestEleList(li))"
   ]
  },
  {
   "cell_type": "code",
   "execution_count": 16,
   "id": "ab821e14",
   "metadata": {},
   "outputs": [
    {
     "name": "stdout",
     "output_type": "stream",
     "text": [
      "Second largest of  [10, 70, 50, 20, 30, 100] = 70\n"
     ]
    }
   ],
   "source": [
    "# 5. Write a Python program to find second largest number in a list?\n",
    "\n",
    "def SecondlargestEleList(l):\n",
    "    lar = l[0]\n",
    "    slar = l[1]\n",
    "    for i in range(1,len(l)):\n",
    "        if  l[i] > lar:\n",
    "            slar = lar\n",
    "            lar = l[i]\n",
    "    return slar\n",
    "            \n",
    "li = [10,70,50,20,30,100]\n",
    "print(f\"Second largest of \",li,\"=\",SecondlargestEleList(li))"
   ]
  },
  {
   "cell_type": "code",
   "execution_count": 17,
   "id": "82bc7271",
   "metadata": {},
   "outputs": [
    {
     "name": "stdout",
     "output_type": "stream",
     "text": [
      "[100, 70, 50]\n"
     ]
    }
   ],
   "source": [
    "# 6. Write a Python program to find N largest elements from a list?\n",
    "\n",
    "l = [10,70,50,20,30,100]\n",
    "larlist = []\n",
    "N = 3\n",
    "for i in range(N):\n",
    "    larlist.append(max(l))\n",
    "    l.remove(max(l))\n",
    "print(larlist)\n",
    "        \n",
    "        "
   ]
  },
  {
   "cell_type": "code",
   "execution_count": 19,
   "id": "896a798e",
   "metadata": {},
   "outputs": [
    {
     "name": "stdout",
     "output_type": "stream",
     "text": [
      "10 50 30 "
     ]
    }
   ],
   "source": [
    "# 7. Write a Python program to print even numbers in a list?\n",
    "\n",
    "l = [10,71,50,21,30,101]\n",
    "for i in l:\n",
    "    if i % 2 == 0:\n",
    "        print(i,end =' ')"
   ]
  },
  {
   "cell_type": "code",
   "execution_count": 20,
   "id": "40227ce3",
   "metadata": {},
   "outputs": [
    {
     "name": "stdout",
     "output_type": "stream",
     "text": [
      "71 21 101 "
     ]
    }
   ],
   "source": [
    "#8. Write a Python program to print odd numbers in a List?\n",
    "l = [10,71,50,21,30,101]\n",
    "for i in l:\n",
    "    if i % 2 != 0:\n",
    "        print(i,end =' ')\n"
   ]
  },
  {
   "cell_type": "code",
   "execution_count": 22,
   "id": "c2320fa6",
   "metadata": {},
   "outputs": [
    {
     "name": "stdout",
     "output_type": "stream",
     "text": [
      "[10, [23, 45], ['a', 3, 'b']]\n"
     ]
    }
   ],
   "source": [
    "# 9. Write a Python program to Remove empty List from List?\n",
    "\n",
    "l = [10,[],[23,45],[],['a',3,'b']]\n",
    "for i in l:\n",
    "    if type(i) == list:\n",
    "        if len(i) == 0:\n",
    "            l.remove(i)\n",
    "print(l)"
   ]
  },
  {
   "cell_type": "code",
   "execution_count": 23,
   "id": "62752ea2",
   "metadata": {},
   "outputs": [
    {
     "name": "stdout",
     "output_type": "stream",
     "text": [
      "Original list:  [10, 71, 50, 21, 30, 101]\n",
      "Cloned list:  [10, 71, 50, 21, 30, 101]\n"
     ]
    }
   ],
   "source": [
    "# 10. Write a Python program to Cloning or Copying a list?\n",
    "\n",
    "def Cloning(l):\n",
    "    l_copy = l[:]\n",
    "    return l_copy\n",
    "\n",
    "l = [10,71,50,21,30,101]\n",
    "print(\"Original list: \",l)\n",
    "print(\"Cloned list: \",Cloning(l))"
   ]
  },
  {
   "cell_type": "code",
   "execution_count": 28,
   "id": "9af8558a",
   "metadata": {},
   "outputs": [
    {
     "name": "stdout",
     "output_type": "stream",
     "text": [
      "Occurrence count of  50 in l =  4\n"
     ]
    }
   ],
   "source": [
    "# 11. Write a Python program to Count occurrences of an element in a list?\n",
    "\n",
    "def occuCount(l, ele):\n",
    "    count = 0\n",
    "    for i in l:\n",
    "        if i == ele:\n",
    "            count += 1\n",
    "    return count\n",
    "\n",
    "l = [50,71,50,50,30,50]\n",
    "element = 50\n",
    "print(\"Occurrence count of \",element,\"in l = \", occuCount(l, element))"
   ]
  },
  {
   "cell_type": "code",
   "execution_count": null,
   "id": "d1b5b7dd",
   "metadata": {},
   "outputs": [],
   "source": []
  }
 ],
 "metadata": {
  "kernelspec": {
   "display_name": "Python 3 (ipykernel)",
   "language": "python",
   "name": "python3"
  },
  "language_info": {
   "codemirror_mode": {
    "name": "ipython",
    "version": 3
   },
   "file_extension": ".py",
   "mimetype": "text/x-python",
   "name": "python",
   "nbconvert_exporter": "python",
   "pygments_lexer": "ipython3",
   "version": "3.9.7"
  }
 },
 "nbformat": 4,
 "nbformat_minor": 5
}
