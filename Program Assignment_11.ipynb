{
 "cells": [
  {
   "cell_type": "code",
   "execution_count": 7,
   "id": "aceb0fe2",
   "metadata": {},
   "outputs": [
    {
     "name": "stdout",
     "output_type": "stream",
     "text": [
      "beautiful\n",
      "amazing\n"
     ]
    }
   ],
   "source": [
    "# 1. Write a Python program to find words which are greater than given length k?\n",
    "\n",
    "givenLength = 5\n",
    "\n",
    "string = \"Hello world is beautiful and amazing\"\n",
    "\n",
    "string_list = string.split(' ')\n",
    "\n",
    "for word in string_list:\n",
    "    if len(word) > givenLength:\n",
    "        print(word)\n",
    "    "
   ]
  },
  {
   "cell_type": "code",
   "execution_count": 9,
   "id": "5cea2ebd",
   "metadata": {},
   "outputs": [
    {
     "name": "stdout",
     "output_type": "stream",
     "text": [
      "Enter index: 10\n",
      "Letter at index 10 is: d\n"
     ]
    }
   ],
   "source": [
    "# 2. Write a Python program for removing i-th character from a string?\n",
    "\n",
    "n = int(input(\"Enter index: \"))\n",
    "\n",
    "string = \"Hello world is beautiful and amazing\"\n",
    "\n",
    "print(f\"Letter at index {n} is: {string[n]}\")\n"
   ]
  },
  {
   "cell_type": "code",
   "execution_count": 20,
   "id": "d429dca5",
   "metadata": {},
   "outputs": [
    {
     "name": "stdout",
     "output_type": "stream",
     "text": [
      "Splitted words...\n",
      "Hello\n",
      "world\n",
      "is\n",
      "beautiful\n",
      "and\n",
      "amazing\n",
      "\n",
      "String after joining...\n",
      "Hello world is beautiful and amazing\n"
     ]
    }
   ],
   "source": [
    "# 3. Write a Python program to split and join a string?\n",
    "\n",
    "string = \"Hello world is beautiful and amazing\"\n",
    "\n",
    "# Split by space\n",
    "\n",
    "string_list = string.split(' ')\n",
    "\n",
    "print(\"Splitted words...\")\n",
    "\n",
    "for word in string_list:\n",
    "    print(word)\n",
    "\n",
    "print('\\nString after joining...')\n",
    "print(' '.join(string_list))"
   ]
  },
  {
   "cell_type": "code",
   "execution_count": 23,
   "id": "b7367771",
   "metadata": {},
   "outputs": [
    {
     "name": "stdout",
     "output_type": "stream",
     "text": [
      "010011011 is a binary string\n"
     ]
    }
   ],
   "source": [
    "# 4. Write a Python to check if a given string is binary string or not?\n",
    "\n",
    "s = {'0', '1'}\n",
    "\n",
    "flag = True\n",
    "\n",
    "string = '010011011'\n",
    "\n",
    "for i in string:\n",
    "    if i in s:\n",
    "        continue\n",
    "    else:\n",
    "        flag = False\n",
    "        break\n",
    "\n",
    "if flag:\n",
    "    print(f\"{string} is a binary string\")\n",
    "else:\n",
    "     print(f\"{string} is not a binary string\")"
   ]
  },
  {
   "cell_type": "code",
   "execution_count": 28,
   "id": "b67e0786",
   "metadata": {},
   "outputs": [
    {
     "name": "stdout",
     "output_type": "stream",
     "text": [
      "['world', 'amazing', 'earth', 'stunning']\n"
     ]
    }
   ],
   "source": [
    "# 5. Write a Python program to find uncommon words from two Strings?\n",
    "\n",
    "string = \"Hello world is beautiful and amazing\"\n",
    "\n",
    "string1 = \"Hello earth is beautiful and stunning\"\n",
    "\n",
    "un_comm = [i for i in \"\".join(string).split() if i not in \"\".join(string1).split()]\n",
    "un_comm1 = [i for i in \"\".join(string1).split() if i not in \"\".join(string).split()]\n",
    "\n",
    "print(un_comm + un_comm1)"
   ]
  },
  {
   "cell_type": "code",
   "execution_count": 31,
   "id": "7f9bef85",
   "metadata": {},
   "outputs": [
    {
     "name": "stdout",
     "output_type": "stream",
     "text": [
      "Duplicate characters \n",
      "e\n",
      "l\n",
      "o\n",
      "d\n",
      "i\n",
      "a\n",
      "u\n",
      "n\n"
     ]
    }
   ],
   "source": [
    "#6. Write a Python to find all duplicate characters in string?\n",
    "\n",
    "string = \"Hello world is beautiful and amazing\"\n",
    "\n",
    "print(\"Duplicate characters \")\n",
    "\n",
    "for i in range(0, len(string)):  \n",
    "    count = 1  \n",
    "    for j in range(i+1, len(string)):  \n",
    "        if(string[i] == string[j] and string[i] != ' '):  \n",
    "            count = count + 1  \n",
    "            string = string[:j] + '0' + string[j+1:]  \n",
    "   \n",
    "    if(count > 1 and string[i] != '0'):  \n",
    "        print(string[i])  \n",
    "    "
   ]
  },
  {
   "cell_type": "code",
   "execution_count": 37,
   "id": "416159c0",
   "metadata": {},
   "outputs": [
    {
     "name": "stdout",
     "output_type": "stream",
     "text": [
      "String contains special characters\n"
     ]
    }
   ],
   "source": [
    "# 7. Write a Python Program to check if a string contains any special character?\n",
    "\n",
    "\n",
    "string = \"Hello @world is beau#tiful and ama_zing98\"\n",
    "\n",
    "flag = True\n",
    "\n",
    "for i in string:\n",
    "    if i.isalpha() or i.isdigit():\n",
    "        continue\n",
    "    else:\n",
    "        flag = False\n",
    "        break\n",
    "if flag:\n",
    "    print('String contains no special characters')\n",
    "else:\n",
    "    print('String contains special characters')"
   ]
  },
  {
   "cell_type": "code",
   "execution_count": null,
   "id": "dda1aa11",
   "metadata": {},
   "outputs": [],
   "source": []
  }
 ],
 "metadata": {
  "kernelspec": {
   "display_name": "Python 3 (ipykernel)",
   "language": "python",
   "name": "python3"
  },
  "language_info": {
   "codemirror_mode": {
    "name": "ipython",
    "version": 3
   },
   "file_extension": ".py",
   "mimetype": "text/x-python",
   "name": "python",
   "nbconvert_exporter": "python",
   "pygments_lexer": "ipython3",
   "version": "3.9.7"
  }
 },
 "nbformat": 4,
 "nbformat_minor": 5
}
