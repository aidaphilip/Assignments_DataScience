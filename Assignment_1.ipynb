{
 "cells": [
  {
   "cell_type": "markdown",
   "id": "4a52c00a",
   "metadata": {},
   "source": [
    "1. In the below elements which of them are values or an expression? eg:- values can be integer or string and       expressions will be mathematical operators.\n",
    "\n",
    "   Answer: \n",
    "          'hello', -87.8, 6 are values and *, -, /, + are expressions(Mathematical operators.)"
   ]
  },
  {
   "cell_type": "markdown",
   "id": "61556098",
   "metadata": {},
   "source": [
    "2. What is the difference between string and variable?\n",
    "\n",
    "   Answer:\n",
    "          String:- String is group of characters enclosed within \"\" or ''.\n",
    "                eg: \"Hello World!\", 'World is beautiful'\n",
    "                \n",
    "          Variable:- Variable is a memory location to store values. It is represented by a symbolic name.\n",
    "                eg:- a = 10, s_name = \"Tess Jay\"\n",
    "         "
   ]
  },
  {
   "cell_type": "code",
   "execution_count": 4,
   "id": "7988e108",
   "metadata": {},
   "outputs": [
    {
     "data": {
      "text/plain": [
       "'Hello World!'"
      ]
     },
     "execution_count": 4,
     "metadata": {},
     "output_type": "execute_result"
    }
   ],
   "source": [
    "# Eg:- String\n",
    "\"Hello World!\""
   ]
  },
  {
   "cell_type": "code",
   "execution_count": 5,
   "id": "cbe1048f",
   "metadata": {},
   "outputs": [
    {
     "data": {
      "text/plain": [
       "'World is beautiful.'"
      ]
     },
     "execution_count": 5,
     "metadata": {},
     "output_type": "execute_result"
    }
   ],
   "source": [
    "'World is beautiful.'"
   ]
  },
  {
   "cell_type": "code",
   "execution_count": 8,
   "id": "bd9d24a0",
   "metadata": {},
   "outputs": [],
   "source": [
    "# Eg:- Variables\n",
    "a, s_name = 10, \"Tess Jay\""
   ]
  },
  {
   "cell_type": "code",
   "execution_count": 9,
   "id": "5c28c138",
   "metadata": {},
   "outputs": [
    {
     "data": {
      "text/plain": [
       "10"
      ]
     },
     "execution_count": 9,
     "metadata": {},
     "output_type": "execute_result"
    }
   ],
   "source": [
    "a"
   ]
  },
  {
   "cell_type": "code",
   "execution_count": 10,
   "id": "6eeed07b",
   "metadata": {},
   "outputs": [
    {
     "data": {
      "text/plain": [
       "'Tess Jay'"
      ]
     },
     "execution_count": 10,
     "metadata": {},
     "output_type": "execute_result"
    }
   ],
   "source": [
    "s_name"
   ]
  },
  {
   "cell_type": "markdown",
   "id": "96d2df5f",
   "metadata": {},
   "source": [
    "3. Describe three different data types.\n",
    "   \n",
    "    Answer:\n",
    "        1. Integer:- Integer data type represents zero, positive and negative whole numbers. \n",
    "            int() function converts a string or a float to int.\n",
    "            \n",
    "        2. Float:- Float is used to represent positive or negative real numbers with a fractional part as well.\n",
    "                   float() fuction converts a string or an int to float.\n",
    "                   \n",
    "        3. Bool:- Bool is used to represent True or False values. \n",
    "                  True has value 1 and False has value 0.\n",
    "            \n",
    "            Examples are given below:-\n",
    "            "
   ]
  },
  {
   "cell_type": "code",
   "execution_count": 11,
   "id": "32b74cbc",
   "metadata": {},
   "outputs": [],
   "source": [
    "# Eg:- Integer data type\n",
    "a = 10"
   ]
  },
  {
   "cell_type": "code",
   "execution_count": 12,
   "id": "47f7c7b8",
   "metadata": {},
   "outputs": [
    {
     "data": {
      "text/plain": [
       "int"
      ]
     },
     "execution_count": 12,
     "metadata": {},
     "output_type": "execute_result"
    }
   ],
   "source": [
    "type(a)"
   ]
  },
  {
   "cell_type": "code",
   "execution_count": 1,
   "id": "55703ac8",
   "metadata": {},
   "outputs": [
    {
     "data": {
      "text/plain": [
       "str"
      ]
     },
     "execution_count": 1,
     "metadata": {},
     "output_type": "execute_result"
    }
   ],
   "source": [
    "# Eg:- String data type\n",
    "a = '10'\n",
    "type(a)"
   ]
  },
  {
   "cell_type": "code",
   "execution_count": 15,
   "id": "f7076807",
   "metadata": {},
   "outputs": [
    {
     "data": {
      "text/plain": [
       "10"
      ]
     },
     "execution_count": 15,
     "metadata": {},
     "output_type": "execute_result"
    }
   ],
   "source": [
    "a = int(10.5)\n",
    "a"
   ]
  },
  {
   "cell_type": "code",
   "execution_count": 16,
   "id": "e8dec39b",
   "metadata": {},
   "outputs": [
    {
     "data": {
      "text/plain": [
       "int"
      ]
     },
     "execution_count": 16,
     "metadata": {},
     "output_type": "execute_result"
    }
   ],
   "source": [
    "type(a)"
   ]
  },
  {
   "cell_type": "code",
   "execution_count": 17,
   "id": "b0158eeb",
   "metadata": {},
   "outputs": [
    {
     "data": {
      "text/plain": [
       "10.0"
      ]
     },
     "execution_count": 17,
     "metadata": {},
     "output_type": "execute_result"
    }
   ],
   "source": [
    "float(10)"
   ]
  },
  {
   "cell_type": "code",
   "execution_count": 18,
   "id": "b9c565ea",
   "metadata": {},
   "outputs": [
    {
     "data": {
      "text/plain": [
       "10.9"
      ]
     },
     "execution_count": 18,
     "metadata": {},
     "output_type": "execute_result"
    }
   ],
   "source": [
    "float('10.90')"
   ]
  },
  {
   "cell_type": "code",
   "execution_count": 20,
   "id": "a745c245",
   "metadata": {},
   "outputs": [
    {
     "data": {
      "text/plain": [
       "23.456"
      ]
     },
     "execution_count": 20,
     "metadata": {},
     "output_type": "execute_result"
    }
   ],
   "source": [
    "a = '23.456'\n",
    "float(a)"
   ]
  },
  {
   "cell_type": "code",
   "execution_count": 2,
   "id": "7e05b003",
   "metadata": {},
   "outputs": [
    {
     "data": {
      "text/plain": [
       "True"
      ]
     },
     "execution_count": 2,
     "metadata": {},
     "output_type": "execute_result"
    }
   ],
   "source": [
    "# Eg:- bool data type\n",
    "flag = True\n",
    "flag"
   ]
  },
  {
   "cell_type": "code",
   "execution_count": 23,
   "id": "b6d938c4",
   "metadata": {},
   "outputs": [
    {
     "data": {
      "text/plain": [
       "False"
      ]
     },
     "execution_count": 23,
     "metadata": {},
     "output_type": "execute_result"
    }
   ],
   "source": [
    "flag = False\n",
    "flag"
   ]
  },
  {
   "cell_type": "code",
   "execution_count": 26,
   "id": "460ed352",
   "metadata": {},
   "outputs": [
    {
     "data": {
      "text/plain": [
       "True"
      ]
     },
     "execution_count": 26,
     "metadata": {},
     "output_type": "execute_result"
    }
   ],
   "source": [
    "a = True - False\n",
    "bool(a)"
   ]
  },
  {
   "cell_type": "code",
   "execution_count": 27,
   "id": "a9b3aff3",
   "metadata": {},
   "outputs": [
    {
     "data": {
      "text/plain": [
       "1"
      ]
     },
     "execution_count": 27,
     "metadata": {},
     "output_type": "execute_result"
    }
   ],
   "source": [
    "a"
   ]
  },
  {
   "cell_type": "code",
   "execution_count": 28,
   "id": "cb44bc59",
   "metadata": {},
   "outputs": [
    {
     "data": {
      "text/plain": [
       "int"
      ]
     },
     "execution_count": 28,
     "metadata": {},
     "output_type": "execute_result"
    }
   ],
   "source": [
    "type(a)"
   ]
  },
  {
   "cell_type": "code",
   "execution_count": 29,
   "id": "b3f6f688",
   "metadata": {},
   "outputs": [
    {
     "data": {
      "text/plain": [
       "bool"
      ]
     },
     "execution_count": 29,
     "metadata": {},
     "output_type": "execute_result"
    }
   ],
   "source": [
    "b = bool(a)\n",
    "type(b)"
   ]
  },
  {
   "cell_type": "code",
   "execution_count": 30,
   "id": "7120f263",
   "metadata": {},
   "outputs": [
    {
     "data": {
      "text/plain": [
       "True"
      ]
     },
     "execution_count": 30,
     "metadata": {},
     "output_type": "execute_result"
    }
   ],
   "source": [
    "b"
   ]
  },
  {
   "cell_type": "markdown",
   "id": "04ae91ce",
   "metadata": {},
   "source": [
    "4. What is an expression made up of? What do all expressions do?\n",
    "\n",
    "   Answer:\n",
    "        An expression is made up of operands and operators.\n",
    "        Each expression is evaluated to produce a particular value result. \n",
    "        An expression is being evaluated according to operator precedence. \n",
    "        \n",
    "        Examples are given below:-"
   ]
  },
  {
   "cell_type": "code",
   "execution_count": 33,
   "id": "58ce5449",
   "metadata": {},
   "outputs": [
    {
     "name": "stdout",
     "output_type": "stream",
     "text": [
      "Sum =  300\n",
      "Difference =  100\n",
      "Product =  20000\n",
      "Division =  2.0\n"
     ]
    }
   ],
   "source": [
    "x = 200\n",
    "y = 100\n",
    "  \n",
    "sum = x + y\n",
    "difference = x - y\n",
    "product = x * y\n",
    "division = x / y\n",
    "  \n",
    "print('Sum = ',sum)\n",
    "print('Difference = ',difference)\n",
    "print('Product = ',product)\n",
    "print('Division = ',division)"
   ]
  },
  {
   "cell_type": "markdown",
   "id": "9bbf88b9",
   "metadata": {},
   "source": [
    "5. This assignment statements, like spam = 10. What is the difference between an\n",
    "expression and a statement?\n",
    "\n",
    "   Answer:\n",
    "        An expression is a combination of operands, operator, values and functions. A python interpretor\n",
    "        interprets it to produce a value.\n",
    "        \n",
    "        A statement is an instruction. Python interpretor can execute it to carry out a particular task.\n",
    "        \n",
    "        Examples are given below:-"
   ]
  },
  {
   "cell_type": "code",
   "execution_count": 3,
   "id": "c9a3ddb8",
   "metadata": {},
   "outputs": [
    {
     "name": "stdout",
     "output_type": "stream",
     "text": [
      "a =  12 b =  45\n"
     ]
    }
   ],
   "source": [
    "# Statements\n",
    "a = 12\n",
    "b = 45\n",
    "print('a = ', a, 'b = ', b)\n",
    "\n",
    "# Expression\n",
    "result =  a + b - (3+7)"
   ]
  },
  {
   "cell_type": "markdown",
   "id": "8085451c",
   "metadata": {},
   "source": [
    "6. After running the following code, what does the variable bacon contain?\n",
    "bacon = 22\n",
    "bacon + 1\n",
    "\n",
    "Answer:\n",
    "      'bacon' will contain 22"
   ]
  },
  {
   "cell_type": "code",
   "execution_count": 4,
   "id": "7ee74d56",
   "metadata": {},
   "outputs": [
    {
     "name": "stdout",
     "output_type": "stream",
     "text": [
      "bacon =  22\n"
     ]
    }
   ],
   "source": [
    "bacon = 22\n",
    "bacon + 1\n",
    "\n",
    "print('bacon = ', bacon)"
   ]
  },
  {
   "cell_type": "markdown",
   "id": "382c0a01",
   "metadata": {},
   "source": [
    "7. What should the values of the following two terms be?\n",
    "'spam' + 'spamspam'\n",
    "'spam' * 3\n",
    "\n",
    "Answer: spamspamspam \n",
    "        Both expressions will produce the same result. This is an example for string concatenation."
   ]
  },
  {
   "cell_type": "code",
   "execution_count": 5,
   "id": "c3b6f7ce",
   "metadata": {},
   "outputs": [
    {
     "data": {
      "text/plain": [
       "'spamspamspam'"
      ]
     },
     "execution_count": 5,
     "metadata": {},
     "output_type": "execute_result"
    }
   ],
   "source": [
    "# Answer \n",
    "'spam' + 'spamspam'"
   ]
  },
  {
   "cell_type": "code",
   "execution_count": 6,
   "id": "d5a009a0",
   "metadata": {},
   "outputs": [
    {
     "data": {
      "text/plain": [
       "'spamspamspam'"
      ]
     },
     "execution_count": 6,
     "metadata": {},
     "output_type": "execute_result"
    }
   ],
   "source": [
    "'spam' * 3"
   ]
  },
  {
   "cell_type": "markdown",
   "id": "656af11a",
   "metadata": {},
   "source": [
    "8. Why is eggs a valid variable name while 100 is invalid?\n",
    "\n",
    "Answer: A variable name can be a combination of alphanumeric characters and underscore character. \n",
    "        It must not start with a digit or number.\n",
    "        'eggs' is a valid variable name as it is a combination of alphabetic characters. \n",
    "        100 is an invalid variable name as it is a literal."
   ]
  },
  {
   "cell_type": "code",
   "execution_count": 14,
   "id": "d1b56931",
   "metadata": {},
   "outputs": [
    {
     "ename": "SyntaxError",
     "evalue": "cannot assign to literal (2273873508.py, line 2)",
     "output_type": "error",
     "traceback": [
      "\u001b[0;36m  File \u001b[0;32m\"/var/folders/_5/01nbllds2m75j2trb0dt5d4m0000gn/T/ipykernel_1027/2273873508.py\"\u001b[0;36m, line \u001b[0;32m2\u001b[0m\n\u001b[0;31m    100 = 'Invalid'\u001b[0m\n\u001b[0m    ^\u001b[0m\n\u001b[0;31mSyntaxError\u001b[0m\u001b[0;31m:\u001b[0m cannot assign to literal\n"
     ]
    }
   ],
   "source": [
    "eggs = 12\n",
    "100 = 'Invalid'"
   ]
  },
  {
   "cell_type": "markdown",
   "id": "ede4a635",
   "metadata": {},
   "source": [
    "9. What three functions can be used to get the integer, floating-point number, or string version of a value?\n",
    "   \n",
    "   Answer:\n",
    "          int() is used to get integer version of a value.\n",
    "          float() is used to get float version of a value.\n",
    "          str() is used to get string version of a value.\n",
    "        \n",
    "   Examples are given below:-"
   ]
  },
  {
   "cell_type": "code",
   "execution_count": 16,
   "id": "af7d6c2d",
   "metadata": {},
   "outputs": [
    {
     "name": "stdout",
     "output_type": "stream",
     "text": [
      "a =  100 \n",
      "b =  100 \n",
      "c =  100.0 \n",
      "d =  100.5 \n",
      "e =  100.5\n"
     ]
    }
   ],
   "source": [
    "a = int('100')\n",
    "b = int(100.50)\n",
    "c = float(100)\n",
    "d = float(100.50)\n",
    "e = str(100.50)\n",
    "print('a = ',a , '\\nb = ',b , '\\nc = ',c ,'\\nd = ',d, '\\ne = ',e)"
   ]
  },
  {
   "cell_type": "code",
   "execution_count": 17,
   "id": "45686bc7",
   "metadata": {},
   "outputs": [
    {
     "data": {
      "text/plain": [
       "int"
      ]
     },
     "execution_count": 17,
     "metadata": {},
     "output_type": "execute_result"
    }
   ],
   "source": [
    "type(a)"
   ]
  },
  {
   "cell_type": "code",
   "execution_count": 18,
   "id": "897169ae",
   "metadata": {},
   "outputs": [
    {
     "data": {
      "text/plain": [
       "int"
      ]
     },
     "execution_count": 18,
     "metadata": {},
     "output_type": "execute_result"
    }
   ],
   "source": [
    "type(b)"
   ]
  },
  {
   "cell_type": "code",
   "execution_count": 19,
   "id": "2cacac1f",
   "metadata": {},
   "outputs": [
    {
     "data": {
      "text/plain": [
       "float"
      ]
     },
     "execution_count": 19,
     "metadata": {},
     "output_type": "execute_result"
    }
   ],
   "source": [
    "type(c)"
   ]
  },
  {
   "cell_type": "code",
   "execution_count": 20,
   "id": "ad74a3ed",
   "metadata": {},
   "outputs": [
    {
     "data": {
      "text/plain": [
       "float"
      ]
     },
     "execution_count": 20,
     "metadata": {},
     "output_type": "execute_result"
    }
   ],
   "source": [
    "type(d)"
   ]
  },
  {
   "cell_type": "code",
   "execution_count": 21,
   "id": "0f5c2396",
   "metadata": {},
   "outputs": [
    {
     "data": {
      "text/plain": [
       "str"
      ]
     },
     "execution_count": 21,
     "metadata": {},
     "output_type": "execute_result"
    }
   ],
   "source": [
    "type(e)"
   ]
  },
  {
   "cell_type": "markdown",
   "id": "0b69ca8e",
   "metadata": {},
   "source": [
    "10. Why does this expression cause an error? How can you fix it?\n",
    "'I have eaten ' + 99 + ' burritos.'\n",
    "\n",
    " Anser: \n",
    "        The above expression causes TypeError as concatenation operation can be carried out between two or more\n",
    "        strings and it is not possible between int and str.\n",
    "        \n",
    "        This error can be corrected by type casting int to str.\n",
    "        \n",
    "        'I have eaten' + str(99) + 'burritos.'\n",
    "                   \n",
    "                          or\n",
    "        \n",
    "        'I have eaten' + '99' + 'burritos.'\n",
    "        "
   ]
  },
  {
   "cell_type": "code",
   "execution_count": 23,
   "id": "30f77558",
   "metadata": {},
   "outputs": [
    {
     "data": {
      "text/plain": [
       "'I have eaten 99 burritos.'"
      ]
     },
     "execution_count": 23,
     "metadata": {},
     "output_type": "execute_result"
    }
   ],
   "source": [
    "'I have eaten ' + '99' + ' burritos.'"
   ]
  },
  {
   "cell_type": "code",
   "execution_count": 25,
   "id": "1b4010da",
   "metadata": {},
   "outputs": [
    {
     "data": {
      "text/plain": [
       "'I have eaten 99 burritos.'"
      ]
     },
     "execution_count": 25,
     "metadata": {},
     "output_type": "execute_result"
    }
   ],
   "source": [
    "'I have eaten ' + str(99) + ' burritos.'"
   ]
  },
  {
   "cell_type": "code",
   "execution_count": null,
   "id": "a6f1281f",
   "metadata": {},
   "outputs": [],
   "source": []
  }
 ],
 "metadata": {
  "kernelspec": {
   "display_name": "Python 3 (ipykernel)",
   "language": "python",
   "name": "python3"
  },
  "language_info": {
   "codemirror_mode": {
    "name": "ipython",
    "version": 3
   },
   "file_extension": ".py",
   "mimetype": "text/x-python",
   "name": "python",
   "nbconvert_exporter": "python",
   "pygments_lexer": "ipython3",
   "version": "3.9.7"
  }
 },
 "nbformat": 4,
 "nbformat_minor": 5
}
