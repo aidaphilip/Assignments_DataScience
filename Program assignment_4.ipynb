{
 "cells": [
  {
   "cell_type": "code",
   "execution_count": 47,
   "id": "b9fb5599",
   "metadata": {},
   "outputs": [
    {
     "name": "stdout",
     "output_type": "stream",
     "text": [
      "Enter a number: 5\n",
      "5! = 120\n"
     ]
    }
   ],
   "source": [
    "# 1. Write a Python Program to Find the Factorial of a Number?\n",
    "\n",
    "number = int(input(\"Enter a number: \"))\n",
    "\n",
    "fact = 1\n",
    "\n",
    "for i in range(number, 0, -1):\n",
    "    fact = fact * i\n",
    "\n",
    "print(str(number) + \"! = \"+ str(fact))"
   ]
  },
  {
   "cell_type": "code",
   "execution_count": 29,
   "id": "56482074",
   "metadata": {},
   "outputs": [
    {
     "name": "stdin",
     "output_type": "stream",
     "text": [
      "Enter the size:  5\n"
     ]
    },
    {
     "name": "stdout",
     "output_type": "stream",
     "text": [
      "  * |         1         2         3         4         5\n",
      "-------------------------------------------------------\n",
      "  1 |         1         2         3         4         5\n",
      "  2 |         2         4         6         8        10\n",
      "  3 |         3         6         9        12        15\n",
      "  4 |         4         8        12        16        20\n",
      "  5 |         5        10        15        20        25\n"
     ]
    }
   ],
   "source": [
    "# 2. Write a Python Program to Display the multiplication Table?\n",
    "\n",
    "number = int(input(\"Enter the size: \"))\n",
    "\n",
    "print('* |'. rjust(5),end = '')\n",
    "\n",
    "for i in range(1, number+1):\n",
    "    print(str(i). rjust(10),end = '')\n",
    "print('')\n",
    "for i in range(0, number*11):\n",
    "    print('-',end='')\n",
    "    \n",
    "print()\n",
    "for i in range(1, number+1):\n",
    "    print((str(i)+' |'). rjust(5),end='')\n",
    "    for j in range(1, number+1):\n",
    "        print((str(i*j)). rjust(10),end='')\n",
    "    print()"
   ]
  },
  {
   "cell_type": "code",
   "execution_count": 7,
   "id": "d529848f",
   "metadata": {},
   "outputs": [
    {
     "name": "stdout",
     "output_type": "stream",
     "text": [
      "Enter the limit: 10\n",
      "0 1 1 2 3 5 8 13 21 34 "
     ]
    }
   ],
   "source": [
    "# 3. Write a Python Program to Print the Fibonacci sequence?\n",
    "\n",
    "num = int(input(\"Enter the limit: \"))\n",
    "\n",
    "n1, n2 = 0, 1\n",
    "\n",
    "print(n1,end=' ')\n",
    "\n",
    "count = 0\n",
    "\n",
    "while count < num-1:\n",
    "    n = n1 + n2\n",
    "    # update values\n",
    "    n1 = n2\n",
    "    n2 = n\n",
    "    print(n1, end=' ')\n",
    "    count += 1"
   ]
  },
  {
   "cell_type": "code",
   "execution_count": 16,
   "id": "55fa6954",
   "metadata": {},
   "outputs": [
    {
     "name": "stdin",
     "output_type": "stream",
     "text": [
      "Enter the number:  153\n"
     ]
    },
    {
     "name": "stdout",
     "output_type": "stream",
     "text": [
      "Armstrong number\n"
     ]
    }
   ],
   "source": [
    "# 4. Write a Python Program to Check Armstrong Number?\n",
    "\n",
    "num = int(input(\"Enter the number: \"))\n",
    "\n",
    "cnum = num\n",
    "\n",
    "cube = 3\n",
    "\n",
    "sum = 0\n",
    "\n",
    "while cnum > 0:\n",
    "    remainder = cnum%10\n",
    "    sum = sum + (remainder ** cube)\n",
    "    cnum = int(cnum/10)\n",
    "\n",
    "if sum == num:\n",
    "    print(\"Armstrong number\")\n",
    "else:\n",
    "    print(\"Number is not armstrong number\")"
   ]
  },
  {
   "cell_type": "code",
   "execution_count": 26,
   "id": "9dc80171-9fd8-4b80-b0aa-669a16a14b9e",
   "metadata": {},
   "outputs": [
    {
     "name": "stdin",
     "output_type": "stream",
     "text": [
      "Enter an interval: \n",
      " 100\n",
      " 500\n"
     ]
    },
    {
     "name": "stdout",
     "output_type": "stream",
     "text": [
      "\n",
      "Armstrong numbers between  100 and 500 are: \n",
      "\n",
      "153\n",
      "370\n",
      "371\n",
      "407\n"
     ]
    }
   ],
   "source": [
    "# 5. Write a Python Program to find Armstrong Number in an interval?\n",
    "\n",
    "a = int(input(\"Enter an interval: \\n\"))\n",
    "b = int(input())\n",
    "\n",
    "print(\"\\nArmstrong numbers between \",a, \"and\",b, \"are: \\n\") \n",
    "for i in range(a,b):\n",
    "    cnum = i\n",
    "    sum = 0\n",
    "\n",
    "    while cnum > 0:\n",
    "        remainder = cnum%10\n",
    "        sum = sum + (remainder ** cube)\n",
    "        cnum = int(cnum/10)\n",
    "\n",
    "    if sum == i:\n",
    "        print(sum)"
   ]
  },
  {
   "cell_type": "code",
   "execution_count": 28,
   "id": "bd357ef5-28c4-4fb5-aff3-64b1c994c18f",
   "metadata": {},
   "outputs": [
    {
     "name": "stdin",
     "output_type": "stream",
     "text": [
      "Enter upper limit:  100\n"
     ]
    },
    {
     "name": "stdout",
     "output_type": "stream",
     "text": [
      "Sum of first 100 natural numbers = 5050\n"
     ]
    }
   ],
   "source": [
    "#6. Write a Python program to find the sum of Natural numbers\n",
    "\n",
    "n = int(input(\"Enter upper limit: \"))\n",
    "\n",
    "sum = int(n * (n+1)/2)\n",
    "\n",
    "print(\"Sum of first\",n,\"natural numbers =\",sum)"
   ]
  }
 ],
 "metadata": {
  "kernelspec": {
   "display_name": "Python 3 (ipykernel)",
   "language": "python",
   "name": "python3"
  },
  "language_info": {
   "codemirror_mode": {
    "name": "ipython",
    "version": 3
   },
   "file_extension": ".py",
   "mimetype": "text/x-python",
   "name": "python",
   "nbconvert_exporter": "python",
   "pygments_lexer": "ipython3",
   "version": "3.9.7"
  }
 },
 "nbformat": 4,
 "nbformat_minor": 5
}
