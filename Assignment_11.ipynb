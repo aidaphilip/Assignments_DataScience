{
 "cells": [
  {
   "cell_type": "markdown",
   "id": "b20ce5f7",
   "metadata": {},
   "source": [
    "1. Create an assert statement that throws an AssertionError if the variable spam is a negative\n",
    "integer.\n",
    "\n",
    "    Answer:-\n",
    "        "
   ]
  },
  {
   "cell_type": "code",
   "execution_count": 8,
   "id": "8bcea1ad",
   "metadata": {},
   "outputs": [
    {
     "name": "stdout",
     "output_type": "stream",
     "text": [
      "Spam =  5\n",
      "Negative integer\n"
     ]
    }
   ],
   "source": [
    "def evalSpam(spam):\n",
    "    try:\n",
    "        assert int(spam) > 0, \"Negative integer\"\n",
    "        print('Spam = ', spam)\n",
    "    # the errror_message provided by the user gets printed\n",
    "    except AssertionError as msg:\n",
    "        print(msg)\n",
    "    \n",
    "    \n",
    "evalSpam(5)\n",
    "evalSpam(-5)"
   ]
  },
  {
   "cell_type": "markdown",
   "id": "57ae2e1b",
   "metadata": {},
   "source": [
    "2. Write an assert statement that triggers an AssertionError if the variables eggs and bacon contain\n",
    "strings that are the same as each other, even if their cases are different (that is, 'hello' and 'hello' are\n",
    "considered the same, and 'goodbye' and 'GOODbye' are also considered the same).\n",
    "\n",
    "    Answer:-\n",
    "        "
   ]
  },
  {
   "cell_type": "code",
   "execution_count": 12,
   "id": "225e4e5a",
   "metadata": {},
   "outputs": [
    {
     "name": "stdout",
     "output_type": "stream",
     "text": [
      "Both strings are same\n",
      "Both strings are same\n",
      "eggs =  hello  and  bacon =  goodbye\n"
     ]
    }
   ],
   "source": [
    "def evalStrings(eggs,bacon):\n",
    "    eggs = eggs.lower().strip()\n",
    "    bacon = bacon.lower().strip()\n",
    "    try:\n",
    "        assert eggs != bacon, \"Both strings are same\"\n",
    "        print('eggs = ', eggs, ' and ', 'bacon = ', bacon)\n",
    "    except AssertionError as msg:\n",
    "        print(msg)\n",
    "        \n",
    "evalStrings('hello','hello')\n",
    "evalStrings('goodbye','GOODbye')\n",
    "evalStrings('hello','goodbye')"
   ]
  },
  {
   "cell_type": "markdown",
   "id": "0d21e3e3",
   "metadata": {},
   "source": [
    "3. Create an assert statement that throws an AssertionError every time.\n",
    "    \n",
    "    Answer:-"
   ]
  },
  {
   "cell_type": "code",
   "execution_count": 14,
   "id": "046671c0",
   "metadata": {},
   "outputs": [
    {
     "name": "stdout",
     "output_type": "stream",
     "text": [
      "One is equal to one\n"
     ]
    }
   ],
   "source": [
    "try:\n",
    "    assert 1 != 1, 'One is equal to one'\n",
    "    print('Hello World')\n",
    "except AssertionError as msg:\n",
    "        print(msg)"
   ]
  },
  {
   "cell_type": "markdown",
   "id": "547ba257",
   "metadata": {},
   "source": [
    "4. What are the two lines that must be present in your software in order to call logging.debug()?\n",
    "\n",
    "    Answer:-\n",
    "    \n",
    "        import logging\n",
    "        \n",
    "        logging.basicConfig(level=logging.DEBUG)"
   ]
  },
  {
   "cell_type": "markdown",
   "id": "6f073793",
   "metadata": {},
   "source": [
    "5. What are the two lines that your program must have in order to have logging.debug() send a\n",
    "logging message to a file named programLog.txt?\n",
    "\n",
    "    Answer:-\n",
    "        "
   ]
  },
  {
   "cell_type": "code",
   "execution_count": 10,
   "id": "234063fd",
   "metadata": {},
   "outputs": [],
   "source": [
    "import logging\n",
    "logging.basicConfig(filename='programLog.txt', level=logging.DEBUG)\n",
    "x = 1\n",
    "logging.debug(x)"
   ]
  },
  {
   "cell_type": "markdown",
   "id": "6fac47ad",
   "metadata": {},
   "source": [
    "6. What are the five levels of logging?\n",
    "\n",
    "    Answer:-\n",
    "        DEBUG, INFO, WARNING, ERROR, and CRITICAL"
   ]
  },
  {
   "cell_type": "markdown",
   "id": "753b92a3",
   "metadata": {},
   "source": [
    "7. What line of code would you add to your software to disable all logging messages?\n",
    "\n",
    "    Answer:-\n",
    "        \n",
    "        logger = logging.getLogger('my-logger')\n",
    "        logger.propagate = False"
   ]
  },
  {
   "cell_type": "markdown",
   "id": "05ef950d",
   "metadata": {},
   "source": [
    "8.Why is using logging messages better than using print() to display the same message?\n",
    "\n",
    "    Answer:-\n",
    "        \n",
    "By using a Logging framework, you can produce better outputs and metadata, which will help during troubleshooting and debug."
   ]
  },
  {
   "cell_type": "markdown",
   "id": "3176c0da",
   "metadata": {},
   "source": [
    "9. What are the differences between the Step Over, Step In, and Step Out buttons in the debugger?\n",
    "\n",
    "    Answer:-\n",
    "        \n",
    "Step Over: Executes the current statement and then stops at the next statement. If the current statement is a function or script call then the debugger executes the whole function or script, and it stops at the next statement after the function call.\n",
    "Step In: Stepping In is the process of running one statement at a time.\n",
    "Step Out: Step Out continues running code and suspends execution when the current function returns. The debugger skips through the current function."
   ]
  },
  {
   "cell_type": "markdown",
   "id": "bdcee8a2",
   "metadata": {},
   "source": [
    "10.After you click Continue, when will the debugger stop ?\n",
    "\n",
    "    Answer:-\n",
    "        Continue execution, only stop when a breakpoint is encountered."
   ]
  },
  {
   "cell_type": "markdown",
   "id": "8785bcaa",
   "metadata": {},
   "source": [
    "11. What is the concept of a breakpoint?\n",
    "    \n",
    "    Answer:-\n",
    "        A point in the processing of a program that the programmer wants to observe more closely by stopping the program and examining the contents of variables, buffers and memory. Part of the debugging function, lines of code are marked as breakpoints. "
   ]
  }
 ],
 "metadata": {
  "kernelspec": {
   "display_name": "Python 3 (ipykernel)",
   "language": "python",
   "name": "python3"
  },
  "language_info": {
   "codemirror_mode": {
    "name": "ipython",
    "version": 3
   },
   "file_extension": ".py",
   "mimetype": "text/x-python",
   "name": "python",
   "nbconvert_exporter": "python",
   "pygments_lexer": "ipython3",
   "version": "3.9.7"
  }
 },
 "nbformat": 4,
 "nbformat_minor": 5
}
