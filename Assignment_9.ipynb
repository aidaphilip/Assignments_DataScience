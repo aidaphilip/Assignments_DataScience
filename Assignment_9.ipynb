{
 "cells": [
  {
   "cell_type": "markdown",
   "id": "f6ce8295",
   "metadata": {},
   "source": [
    "1. To what does a relative path refer?\n",
    "\n",
    "    Answer:-\n",
    "        A relative path refers to the path related to the present working directly.\n",
    "        A filename itself is a relative path."
   ]
  },
  {
   "cell_type": "markdown",
   "id": "cf7eb6f8",
   "metadata": {},
   "source": [
    "2. What does an absolute path start with your operating system?\n",
    "\n",
    "    Answer:-\n",
    "    \n",
    "        This path will begin at the home directory of the computer.\n",
    "        "
   ]
  },
  {
   "cell_type": "markdown",
   "id": "112635c3",
   "metadata": {},
   "source": [
    "3. What do the functions os.getcwd() and os.chdir() do?\n",
    "\n",
    "    Answer:-\n",
    "        "
   ]
  },
  {
   "cell_type": "code",
   "execution_count": 6,
   "id": "2be70ce3",
   "metadata": {},
   "outputs": [
    {
     "data": {
      "text/plain": [
       "'/Users/justin/Desktop/Data Science/Assignment'"
      ]
     },
     "execution_count": 6,
     "metadata": {},
     "output_type": "execute_result"
    }
   ],
   "source": [
    "import os\n",
    "os.getcwd() # To get the current working directory"
   ]
  },
  {
   "cell_type": "markdown",
   "id": "e897d68a",
   "metadata": {},
   "source": [
    "import os\n",
    "os.chdir('/Users/justin/Desktop/Data Science/Class materials') # To change the current directory to specific directory"
   ]
  },
  {
   "cell_type": "markdown",
   "id": "e5be4f50",
   "metadata": {},
   "source": [
    "4. What are the . and .. folders?\n",
    "    \n",
    "    Answer:-\n",
    "        \n",
    "        The . is the current directory, while .. signifies the parent directory. "
   ]
  },
  {
   "cell_type": "markdown",
   "id": "14c11f37",
   "metadata": {},
   "source": [
    "5. In C:\\bacon\\eggs\\spam.txt, which part is the dir name, and which part is the base name?\n",
    "    \n",
    "    Answer:-\n",
    "        \n",
    "    C:\\bacon\\eggs is the dir name and spam. txt is the base name."
   ]
  },
  {
   "cell_type": "markdown",
   "id": "982c8287",
   "metadata": {},
   "source": [
    "6. What are the three “mode” arguments that can be passed to the open() function?\n",
    "\n",
    "    Answer:-\n",
    "        \n",
    "        r - read,\n",
    "        w - write,\n",
    "        a - append\n",
    "        \n",
    " Examples:- \n",
    "    \n",
    "    (\"abc.txt\", \"r\")\n",
    "    \n",
    "    (\"abc.txt\", \"w\")\n",
    "    \n",
    "    (\"abc.txt\", \"a\")"
   ]
  },
  {
   "cell_type": "markdown",
   "id": "13a114fd",
   "metadata": {},
   "source": [
    "7. What happens if an existing file is opened in write mode?\n",
    "\n",
    "    Answer:-\n",
    "        \n",
    "        If an existing file in opened in write mode then its contents will be discarded and it will treated as a new empty file."
   ]
  },
  {
   "cell_type": "code",
   "execution_count": null,
   "id": "7a116fc1",
   "metadata": {},
   "outputs": [],
   "source": [
    "8. How do you tell the difference between read() and readlines()?\n",
    "\n",
    "    Answer:-\n",
    "        read() will consider the file data as an individual string.\n",
    "        readlines() will return all lines of the file as elements of a list"
   ]
  },
  {
   "cell_type": "code",
   "execution_count": 15,
   "id": "8b0d66a4",
   "metadata": {},
   "outputs": [
    {
     "data": {
      "text/plain": [
       "'A list of even numbers\\n10 20 30 40 50 60 70 80 90\\nA list of odd numbers\\n11 22 33 44 55 66 77 88 99'"
      ]
     },
     "execution_count": 15,
     "metadata": {},
     "output_type": "execute_result"
    }
   ],
   "source": [
    "f = open(\"input.txt\",'r')\n",
    "f.read()"
   ]
  },
  {
   "cell_type": "code",
   "execution_count": 17,
   "id": "29725493",
   "metadata": {},
   "outputs": [
    {
     "data": {
      "text/plain": [
       "['A list of even numbers\\n',\n",
       " '10 20 30 40 50 60 70 80 90\\n',\n",
       " 'A list of odd numbers\\n',\n",
       " '11 22 33 44 55 66 77 88 99']"
      ]
     },
     "execution_count": 17,
     "metadata": {},
     "output_type": "execute_result"
    }
   ],
   "source": [
    "f = open(\"input.txt\",'r')\n",
    "f.readlines()"
   ]
  },
  {
   "cell_type": "markdown",
   "id": "6d6c05a0",
   "metadata": {},
   "source": [
    "9. What data structure does a shelf value resemble?\n",
    "\n",
    "    Answer:-\n",
    "        \n",
    "        A shelf value resembles a dictionary value. It has keys() and values()."
   ]
  }
 ],
 "metadata": {
  "kernelspec": {
   "display_name": "Python 3 (ipykernel)",
   "language": "python",
   "name": "python3"
  },
  "language_info": {
   "codemirror_mode": {
    "name": "ipython",
    "version": 3
   },
   "file_extension": ".py",
   "mimetype": "text/x-python",
   "name": "python",
   "nbconvert_exporter": "python",
   "pygments_lexer": "ipython3",
   "version": "3.9.7"
  }
 },
 "nbformat": 4,
 "nbformat_minor": 5
}
