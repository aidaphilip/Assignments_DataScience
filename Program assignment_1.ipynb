{
 "cells": [
  {
   "cell_type": "markdown",
   "id": "eb32143e",
   "metadata": {},
   "source": [
    "1. Write a Python program to print 'Hello Python'?\n",
    "    \n",
    "    Answer:-"
   ]
  },
  {
   "cell_type": "code",
   "execution_count": 1,
   "id": "225991d1",
   "metadata": {},
   "outputs": [
    {
     "name": "stdout",
     "output_type": "stream",
     "text": [
      "Hello Python\n"
     ]
    }
   ],
   "source": [
    "print('Hello Python')"
   ]
  },
  {
   "cell_type": "markdown",
   "id": "4f63526a",
   "metadata": {},
   "source": [
    "2. Write a Python program to do arithmetical operations addition and division.?\n",
    "    \n",
    "    Answer:-"
   ]
  },
  {
   "cell_type": "code",
   "execution_count": 3,
   "id": "91f10d43",
   "metadata": {},
   "outputs": [
    {
     "name": "stdout",
     "output_type": "stream",
     "text": [
      "Enter first number : 12\n",
      "Enter second number : 6\n",
      "Sum of 12 and 6 is 18\n",
      "Division of ( 12 / 6 ) =  2.0\n"
     ]
    }
   ],
   "source": [
    "a = int(input('Enter first number : '))\n",
    "b = int(input('Enter second number : '))\n",
    "print('Sum of',a,'and',b,'is',a+b)\n",
    "print('Division of (',a, '/',b,') = ',a/b)"
   ]
  },
  {
   "cell_type": "markdown",
   "id": "0eb7376a",
   "metadata": {},
   "source": [
    "3. Write a Python program to find the area of a triangle?\n",
    "    \n",
    "    Answer:-"
   ]
  },
  {
   "cell_type": "code",
   "execution_count": 2,
   "id": "be3b3634",
   "metadata": {},
   "outputs": [
    {
     "name": "stdout",
     "output_type": "stream",
     "text": [
      "Enter first side : 15\n",
      "Enter second side : 25\n",
      "Enter third side : 30\n",
      "Area of a triangle = 187.08\n"
     ]
    }
   ],
   "source": [
    "a = float(input('Enter first side : '))\n",
    "b = float(input('Enter second side : '))\n",
    "c = float(input('Enter third side : '))\n",
    "s = (a+b+c)/2\n",
    "area =  (s*(s-a)*(s-b)*(s-c)) ** 0.5\n",
    "print('Area of a triangle = %0.2f' %area)"
   ]
  },
  {
   "cell_type": "markdown",
   "id": "73046520",
   "metadata": {},
   "source": [
    "4. Write a Python program to swap two variables?\n",
    "\n",
    "    Answer:-"
   ]
  },
  {
   "cell_type": "code",
   "execution_count": 4,
   "id": "88d764d7",
   "metadata": {},
   "outputs": [
    {
     "name": "stdout",
     "output_type": "stream",
     "text": [
      "a =  45 and b =  80\n",
      "a =  80 and b =  45\n"
     ]
    }
   ],
   "source": [
    "a = 45\n",
    "b = 80\n",
    "print('a = ',a,'and b = ',b)\n",
    "t = a\n",
    "a = b\n",
    "b = t\n",
    "print('a = ',a,'and b = ',b)"
   ]
  },
  {
   "cell_type": "markdown",
   "id": "0f9a9e14",
   "metadata": {},
   "source": [
    "5. Write a Python program to generate a random number?\n",
    "    \n",
    "    Answer:-"
   ]
  },
  {
   "cell_type": "code",
   "execution_count": 5,
   "id": "c1737d4a",
   "metadata": {},
   "outputs": [
    {
     "name": "stdout",
     "output_type": "stream",
     "text": [
      "0.9778913623507476\n"
     ]
    }
   ],
   "source": [
    "import random\n",
    "n = random.random()\n",
    "print(n)"
   ]
  }
 ],
 "metadata": {
  "kernelspec": {
   "display_name": "Python 3 (ipykernel)",
   "language": "python",
   "name": "python3"
  },
  "language_info": {
   "codemirror_mode": {
    "name": "ipython",
    "version": 3
   },
   "file_extension": ".py",
   "mimetype": "text/x-python",
   "name": "python",
   "nbconvert_exporter": "python",
   "pygments_lexer": "ipython3",
   "version": "3.9.7"
  }
 },
 "nbformat": 4,
 "nbformat_minor": 5
}
