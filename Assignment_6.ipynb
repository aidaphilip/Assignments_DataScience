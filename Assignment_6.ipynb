{
 "cells": [
  {
   "cell_type": "markdown",
   "id": "ee0d3eb9",
   "metadata": {},
   "source": [
    "1. What are escape characters, and how do you use them?\n",
    "\n",
    "    Answer:-\n",
    "        To insert illegal characters in a string, we use escape character \\ (backslash).\n",
    "        \n",
    "        Usage, backslash \\ followed by the character we want to insert.\n",
    "        \n",
    "        Examples:-"
   ]
  },
  {
   "cell_type": "code",
   "execution_count": 6,
   "id": "fccae2b3",
   "metadata": {},
   "outputs": [
    {
     "data": {
      "text/plain": [
       "'Hello \"World\".'"
      ]
     },
     "execution_count": 6,
     "metadata": {},
     "output_type": "execute_result"
    }
   ],
   "source": [
    "# double quotes \" \"\n",
    "\n",
    "\"Hello \\\"World\\\".\""
   ]
  },
  {
   "cell_type": "code",
   "execution_count": 7,
   "id": "e20359a8",
   "metadata": {},
   "outputs": [
    {
     "data": {
      "text/plain": [
       "\"Hello 'World'.\""
      ]
     },
     "execution_count": 7,
     "metadata": {},
     "output_type": "execute_result"
    }
   ],
   "source": [
    "# single quotes \" \"\n",
    "\n",
    "\"Hello \\'World\\'.\""
   ]
  },
  {
   "cell_type": "code",
   "execution_count": 16,
   "id": "cfe1e98e",
   "metadata": {},
   "outputs": [
    {
     "name": "stdout",
     "output_type": "stream",
     "text": [
      "Hello\n",
      "World\n"
     ]
    }
   ],
   "source": [
    "# New lines \" \"\n",
    "\n",
    "print(\"Hello\\nWorld\")"
   ]
  },
  {
   "cell_type": "markdown",
   "id": "f1ddc4a5",
   "metadata": {},
   "source": [
    "2. What do the escape characters n and t stand for?\n",
    "    \n",
    "    Answer:-\n",
    "        Escape character n is used to place a new line and t is used to place a tab.\n",
    "Examples:-"
   ]
  },
  {
   "cell_type": "code",
   "execution_count": 17,
   "id": "dafdda2e",
   "metadata": {},
   "outputs": [
    {
     "name": "stdout",
     "output_type": "stream",
     "text": [
      "Hello\n",
      "World\n"
     ]
    }
   ],
   "source": [
    "# New lines \" \"\n",
    "\n",
    "print(\"Hello\\nWorld\")"
   ]
  },
  {
   "cell_type": "code",
   "execution_count": 18,
   "id": "ed4b8530",
   "metadata": {},
   "outputs": [
    {
     "name": "stdout",
     "output_type": "stream",
     "text": [
      "Hello\tWorld\n"
     ]
    }
   ],
   "source": [
    "# tab \" \"\n",
    "\n",
    "print(\"Hello\\tWorld\")"
   ]
  },
  {
   "cell_type": "markdown",
   "id": "a459d102",
   "metadata": {},
   "source": [
    "3. What is the way to include backslash characters in a string?\n",
    "\n",
    "    Answer:-\n",
    "        \n",
    "        Insert double slash \\\\ in the string.\n",
    "        \n",
    " Examples:-"
   ]
  },
  {
   "cell_type": "code",
   "execution_count": 20,
   "id": "864a0362",
   "metadata": {},
   "outputs": [
    {
     "name": "stdout",
     "output_type": "stream",
     "text": [
      "Hello\\World.\n"
     ]
    }
   ],
   "source": [
    "print(\"Hello\\\\World.\")"
   ]
  },
  {
   "cell_type": "markdown",
   "id": "637436c0",
   "metadata": {},
   "source": [
    "4. The string \"Howl's Moving Castle\" is a correct value. Why isn't the single quote character in the\n",
    "word Howl's not escaped a problem?\n",
    "\n",
    "    Answer:-\n",
    "        Because, it is enclosed in a double quotes."
   ]
  },
  {
   "cell_type": "code",
   "execution_count": 27,
   "id": "12b840d0",
   "metadata": {},
   "outputs": [
    {
     "data": {
      "text/plain": [
       "\"Howl's Moving Castle\""
      ]
     },
     "execution_count": 27,
     "metadata": {},
     "output_type": "execute_result"
    }
   ],
   "source": [
    "\"Howl's Moving Castle\""
   ]
  },
  {
   "cell_type": "markdown",
   "id": "8cf68763",
   "metadata": {},
   "source": [
    "5. How do you write a string of newlines if you don't want to use the n character?\n",
    "\n",
    "    Answer:- By using more than one print statements."
   ]
  },
  {
   "cell_type": "code",
   "execution_count": 29,
   "id": "016e67e8",
   "metadata": {},
   "outputs": [
    {
     "name": "stdout",
     "output_type": "stream",
     "text": [
      "Hello\n",
      "World\n"
     ]
    }
   ],
   "source": [
    "print(\"Hello\")\n",
    "print(\"World\")"
   ]
  },
  {
   "cell_type": "markdown",
   "id": "21328290",
   "metadata": {},
   "source": [
    "6. What are the values of the given expressions?\n",
    "    \n",
    "    Answer:-"
   ]
  },
  {
   "cell_type": "code",
   "execution_count": 31,
   "id": "9f957848",
   "metadata": {},
   "outputs": [
    {
     "data": {
      "text/plain": [
       "'e'"
      ]
     },
     "execution_count": 31,
     "metadata": {},
     "output_type": "execute_result"
    }
   ],
   "source": [
    "'Hello, world!'[1]   # Print character at index 1"
   ]
  },
  {
   "cell_type": "code",
   "execution_count": 33,
   "id": "6e6d85ce",
   "metadata": {},
   "outputs": [
    {
     "data": {
      "text/plain": [
       "'Hello'"
      ]
     },
     "execution_count": 33,
     "metadata": {},
     "output_type": "execute_result"
    }
   ],
   "source": [
    "'Hello, world!'[0:5] # Print characters at indices 0 to 4"
   ]
  },
  {
   "cell_type": "code",
   "execution_count": 34,
   "id": "b1e65931",
   "metadata": {},
   "outputs": [
    {
     "data": {
      "text/plain": [
       "'Hello'"
      ]
     },
     "execution_count": 34,
     "metadata": {},
     "output_type": "execute_result"
    }
   ],
   "source": [
    "'Hello, world!'[:5]  # Print characters at indices 0 to 4"
   ]
  },
  {
   "cell_type": "code",
   "execution_count": 36,
   "id": "864fbfbc",
   "metadata": {},
   "outputs": [
    {
     "data": {
      "text/plain": [
       "'lo, world!'"
      ]
     },
     "execution_count": 36,
     "metadata": {},
     "output_type": "execute_result"
    }
   ],
   "source": [
    "'Hello, world!'[3:] # print characters at indices 3 to EOL"
   ]
  },
  {
   "cell_type": "markdown",
   "id": "3d1a6831",
   "metadata": {},
   "source": [
    "7. What are the values of the following expressions?\n",
    "\n",
    "    Answer:-\n"
   ]
  },
  {
   "cell_type": "code",
   "execution_count": 37,
   "id": "0281cb02",
   "metadata": {},
   "outputs": [
    {
     "data": {
      "text/plain": [
       "'HELLO'"
      ]
     },
     "execution_count": 37,
     "metadata": {},
     "output_type": "execute_result"
    }
   ],
   "source": [
    "'Hello'.upper()  #Print each character in Upper case letters"
   ]
  },
  {
   "cell_type": "code",
   "execution_count": 39,
   "id": "d1b67a62",
   "metadata": {},
   "outputs": [
    {
     "data": {
      "text/plain": [
       "True"
      ]
     },
     "execution_count": 39,
     "metadata": {},
     "output_type": "execute_result"
    }
   ],
   "source": [
    "'Hello'.upper().isupper()   # First, converts each character into upper case letters and then it returns True if all the letters in uppercase"
   ]
  },
  {
   "cell_type": "code",
   "execution_count": 41,
   "id": "8761790a",
   "metadata": {},
   "outputs": [
    {
     "data": {
      "text/plain": [
       "'hello'"
      ]
     },
     "execution_count": 41,
     "metadata": {},
     "output_type": "execute_result"
    }
   ],
   "source": [
    "'Hello'.upper().lower()   ## First, converts each character into upper case letters and then converts it into lowercase"
   ]
  },
  {
   "cell_type": "markdown",
   "id": "7e345b63",
   "metadata": {},
   "source": [
    "8. What are the values of the following expressions?\n",
    "\n",
    "    Answer:-"
   ]
  },
  {
   "cell_type": "code",
   "execution_count": 42,
   "id": "0a6216ec",
   "metadata": {},
   "outputs": [
    {
     "data": {
      "text/plain": [
       "['Remember,', 'remember,', 'the', 'fifth', 'of', 'July.']"
      ]
     },
     "execution_count": 42,
     "metadata": {},
     "output_type": "execute_result"
    }
   ],
   "source": [
    "'Remember, remember, the fifth of July.'.split() # Split each word as list elements."
   ]
  },
  {
   "cell_type": "code",
   "execution_count": 43,
   "id": "cb56c616",
   "metadata": {},
   "outputs": [
    {
     "data": {
      "text/plain": [
       "'There-can-only-one.'"
      ]
     },
     "execution_count": 43,
     "metadata": {},
     "output_type": "execute_result"
    }
   ],
   "source": [
    "'-'.join('There can only one.'.split()) # each word can be connected by _"
   ]
  },
  {
   "cell_type": "markdown",
   "id": "c23039d7",
   "metadata": {},
   "source": [
    "9. What are the methods for right-justifying, left-justifying, and centering a string?\n",
    "    \n",
    "    Answer:-\n",
    "        \n",
    "        syntax:-\n",
    "              string.rjust(width)\n",
    "              string.ljust(width)\n",
    "              string.center"
   ]
  },
  {
   "cell_type": "code",
   "execution_count": 5,
   "id": "8dd9bb6c",
   "metadata": {},
   "outputs": [
    {
     "data": {
      "text/plain": [
       "'     White     Green      Blue'"
      ]
     },
     "execution_count": 5,
     "metadata": {},
     "output_type": "execute_result"
    }
   ],
   "source": [
    "l = ['White','Green','Blue']\n",
    "l[0].rjust(10)+l[1].rjust(10)+l[2].rjust(10) # Right justified"
   ]
  },
  {
   "cell_type": "code",
   "execution_count": 6,
   "id": "5ec9bb3c",
   "metadata": {},
   "outputs": [
    {
     "data": {
      "text/plain": [
       "'White     Green     Blue      '"
      ]
     },
     "execution_count": 6,
     "metadata": {},
     "output_type": "execute_result"
    }
   ],
   "source": [
    "l = ['White','Green','Blue']\n",
    "l[0].ljust(10)+l[1].ljust(10)+l[2].ljust(10) # Left justified"
   ]
  },
  {
   "cell_type": "code",
   "execution_count": 8,
   "id": "11329e70",
   "metadata": {},
   "outputs": [
    {
     "data": {
      "text/plain": [
       "'  White     Green      Blue   '"
      ]
     },
     "execution_count": 8,
     "metadata": {},
     "output_type": "execute_result"
    }
   ],
   "source": [
    "l = ['White','Green','Blue']\n",
    "l[0].center(10)+l[1].center(10)+l[2].center(10) # Centering a string"
   ]
  },
  {
   "cell_type": "markdown",
   "id": "75a5521b",
   "metadata": {},
   "source": [
    "10. What is the best way to remove whitespace characters from the start or end?\n",
    "    \n",
    "    Answer:-\n",
    "        Using built in function strip()"
   ]
  },
  {
   "cell_type": "code",
   "execution_count": 11,
   "id": "c7b8e0b5",
   "metadata": {},
   "outputs": [
    {
     "data": {
      "text/plain": [
       "'Hello World'"
      ]
     },
     "execution_count": 11,
     "metadata": {},
     "output_type": "execute_result"
    }
   ],
   "source": [
    "s = \"     Hello World     \"\n",
    "s.strip()"
   ]
  }
 ],
 "metadata": {
  "kernelspec": {
   "display_name": "Python 3 (ipykernel)",
   "language": "python",
   "name": "python3"
  },
  "language_info": {
   "codemirror_mode": {
    "name": "ipython",
    "version": 3
   },
   "file_extension": ".py",
   "mimetype": "text/x-python",
   "name": "python",
   "nbconvert_exporter": "python",
   "pygments_lexer": "ipython3",
   "version": "3.9.7"
  }
 },
 "nbformat": 4,
 "nbformat_minor": 5
}
