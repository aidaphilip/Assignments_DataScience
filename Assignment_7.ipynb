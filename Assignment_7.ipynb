{
 "cells": [
  {
   "cell_type": "markdown",
   "id": "44a4ab3b",
   "metadata": {},
   "source": [
    "1. What is the name of the feature responsible for generating Regex objects?\n",
    "    \n",
    "    Answer:-\n",
    "        re.compile()"
   ]
  },
  {
   "cell_type": "markdown",
   "id": "e25f3b01",
   "metadata": {},
   "source": [
    "2. Why do raw strings often appear in Regex objects?\n",
    "    \n",
    "    Answer:-\n",
    "        Raw string notation (r\"text\") keeps regular expressions meaningful and confusion-free. Without it, every backslash ('\\') in a regular expression would have to be prefixed with another one to escape it."
   ]
  },
  {
   "cell_type": "markdown",
   "id": "a8694821",
   "metadata": {},
   "source": [
    "3. What is the return value of the search() method?\n",
    "    \n",
    "    Answer:-\n",
    "        occmatch = re.search(pattern,text)\n",
    "        The re.search() function takes two parameters and returns the first occurrence of the match."
   ]
  },
  {
   "cell_type": "markdown",
   "id": "fcdbcb39",
   "metadata": {},
   "source": [
    "4. From a Match item, how do you get the actual strings that match the pattern?\n",
    "\n",
    "    Answer:-\n",
    "        The group() method returns strings of the matched text.\n",
    "        occmatch.group()"
   ]
  },
  {
   "cell_type": "markdown",
   "id": "61a57db6",
   "metadata": {},
   "source": [
    "5. In the regex which created from the r'(\\d\\d\\d)-(\\d\\d\\d-\\d\\d\\d\\d)', what does group zero cover?\n",
    "Group 2? Group 1?\n",
    "\n",
    "    Answer:-\n",
    "        Group 0 is the entire match, group 1 covers the first set of parentheses, and group 2 covers the second set of parentheses."
   ]
  },
  {
   "cell_type": "markdown",
   "id": "5c13a776",
   "metadata": {},
   "source": [
    "import re\n",
    "pNo = re.compile(r'\\d\\d\\d-\\d\\d\\d-\\d\\d\\d\\d')\n",
    "mat = pNo.search('234-456-1234')\n",
    "print('Number found: ' + mat.group(0))"
   ]
  },
  {
   "cell_type": "markdown",
   "id": "e50cdcae",
   "metadata": {},
   "source": [
    "6. In standard expression syntax, parentheses and intervals have distinct meanings. How can you tell\n",
    "a regex that you want it to fit real parentheses and periods?\n",
    "\n",
    "    Answer:-\n",
    "        Periods and parentheses can be escaped with a backslash: \\., \\(, and \\)."
   ]
  },
  {
   "cell_type": "markdown",
   "id": "93fa20c4",
   "metadata": {},
   "source": [
    "7. The findall() method returns a string list or a list of string tuples. What causes it to return one of\n",
    "the two options?\n",
    "    \n",
    "    Answer:-\n",
    "        If the regex has no groups, a list of strings is returned. If the regex has groups, a list of tuples of strings is returned."
   ]
  },
  {
   "cell_type": "markdown",
   "id": "d3732c05",
   "metadata": {},
   "source": [
    "8. In standard expressions, what does the | character mean?\n",
    "\n",
    "    Answer:-\n",
    "        The | character signifies matching \"either, or\" between two groups."
   ]
  },
  {
   "cell_type": "markdown",
   "id": "818951eb",
   "metadata": {},
   "source": [
    "9. In regular expressions, what does the character stand for?\n",
    "    \n",
    "    Answer:-\n",
    "        A word character is a letter, a number, or an underscore. This set of characters may also be represented by the regex character set [a-zA-Z0-9_]"
   ]
  },
  {
   "cell_type": "markdown",
   "id": "f03b52f4",
   "metadata": {},
   "source": [
    "10.In regular expressions, what is the difference between the + and * characters?\n",
    "    \n",
    "    Answer:-\n",
    "        The + matches one or more. The * matches zero or more."
   ]
  },
  {
   "cell_type": "markdown",
   "id": "297a99ff",
   "metadata": {},
   "source": [
    "11. What is the difference between {4} and {4,5} in regular expression?\n",
    "    \n",
    "    Answer:-\n",
    "        \\d{4,5} First match of 4 or 5 digits.\n",
    "        \\d{4} First match of 4 digits."
   ]
  },
  {
   "cell_type": "code",
   "execution_count": 15,
   "id": "f4b8e8a1",
   "metadata": {},
   "outputs": [
    {
     "name": "stdout",
     "output_type": "stream",
     "text": [
      "Number found: 12345\n"
     ]
    }
   ],
   "source": [
    "import re\n",
    "pNo = re.compile(r'\\d{4,5}')\n",
    "mat = pNo.search('234-456-123456-78924-4567349')\n",
    "print('Number found: ' + mat.group(0))"
   ]
  },
  {
   "cell_type": "code",
   "execution_count": 16,
   "id": "585030b5",
   "metadata": {},
   "outputs": [
    {
     "name": "stdout",
     "output_type": "stream",
     "text": [
      "Number found: 1234\n"
     ]
    }
   ],
   "source": [
    "import re\n",
    "pNo = re.compile(r'\\d{4}')\n",
    "mat = pNo.search('234-456-123456-78924-4567349')\n",
    "print('Number found: ' + mat.group(0))"
   ]
  },
  {
   "cell_type": "markdown",
   "id": "5256f19f",
   "metadata": {},
   "source": [
    "12. What do you mean by the \\d, \\w, and \\s shorthand character classes signify in regular\n",
    "expressions?\n",
    "\n",
    "    Answer:-\n",
    "        \\d - digit\n",
    "        \\w - letter\n",
    "        \\s - whitespace"
   ]
  },
  {
   "cell_type": "code",
   "execution_count": 22,
   "id": "4e635668",
   "metadata": {},
   "outputs": [
    {
     "name": "stdout",
     "output_type": "stream",
     "text": [
      "Number found: 2m \n"
     ]
    }
   ],
   "source": [
    "import re\n",
    "pNo = re.compile(r'\\d\\w\\s')\n",
    "mat = pNo.search('2m ')\n",
    "print('Number found: ' + mat.group(0))"
   ]
  },
  {
   "cell_type": "markdown",
   "id": "a13e585b",
   "metadata": {},
   "source": [
    "13. What do means by \\D, \\W, and \\S shorthand character classes signify in regular expressions?\n",
    "\n",
    "    Answer:-\n",
    "        The \\D, \\W, and \\S shorthand character classes match a single character that is not a digit, word, or space character, respectively."
   ]
  },
  {
   "cell_type": "code",
   "execution_count": 27,
   "id": "de666e57",
   "metadata": {},
   "outputs": [
    {
     "name": "stdout",
     "output_type": "stream",
     "text": [
      "Found: _&\n"
     ]
    }
   ],
   "source": [
    "import re\n",
    "pNo = re.compile(r'\\D\\W')\n",
    "mat = pNo.search('._& ')\n",
    "print('Found: ' + mat.group(0))"
   ]
  },
  {
   "cell_type": "markdown",
   "id": "089bd278",
   "metadata": {},
   "source": [
    "14. What is the difference between .* and .*?\n",
    "\n",
    "    Answer:- \n",
    "        .* - Matches any character\n",
    "        .*? - Matches till the specifies character\n",
    "        "
   ]
  },
  {
   "cell_type": "code",
   "execution_count": 30,
   "id": "92e74d5b",
   "metadata": {},
   "outputs": [
    {
     "name": "stdout",
     "output_type": "stream",
     "text": [
      "Found: Physics\n"
     ]
    }
   ],
   "source": [
    "import re\n",
    "pNo = re.compile(r'.*')\n",
    "mat = pNo.search('Physics')\n",
    "print('Found: ' + mat.group(0))"
   ]
  },
  {
   "cell_type": "code",
   "execution_count": 32,
   "id": "35501c7e",
   "metadata": {},
   "outputs": [
    {
     "name": "stdout",
     "output_type": "stream",
     "text": [
      "Found: Phy\n"
     ]
    }
   ],
   "source": [
    "import re\n",
    "pNo = re.compile(r'.*y')\n",
    "mat = pNo.search('Physics')\n",
    "print('Found: ' + mat.group(0))"
   ]
  },
  {
   "cell_type": "markdown",
   "id": "1216083f",
   "metadata": {},
   "source": [
    "15. What is the syntax for matching both numbers and lowercase letters with a character class?\n",
    "\n",
    "    Answer:-\n",
    "        Using character sets.\n",
    "        [a-z0-9]"
   ]
  },
  {
   "cell_type": "code",
   "execution_count": 35,
   "id": "04fcabad",
   "metadata": {},
   "outputs": [
    {
     "name": "stdout",
     "output_type": "stream",
     "text": [
      "Found: abc123\n"
     ]
    }
   ],
   "source": [
    "import re\n",
    "pNo = re.compile(r'[a-z0-9].*')\n",
    "mat = pNo.search('abc123')\n",
    "print('Found: ' + mat.group(0))"
   ]
  },
  {
   "cell_type": "markdown",
   "id": "095ebbc5",
   "metadata": {},
   "source": [
    "16. What is the procedure for making a normal expression in regax case insensitive?\n",
    "\n",
    "    Answer:-\n",
    "        pattern = re.compile('\\w\\w\\w', re.IGNORECASE)"
   ]
  },
  {
   "cell_type": "code",
   "execution_count": 40,
   "id": "6831d51d",
   "metadata": {},
   "outputs": [
    {
     "name": "stdout",
     "output_type": "stream",
     "text": [
      "Found: TEST\n"
     ]
    }
   ],
   "source": [
    "import re\n",
    "pNo = re.compile(r'test',re.IGNORECASE)\n",
    "mat = pNo.search('TEST')\n",
    "print('Found: ' + mat.group(0))"
   ]
  },
  {
   "cell_type": "markdown",
   "id": "062d40ec",
   "metadata": {},
   "source": [
    "17. What does the . character normally match? What does it match if re.DOTALL is passed as 2nd\n",
    "argument in re.compile()?\n",
    "\n",
    "    Answer:- It helps to distingushand match newline character ('\\n') apart from other characters."
   ]
  },
  {
   "cell_type": "code",
   "execution_count": 2,
   "id": "9e723dae",
   "metadata": {},
   "outputs": [
    {
     "name": "stdout",
     "output_type": "stream",
     "text": [
      "Hello,\n"
     ]
    }
   ],
   "source": [
    "import re\n",
    "a = re.compile(r'.+')\n",
    "mat = a.search('Hello,\\nGeeks')  # No DOTALL match till newline\n",
    "print(mat.group(0))"
   ]
  },
  {
   "cell_type": "code",
   "execution_count": 4,
   "id": "f86cc1a2",
   "metadata": {},
   "outputs": [
    {
     "name": "stdout",
     "output_type": "stream",
     "text": [
      "Hello,\n",
      "Geeks\n"
     ]
    }
   ],
   "source": [
    "import re\n",
    "a = re.compile(r'.+', re.DOTALL)\n",
    "mat = a.search('Hello,\\nGeeks')  # DOTALL match till newline\n",
    "print(mat.group(0))"
   ]
  },
  {
   "cell_type": "markdown",
   "id": "20006dcf",
   "metadata": {},
   "source": [
    "18. If numRegex = re.compile(r'\\d+), what will numRegex.sub('X', '11 drummers, 10 pipers, five rings, 4\n",
    "hen') return?\n",
    "        \n",
    "    Answer:-\n",
    "            "
   ]
  },
  {
   "cell_type": "code",
   "execution_count": 6,
   "id": "08060518",
   "metadata": {},
   "outputs": [
    {
     "data": {
      "text/plain": [
       "'X drummers, X pipers, five rings, X hen'"
      ]
     },
     "execution_count": 6,
     "metadata": {},
     "output_type": "execute_result"
    }
   ],
   "source": [
    "import re\n",
    "numRegex = re.compile(r'\\d+')\n",
    "# It returns a string where all matching occurrences of the specified pattern are replaced by the replace string(X).\n",
    "numRegex.sub('X', '11 drummers, 10 pipers, five rings, 4 hen') "
   ]
  },
  {
   "cell_type": "markdown",
   "id": "74359738",
   "metadata": {},
   "source": [
    "19. What does passing re.VERBOSE as the 2nd argument to re.compile() allow to do?\n",
    "    \n",
    "    Answer:-\n",
    "        This flag allows you to write regular expressions that look nicer and are more readable.\n",
    "        It allows you to visually separate logical sections of the pattern and add comments."
   ]
  },
  {
   "cell_type": "code",
   "execution_count": 16,
   "id": "7a4314f9",
   "metadata": {},
   "outputs": [
    {
     "name": "stdout",
     "output_type": "stream",
     "text": [
      "Found: 1A\n"
     ]
    }
   ],
   "source": [
    "import re\n",
    "pNo = re.compile(r\"\"\"[0-9]\n",
    "                 [A-Z]\"\"\", re.VERBOSE)\n",
    "mat = pNo.search('1Aab')\n",
    "print('Found: ' + mat.group(0))"
   ]
  },
  {
   "cell_type": "markdown",
   "id": "a0561a37",
   "metadata": {},
   "source": [
    "20. How would you write a regex that match a number with comma for every three digits? It must\n",
    "match the given following:\n",
    "'42'\n",
    "'1,234'\n",
    "'6,368,745'\n",
    "but not the following:\n",
    "'12,34,567' (which has only two digits between the commas)\n",
    "'1234'      (which lacks commas)"
   ]
  },
  {
   "cell_type": "code",
   "execution_count": 13,
   "id": "7c55dddd",
   "metadata": {},
   "outputs": [
    {
     "name": "stdout",
     "output_type": "stream",
     "text": [
      "Found: 6,368,745\n"
     ]
    }
   ],
   "source": [
    "import re\n",
    "pNo = re.compile(r'^((?:\\d{1,3},(?:\\d{3},)*\\d{3})|(?:\\d{1,3}))$')\n",
    "mat = pNo.search('6,368,745')\n",
    "print('Found: ' + mat.group())"
   ]
  },
  {
   "cell_type": "markdown",
   "id": "1309603c",
   "metadata": {},
   "source": [
    "21. How would you write a regex that matches the full name of someone whose last name is\n",
    "Watanabe? You can assume that the first name that comes before it will always be one word that\n",
    "begins with a capital letter. \n",
    "\n",
    "    Answer:-"
   ]
  },
  {
   "cell_type": "code",
   "execution_count": 23,
   "id": "3ae20903",
   "metadata": {},
   "outputs": [
    {
     "name": "stdout",
     "output_type": "stream",
     "text": [
      "Found: Alice Watanabe\n"
     ]
    }
   ],
   "source": [
    "import re\n",
    "pNo = re.compile(r'[A-Z].+\\sWatanabe')\n",
    "mat = pNo.search('Alice Watanabe')\n",
    "print('Found: ' + mat.group())"
   ]
  },
  {
   "cell_type": "code",
   "execution_count": 24,
   "id": "450e5b07",
   "metadata": {},
   "outputs": [
    {
     "name": "stdout",
     "output_type": "stream",
     "text": [
      "Found: RoboCop Watanabe\n"
     ]
    }
   ],
   "source": [
    "import re\n",
    "pNo = re.compile(r'[A-Z].+\\sWatanabe')\n",
    "mat = pNo.search('RoboCop Watanabe')\n",
    "print('Found: ' + mat.group())"
   ]
  },
  {
   "cell_type": "code",
   "execution_count": 27,
   "id": "1b001f8c",
   "metadata": {},
   "outputs": [
    {
     "name": "stdout",
     "output_type": "stream",
     "text": [
      "None\n"
     ]
    }
   ],
   "source": [
    "import re\n",
    "pNo = re.compile(r'[A-Z].+\\sWatanabe')\n",
    "mat = pNo.search('Haruto watanabe')\n",
    "if(mat == None):\n",
    "    print('None')\n",
    "else:\n",
    "    print('Found: ' + mat.group(0))"
   ]
  },
  {
   "cell_type": "markdown",
   "id": "f214a213",
   "metadata": {},
   "source": [
    "22. How would you write a regex that matches a sentence where the first word is either Alice, Bob,\n",
    "or Carol; the second word is either eats, pets, or throws; the third word is apples, cats, or baseballs;\n",
    "and the sentence ends with a period? This regex should be case-insensitive.\n",
    "    \n",
    "    Answer:-"
   ]
  },
  {
   "cell_type": "code",
   "execution_count": 12,
   "id": "7c3a43f1",
   "metadata": {},
   "outputs": [
    {
     "name": "stdout",
     "output_type": "stream",
     "text": [
      "Found: Alice throws Apples\n"
     ]
    }
   ],
   "source": [
    "import re\n",
    "pNo = re.compile(r'(\\bAlice|Bob|Carol)\\s+(eats|pets|throws)\\s+(apples|cats|baseballs)',re.IGNORECASE)\n",
    "mat = pNo.search('Alice throws Apples.')\n",
    "print('Found: ' + mat.group())"
   ]
  },
  {
   "cell_type": "code",
   "execution_count": 14,
   "id": "e931ee45",
   "metadata": {},
   "outputs": [
    {
     "name": "stdout",
     "output_type": "stream",
     "text": [
      "None\n"
     ]
    }
   ],
   "source": [
    "import re\n",
    "pNo = re.compile(r'(\\bAlice|Bob|Carol)\\s+(eats|pets|throws)\\s+(apples|cats|baseballs)',re.IGNORECASE)\n",
    "mat = pNo.search('RoboCop eats apples.')\n",
    "if mat == None:\n",
    "    print('None')\n",
    "else:\n",
    "    print('Found: ' + mat.group())"
   ]
  }
 ],
 "metadata": {
  "kernelspec": {
   "display_name": "Python 3 (ipykernel)",
   "language": "python",
   "name": "python3"
  },
  "language_info": {
   "codemirror_mode": {
    "name": "ipython",
    "version": 3
   },
   "file_extension": ".py",
   "mimetype": "text/x-python",
   "name": "python",
   "nbconvert_exporter": "python",
   "pygments_lexer": "ipython3",
   "version": "3.9.7"
  }
 },
 "nbformat": 4,
 "nbformat_minor": 5
}
