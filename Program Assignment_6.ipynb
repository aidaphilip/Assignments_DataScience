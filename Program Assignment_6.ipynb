{
 "cells": [
  {
   "cell_type": "code",
   "execution_count": 3,
   "id": "c42ce275",
   "metadata": {},
   "outputs": [
    {
     "name": "stdout",
     "output_type": "stream",
     "text": [
      "Enter number of terms: 10\n",
      "Fibonacci series\n",
      "\n",
      "0\n",
      "1\n",
      "1\n",
      "2\n",
      "3\n",
      "5\n",
      "8\n",
      "13\n",
      "21\n",
      "34\n"
     ]
    }
   ],
   "source": [
    "# 1. Write a Python Program to Display Fibonacci Sequence Using Recursion?\n",
    "\n",
    "def recursive_fibonacci(n):\n",
    "    if n<=1:\n",
    "        return n\n",
    "    else:\n",
    "        return recursive_fibonacci(n-1)+recursive_fibonacci(n-2)\n",
    "    \n",
    "np = int(input(\"Enter number of terms: \"))\n",
    "print(\"Fibonacci series\\n\")\n",
    "for i in range(np):\n",
    "    print(recursive_fibonacci(i))"
   ]
  },
  {
   "cell_type": "code",
   "execution_count": 5,
   "id": "febf4e07",
   "metadata": {},
   "outputs": [
    {
     "name": "stdout",
     "output_type": "stream",
     "text": [
      "Enter number: 5\n",
      "5! =  120\n"
     ]
    }
   ],
   "source": [
    "# 2. Write a Python Program to Find Factorial of Number Using Recursion?\n",
    "\n",
    "def recursive_fact(n):\n",
    "    if n == 0 or n == 1:\n",
    "        return 1\n",
    "    else:\n",
    "        return n*recursive_fact(n-1)\n",
    "        \n",
    "np = int(input(\"Enter number: \"))\n",
    "print(f\"{np}! = \",recursive_fact(np))"
   ]
  },
  {
   "cell_type": "code",
   "execution_count": 7,
   "id": "a7b9e3bd",
   "metadata": {},
   "outputs": [
    {
     "name": "stdout",
     "output_type": "stream",
     "text": [
      "Enter height in cm: 159\n",
      "Enter weight in cm: 59\n",
      "BMI = 23.337684427040067\n"
     ]
    }
   ],
   "source": [
    "# 3. Write a Python Program to calculate your Body Mass Index?\n",
    "\n",
    "height = float(input(\"Enter height in cm: \"))\n",
    "weight = float(input(\"Enter weight in cm: \"))\n",
    "BMI = weight / (height/100)**2\n",
    "print(f\"BMI = {BMI}\")"
   ]
  },
  {
   "cell_type": "code",
   "execution_count": 10,
   "id": "43dcc42a",
   "metadata": {},
   "outputs": [
    {
     "name": "stdout",
     "output_type": "stream",
     "text": [
      "Enter number: 100.7\n",
      "Natural logarithm of 100.7 = 4.612145799724517\n"
     ]
    }
   ],
   "source": [
    "# 4. Write a Python Program to calculate the natural logarithm of any number?\n",
    "\n",
    "import math\n",
    "def natural_log(n):\n",
    "    return math.log(n)\n",
    "\n",
    "n = float(input(\"Enter number: \"))\n",
    "print(f\"Natural logarithm of {n} = {natural_log(n)}\")"
   ]
  },
  {
   "cell_type": "code",
   "execution_count": 12,
   "id": "64e1ff13",
   "metadata": {},
   "outputs": [
    {
     "name": "stdout",
     "output_type": "stream",
     "text": [
      "Enter limit: 10\n",
      "Cube sum of first 10 natural numbers = 3025\n"
     ]
    }
   ],
   "source": [
    "# 5. Write a Python Program for cube sum of first n natural numbers?\n",
    "\n",
    "n = int(input(\"Enter limit: \"))\n",
    "sum = 0\n",
    "for i in range(n+1):\n",
    "    sum = sum + (i**3)\n",
    "print(f\"Cube sum of first {n} natural numbers = {sum}\")\n",
    "    "
   ]
  },
  {
   "cell_type": "code",
   "execution_count": null,
   "id": "8d796381",
   "metadata": {},
   "outputs": [],
   "source": []
  }
 ],
 "metadata": {
  "kernelspec": {
   "display_name": "Python 3 (ipykernel)",
   "language": "python",
   "name": "python3"
  },
  "language_info": {
   "codemirror_mode": {
    "name": "ipython",
    "version": 3
   },
   "file_extension": ".py",
   "mimetype": "text/x-python",
   "name": "python",
   "nbconvert_exporter": "python",
   "pygments_lexer": "ipython3",
   "version": "3.9.7"
  }
 },
 "nbformat": 4,
 "nbformat_minor": 5
}
