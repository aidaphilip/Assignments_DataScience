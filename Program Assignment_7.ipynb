{
 "cells": [
  {
   "cell_type": "code",
   "execution_count": 8,
   "id": "c72eec8c",
   "metadata": {},
   "outputs": [
    {
     "name": "stdout",
     "output_type": "stream",
     "text": [
      "Sum of [20, 30, 40, 50, 80] = 220\n"
     ]
    }
   ],
   "source": [
    "# 1. Write a Python Program to find sum of array?\n",
    "\n",
    "def sumofarray(a):\n",
    "    sum = 0\n",
    "    for i in a:\n",
    "        sum += i\n",
    "    return sum\n",
    "\n",
    "n = [20,30,40,50,80]\n",
    "print(f\"Sum of {n} = {sumofarray(n)}\")"
   ]
  },
  {
   "cell_type": "code",
   "execution_count": 10,
   "id": "9d5375a2",
   "metadata": {},
   "outputs": [
    {
     "name": "stdout",
     "output_type": "stream",
     "text": [
      "Largest of [20, 30, 40, 80, 50] = 80\n"
     ]
    }
   ],
   "source": [
    "# 2. Write a Python Program to find largest element in an array?\n",
    "\n",
    "def findMax(a):\n",
    "    max = a[0]\n",
    "    for i in a:\n",
    "        if i > max:\n",
    "            max = i\n",
    "    return max\n",
    "\n",
    "n = [20,30,40,80,50]\n",
    "print(f\"Largest of {n} = {findMax(n)}\")"
   ]
  },
  {
   "cell_type": "code",
   "execution_count": 18,
   "id": "6115ee53",
   "metadata": {},
   "outputs": [
    {
     "name": "stdout",
     "output_type": "stream",
     "text": [
      "Enter number of left rotations: 5\n",
      "[30, 40, 80, 50, 20]\n",
      "[40, 80, 50, 20, 30]\n",
      "[80, 50, 20, 30, 40]\n",
      "[50, 20, 30, 40, 80]\n",
      "[20, 30, 40, 80, 50]\n"
     ]
    }
   ],
   "source": [
    "# 3. Write a Python Program for array rotation?\n",
    "\n",
    "def arrayrotation(a):\n",
    "    temp = a[0]\n",
    "    for i in range(len(a)-1):\n",
    "        a[i] = a[i+1]\n",
    "    a[-1] = temp\n",
    "    return a\n",
    " \n",
    "n = [20,30,40,80,50]\n",
    "rot = int(input(\"Enter number of left rotations: \"))\n",
    "for i in range(0,rot):\n",
    "    print(arrayrotation(n))"
   ]
  },
  {
   "cell_type": "code",
   "execution_count": 27,
   "id": "db6307ed",
   "metadata": {},
   "outputs": [
    {
     "name": "stdout",
     "output_type": "stream",
     "text": [
      "3\n",
      "Split array as [20, 30, 40] and [80, 50, 60]\n",
      "Appended array [80, 50, 60, 20, 30, 40]\n"
     ]
    }
   ],
   "source": [
    "# 4. Write a Python Program to Split the array and add the first part to the end?\n",
    "\n",
    "def splitappend(a):\n",
    "    length = len(a)\n",
    "    split_len = int(length/2)\n",
    "    t = []\n",
    "    for i in range(split_len):\n",
    "        t.append(a.pop(0))\n",
    "    print(f\"Split array as {t} and {a}\")\n",
    "    for i in range(len(t)):\n",
    "        a.append(t[i])\n",
    "    return a\n",
    "    \n",
    "n = [20,30,40,80,50,60]\n",
    "\n",
    "print(f\"Appended array {splitappend(n)}\")\n",
    "    "
   ]
  },
  {
   "cell_type": "code",
   "execution_count": 35,
   "id": "0ff3946f",
   "metadata": {},
   "outputs": [
    {
     "name": "stdout",
     "output_type": "stream",
     "text": [
      "[20, 30, 40, 50, 70] is monotonic? True\n"
     ]
    }
   ],
   "source": [
    "# 5. Write a Python Program to check if given array is Monotonic?\n",
    "\n",
    "def ismonotonic(a):\n",
    "    return (all(a[i] <= a[i + 1] for i in range(len(a) - 1)) or\n",
    "            all(a[i] >= a[i + 1] for i in range(len(a) - 1)))\n",
    "\n",
    "n = [20,30,40,50,70]\n",
    "print(f\"{n} is monotonic? {ismonotonic(n)}\")"
   ]
  },
  {
   "cell_type": "code",
   "execution_count": null,
   "id": "d5eb87ee",
   "metadata": {},
   "outputs": [],
   "source": []
  }
 ],
 "metadata": {
  "kernelspec": {
   "display_name": "Python 3 (ipykernel)",
   "language": "python",
   "name": "python3"
  },
  "language_info": {
   "codemirror_mode": {
    "name": "ipython",
    "version": 3
   },
   "file_extension": ".py",
   "mimetype": "text/x-python",
   "name": "python",
   "nbconvert_exporter": "python",
   "pygments_lexer": "ipython3",
   "version": "3.9.7"
  }
 },
 "nbformat": 4,
 "nbformat_minor": 5
}
