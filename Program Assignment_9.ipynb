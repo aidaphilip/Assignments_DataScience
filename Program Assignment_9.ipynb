{
 "cells": [
  {
   "cell_type": "code",
   "execution_count": 4,
   "id": "76553bc4",
   "metadata": {},
   "outputs": [
    {
     "name": "stdout",
     "output_type": "stream",
     "text": [
      "Enter a number: 175\n",
      "175 is a Disarium number\n"
     ]
    }
   ],
   "source": [
    "# 1. Write a Python program to check if the given number is a Disarium Number?\n",
    "\n",
    "n = int(input(\"Enter a number: \"))\n",
    "no_of_digits = len(str(n))\n",
    "sum = 0\n",
    "num =n\n",
    "\n",
    "while n > 0:\n",
    "    \n",
    "    rem = int(n%10)\n",
    "    n = int(n/10)\n",
    "    sum += rem**no_of_digits\n",
    "    no_of_digits -= 1\n",
    "    \n",
    "if sum == num:\n",
    "    print(f\"{num} is a Disarium number\")\n",
    "else:\n",
    "    print(f\"{num} is not a Disarium number\")\n"
   ]
  },
  {
   "cell_type": "code",
   "execution_count": 7,
   "id": "6c4bb58b",
   "metadata": {},
   "outputs": [
    {
     "name": "stdout",
     "output_type": "stream",
     "text": [
      "1\n",
      "2\n",
      "3\n",
      "4\n",
      "5\n",
      "6\n",
      "7\n",
      "8\n",
      "9\n",
      "89\n"
     ]
    }
   ],
   "source": [
    "# 2. Write a Python program to print all disarium numbers between 1 to 100?\n",
    "\n",
    "for n in range(1,101):\n",
    "    no_of_digits = len(str(n))\n",
    "    sum = 0\n",
    "    num =n\n",
    "\n",
    "    while n > 0:    \n",
    "        rem = int(n%10)\n",
    "        n = int(n/10)\n",
    "        sum += rem**no_of_digits\n",
    "        no_of_digits -= 1\n",
    "    \n",
    "    if sum == num:\n",
    "        print(num)"
   ]
  },
  {
   "cell_type": "code",
   "execution_count": 9,
   "id": "dca79459",
   "metadata": {},
   "outputs": [
    {
     "name": "stdout",
     "output_type": "stream",
     "text": [
      "Enter a number: 32\n",
      "32 is a happy number\n"
     ]
    }
   ],
   "source": [
    "# 3. Write a Python program to check if the given number is Happy Number?\n",
    "def ishappynumber(num):\n",
    "    sum = 0\n",
    "    while num > 0:\n",
    "    \n",
    "        rem = int(num%10)\n",
    "        num = int(num/10)\n",
    "        sum += rem**2\n",
    "    \n",
    "    return sum\n",
    "\n",
    "n = int(input(\"Enter a number: \"))\n",
    "\n",
    "result = n\n",
    "\n",
    "while result != 1 and result !=4:\n",
    "    result = ishappynumber(result)\n",
    "    \n",
    "if result == 1:\n",
    "    print(f\"{n} is a happy number\")\n",
    "elif result == 4:\n",
    "    print(f\"{n} is not a happy number\")"
   ]
  },
  {
   "cell_type": "code",
   "execution_count": 10,
   "id": "9f2cd301",
   "metadata": {},
   "outputs": [
    {
     "name": "stdout",
     "output_type": "stream",
     "text": [
      "1\n",
      "7\n",
      "10\n",
      "13\n",
      "19\n",
      "23\n",
      "28\n",
      "31\n",
      "32\n",
      "44\n",
      "49\n",
      "68\n",
      "70\n",
      "79\n",
      "82\n",
      "86\n",
      "91\n",
      "94\n",
      "97\n",
      "100\n"
     ]
    }
   ],
   "source": [
    "# 4. Write a Python program to print all happy numbers between 1 and 100?\n",
    "\n",
    "def ishappynumber(num):\n",
    "    sum = 0\n",
    "    while num > 0:\n",
    "    \n",
    "        rem = int(num%10)\n",
    "        num = int(num/10)\n",
    "        sum += rem**2\n",
    "    \n",
    "    return sum\n",
    "\n",
    "for n in range(1,101):\n",
    "    result = n\n",
    "    while result != 1 and result !=4:\n",
    "        result = ishappynumber(result)\n",
    "    if result == 1:\n",
    "        print(n)"
   ]
  },
  {
   "cell_type": "code",
   "execution_count": 20,
   "id": "d9acd2fc",
   "metadata": {},
   "outputs": [
    {
     "name": "stdout",
     "output_type": "stream",
     "text": [
      "Enter a number: 1729\n",
      "1729 is Harshad number\n"
     ]
    }
   ],
   "source": [
    "# 5. Write a Python program to determine whether the given number is a Harshad Number?\n",
    "\n",
    "def isHarshadNumber(num):\n",
    "    temp = num\n",
    "    sum = 0\n",
    "    while num > 0:\n",
    "        rem = int(num%10)\n",
    "        num = int(num/10)\n",
    "        sum += rem\n",
    "    if int(temp%sum) == 0:\n",
    "        return True\n",
    "    else:\n",
    "        return False\n",
    "    \n",
    "n = int(input(\"Enter a number: \"))\n",
    "\n",
    "if isHarshadNumber(n):\n",
    "    print(f\"{n} is Harshad number\")\n",
    "else:\n",
    "    print(f\"{n} is not a Harshad number\")"
   ]
  },
  {
   "cell_type": "code",
   "execution_count": 21,
   "id": "a460cf4f",
   "metadata": {},
   "outputs": [
    {
     "name": "stdout",
     "output_type": "stream",
     "text": [
      "2 6 12 20 30 42 56 72 90 "
     ]
    }
   ],
   "source": [
    "# 6. Write a Python program to print all pronic numbers between 1 and 100?\n",
    "\n",
    "def isPronicNumber(num):    \n",
    "    flag = False;    \n",
    "        \n",
    "    for n in range(1, num+1):    \n",
    "        if((n*(n+1)) == num):    \n",
    "            flag = True;    \n",
    "            break;    \n",
    "    return flag;    \n",
    "\n",
    "for i in range(1, 101):    \n",
    "    if(isPronicNumber(i)):    \n",
    "        print(i, end=' ')"
   ]
  },
  {
   "cell_type": "code",
   "execution_count": null,
   "id": "252d2f41",
   "metadata": {},
   "outputs": [],
   "source": []
  }
 ],
 "metadata": {
  "kernelspec": {
   "display_name": "Python 3 (ipykernel)",
   "language": "python",
   "name": "python3"
  },
  "language_info": {
   "codemirror_mode": {
    "name": "ipython",
    "version": 3
   },
   "file_extension": ".py",
   "mimetype": "text/x-python",
   "name": "python",
   "nbconvert_exporter": "python",
   "pygments_lexer": "ipython3",
   "version": "3.9.7"
  }
 },
 "nbformat": 4,
 "nbformat_minor": 5
}
