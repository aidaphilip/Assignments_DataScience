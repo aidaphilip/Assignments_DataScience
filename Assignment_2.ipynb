{
 "cells": [
  {
   "cell_type": "markdown",
   "id": "77da5bf0",
   "metadata": {},
   "source": [
    "1.What are the two values of the Boolean data type? How do you write them?\n",
    "  \n",
    "  Answer: Two values of the boolean data type are 'True' and 'False'.\n",
    "          \n",
    "          We can write it as:-\n"
   ]
  },
  {
   "cell_type": "code",
   "execution_count": 4,
   "id": "d6163ba3",
   "metadata": {},
   "outputs": [],
   "source": [
    "a = True\n",
    "b = False"
   ]
  },
  {
   "cell_type": "code",
   "execution_count": 6,
   "id": "ec1bfa54",
   "metadata": {},
   "outputs": [
    {
     "data": {
      "text/plain": [
       "True"
      ]
     },
     "execution_count": 6,
     "metadata": {},
     "output_type": "execute_result"
    }
   ],
   "source": [
    "a"
   ]
  },
  {
   "cell_type": "code",
   "execution_count": 7,
   "id": "b6e77cf1",
   "metadata": {},
   "outputs": [
    {
     "data": {
      "text/plain": [
       "False"
      ]
     },
     "execution_count": 7,
     "metadata": {},
     "output_type": "execute_result"
    }
   ],
   "source": [
    "b"
   ]
  },
  {
   "cell_type": "code",
   "execution_count": 12,
   "id": "29e54698",
   "metadata": {},
   "outputs": [
    {
     "data": {
      "text/plain": [
       "3"
      ]
     },
     "execution_count": 12,
     "metadata": {},
     "output_type": "execute_result"
    }
   ],
   "source": [
    "# True = 1\n",
    "# False = 0\n",
    "True + True - False * True + True"
   ]
  },
  {
   "cell_type": "markdown",
   "id": "d3a3b0d8",
   "metadata": {},
   "source": [
    "2. What are the three different types of Boolean operators?\n",
    "\n",
    "   Answer: Three different types of boolean operators are 'and', 'or' and 'not'.\n",
    "   "
   ]
  },
  {
   "cell_type": "markdown",
   "id": "121b678f",
   "metadata": {},
   "source": [
    "3. Make a list of each Boolean operator's truth tables (i.e. every possible combination of Boolean values for the operator and what it evaluate )."
   ]
  },
  {
   "cell_type": "code",
   "execution_count": 14,
   "id": "2920cf8d",
   "metadata": {},
   "outputs": [
    {
     "data": {
      "text/plain": [
       "False"
      ]
     },
     "execution_count": 14,
     "metadata": {},
     "output_type": "execute_result"
    }
   ],
   "source": [
    "# Truth table 'and'\n",
    "False and False"
   ]
  },
  {
   "cell_type": "code",
   "execution_count": 15,
   "id": "59d1b541",
   "metadata": {},
   "outputs": [
    {
     "data": {
      "text/plain": [
       "False"
      ]
     },
     "execution_count": 15,
     "metadata": {},
     "output_type": "execute_result"
    }
   ],
   "source": [
    "False and True"
   ]
  },
  {
   "cell_type": "code",
   "execution_count": 16,
   "id": "3056ceb7",
   "metadata": {},
   "outputs": [
    {
     "data": {
      "text/plain": [
       "False"
      ]
     },
     "execution_count": 16,
     "metadata": {},
     "output_type": "execute_result"
    }
   ],
   "source": [
    "True and False"
   ]
  },
  {
   "cell_type": "code",
   "execution_count": 17,
   "id": "32680a72",
   "metadata": {},
   "outputs": [
    {
     "data": {
      "text/plain": [
       "True"
      ]
     },
     "execution_count": 17,
     "metadata": {},
     "output_type": "execute_result"
    }
   ],
   "source": [
    "True and True"
   ]
  },
  {
   "cell_type": "code",
   "execution_count": 18,
   "id": "988783a1",
   "metadata": {},
   "outputs": [
    {
     "data": {
      "text/plain": [
       "False"
      ]
     },
     "execution_count": 18,
     "metadata": {},
     "output_type": "execute_result"
    }
   ],
   "source": [
    "# Truth table 'or'\n",
    "False or False"
   ]
  },
  {
   "cell_type": "code",
   "execution_count": 19,
   "id": "d85fd27e",
   "metadata": {},
   "outputs": [
    {
     "data": {
      "text/plain": [
       "True"
      ]
     },
     "execution_count": 19,
     "metadata": {},
     "output_type": "execute_result"
    }
   ],
   "source": [
    "False or True"
   ]
  },
  {
   "cell_type": "code",
   "execution_count": 20,
   "id": "d316e919",
   "metadata": {},
   "outputs": [
    {
     "data": {
      "text/plain": [
       "True"
      ]
     },
     "execution_count": 20,
     "metadata": {},
     "output_type": "execute_result"
    }
   ],
   "source": [
    "True or False"
   ]
  },
  {
   "cell_type": "code",
   "execution_count": 21,
   "id": "c2b063c7",
   "metadata": {},
   "outputs": [
    {
     "data": {
      "text/plain": [
       "True"
      ]
     },
     "execution_count": 21,
     "metadata": {},
     "output_type": "execute_result"
    }
   ],
   "source": [
    "True or True"
   ]
  },
  {
   "cell_type": "code",
   "execution_count": 22,
   "id": "ebdeff30",
   "metadata": {},
   "outputs": [
    {
     "data": {
      "text/plain": [
       "True"
      ]
     },
     "execution_count": 22,
     "metadata": {},
     "output_type": "execute_result"
    }
   ],
   "source": [
    "# Truth table 'not'\n",
    "not False"
   ]
  },
  {
   "cell_type": "code",
   "execution_count": 23,
   "id": "f61aba91",
   "metadata": {},
   "outputs": [
    {
     "data": {
      "text/plain": [
       "False"
      ]
     },
     "execution_count": 23,
     "metadata": {},
     "output_type": "execute_result"
    }
   ],
   "source": [
    "not True"
   ]
  },
  {
   "cell_type": "markdown",
   "id": "ef27a553",
   "metadata": {},
   "source": [
    "4. What are the values of the following expressions?"
   ]
  },
  {
   "cell_type": "code",
   "execution_count": 24,
   "id": "e158974b",
   "metadata": {},
   "outputs": [
    {
     "data": {
      "text/plain": [
       "False"
      ]
     },
     "execution_count": 24,
     "metadata": {},
     "output_type": "execute_result"
    }
   ],
   "source": [
    "(5 > 4) and (3 == 5) # Answer 'False'"
   ]
  },
  {
   "cell_type": "code",
   "execution_count": 25,
   "id": "65e929ac",
   "metadata": {},
   "outputs": [
    {
     "data": {
      "text/plain": [
       "False"
      ]
     },
     "execution_count": 25,
     "metadata": {},
     "output_type": "execute_result"
    }
   ],
   "source": [
    "not (5 > 4) # Answer 'False'"
   ]
  },
  {
   "cell_type": "code",
   "execution_count": 26,
   "id": "9b0b6f72",
   "metadata": {},
   "outputs": [
    {
     "data": {
      "text/plain": [
       "True"
      ]
     },
     "execution_count": 26,
     "metadata": {},
     "output_type": "execute_result"
    }
   ],
   "source": [
    "(5 > 4) or (3 == 5) # Answer 'True'"
   ]
  },
  {
   "cell_type": "code",
   "execution_count": 27,
   "id": "859365c1",
   "metadata": {},
   "outputs": [
    {
     "data": {
      "text/plain": [
       "False"
      ]
     },
     "execution_count": 27,
     "metadata": {},
     "output_type": "execute_result"
    }
   ],
   "source": [
    "not ((5 > 4) or (3 == 5)) # Answer 'False'"
   ]
  },
  {
   "cell_type": "code",
   "execution_count": 28,
   "id": "7436f25b",
   "metadata": {},
   "outputs": [
    {
     "data": {
      "text/plain": [
       "False"
      ]
     },
     "execution_count": 28,
     "metadata": {},
     "output_type": "execute_result"
    }
   ],
   "source": [
    "(True and True) and (True == False) # Answer 'False'"
   ]
  },
  {
   "cell_type": "code",
   "execution_count": 29,
   "id": "d2c7149d",
   "metadata": {},
   "outputs": [
    {
     "data": {
      "text/plain": [
       "True"
      ]
     },
     "execution_count": 29,
     "metadata": {},
     "output_type": "execute_result"
    }
   ],
   "source": [
    "(not False) or (not True) # Answer 'True'"
   ]
  },
  {
   "cell_type": "markdown",
   "id": "6a18deee",
   "metadata": {},
   "source": [
    "5. What are the six comparison operators?\n",
    "   \n",
    "   Answer:- \n",
    "           > , < , >= , <= , == , !="
   ]
  },
  {
   "cell_type": "code",
   "execution_count": 31,
   "id": "758dd662",
   "metadata": {},
   "outputs": [
    {
     "data": {
      "text/plain": [
       "True"
      ]
     },
     "execution_count": 31,
     "metadata": {},
     "output_type": "execute_result"
    }
   ],
   "source": [
    "50 > 49   # Greater than"
   ]
  },
  {
   "cell_type": "code",
   "execution_count": 32,
   "id": "521e76ec",
   "metadata": {},
   "outputs": [
    {
     "data": {
      "text/plain": [
       "True"
      ]
     },
     "execution_count": 32,
     "metadata": {},
     "output_type": "execute_result"
    }
   ],
   "source": [
    "50 < 51  # Less than"
   ]
  },
  {
   "cell_type": "code",
   "execution_count": 33,
   "id": "382a4a13",
   "metadata": {},
   "outputs": [
    {
     "data": {
      "text/plain": [
       "True"
      ]
     },
     "execution_count": 33,
     "metadata": {},
     "output_type": "execute_result"
    }
   ],
   "source": [
    "50 >= 50  # Greater than or equal to"
   ]
  },
  {
   "cell_type": "code",
   "execution_count": 34,
   "id": "d4486146",
   "metadata": {},
   "outputs": [
    {
     "data": {
      "text/plain": [
       "True"
      ]
     },
     "execution_count": 34,
     "metadata": {},
     "output_type": "execute_result"
    }
   ],
   "source": [
    "50 <= 50  # Less than or equal to"
   ]
  },
  {
   "cell_type": "code",
   "execution_count": 35,
   "id": "55f7e619",
   "metadata": {},
   "outputs": [
    {
     "data": {
      "text/plain": [
       "True"
      ]
     },
     "execution_count": 35,
     "metadata": {},
     "output_type": "execute_result"
    }
   ],
   "source": [
    "50 == 50  # Equal to"
   ]
  },
  {
   "cell_type": "code",
   "execution_count": 36,
   "id": "16e78217",
   "metadata": {},
   "outputs": [
    {
     "data": {
      "text/plain": [
       "True"
      ]
     },
     "execution_count": 36,
     "metadata": {},
     "output_type": "execute_result"
    }
   ],
   "source": [
    "50 != 60  # Not equal to"
   ]
  },
  {
   "cell_type": "markdown",
   "id": "a73f3cbb",
   "metadata": {},
   "source": [
    "6. How do you tell the difference between the equal to and assignment operators?Describe a condition and when you would use one.\n",
    "\n",
    "  Answer: \n",
    "         The 'Equal to (==)' operator is used to check whether the values of two operands are equal or not.\n",
    "         \n",
    "         The 'Assignment (=)' operator is used to assign value on the right side to operand on the left side.\n",
    " \n",
    " Examples are given below:-"
   ]
  },
  {
   "cell_type": "code",
   "execution_count": 39,
   "id": "8cd7e4e8",
   "metadata": {},
   "outputs": [
    {
     "data": {
      "text/plain": [
       "False"
      ]
     },
     "execution_count": 39,
     "metadata": {},
     "output_type": "execute_result"
    }
   ],
   "source": [
    "a = 35\n",
    "b = 40\n",
    "# Equal to operator compare values of a and b\n",
    "a == b"
   ]
  },
  {
   "cell_type": "code",
   "execution_count": 41,
   "id": "d206d489",
   "metadata": {},
   "outputs": [
    {
     "data": {
      "text/plain": [
       "35"
      ]
     },
     "execution_count": 41,
     "metadata": {},
     "output_type": "execute_result"
    }
   ],
   "source": [
    "a"
   ]
  },
  {
   "cell_type": "code",
   "execution_count": 42,
   "id": "2672e7ce",
   "metadata": {},
   "outputs": [
    {
     "data": {
      "text/plain": [
       "40"
      ]
     },
     "execution_count": 42,
     "metadata": {},
     "output_type": "execute_result"
    }
   ],
   "source": [
    "b"
   ]
  },
  {
   "cell_type": "code",
   "execution_count": 44,
   "id": "ac2582db",
   "metadata": {},
   "outputs": [
    {
     "data": {
      "text/plain": [
       "40"
      ]
     },
     "execution_count": 44,
     "metadata": {},
     "output_type": "execute_result"
    }
   ],
   "source": [
    "# Assigning value of b to a\n",
    "a = b\n",
    "a"
   ]
  },
  {
   "cell_type": "markdown",
   "id": "ae0fb02a",
   "metadata": {},
   "source": [
    "7. Identify the three blocks in this code:\n",
    "spam = 0\n",
    "if spam == 10:\n",
    "print('eggs')\n",
    "if spam > 5:\n",
    "print('bacon')\n",
    "else:\n",
    "print('ham')\n",
    "print('spam')\n",
    "print('spam')\n",
    "\n",
    "Answer:\n",
    "spam = 0\n",
    "# block 1\n",
    "if spam == 10:\n",
    "print('eggs')\n",
    "# block 2\n",
    "if spam > 5:\n",
    "print('bacon')\n",
    "# block 3\n",
    "else:\n",
    "print('ham')\n",
    "print('spam')\n",
    "print('spam')"
   ]
  },
  {
   "cell_type": "markdown",
   "id": "72fc70bf",
   "metadata": {},
   "source": [
    "8. Write code that prints Hello if 1 is stored in spam, prints Howdy if 2 is stored in spam, and prints Greetings! if anything else is stored in spam.\n",
    "\n",
    "   Answer:"
   ]
  },
  {
   "cell_type": "code",
   "execution_count": 45,
   "id": "3c0d9fef",
   "metadata": {},
   "outputs": [
    {
     "name": "stdout",
     "output_type": "stream",
     "text": [
      "Howdy\n"
     ]
    }
   ],
   "source": [
    "spam = 2\n",
    "if spam == 1:\n",
    "    print('Hello')\n",
    "elif spam == 2:\n",
    "    print('Howdy')\n",
    "else:\n",
    "    print('Greetings!')"
   ]
  },
  {
   "cell_type": "markdown",
   "id": "7b422b36",
   "metadata": {},
   "source": [
    "9.If your programme is stuck in an endless loop, what keys you’ll press?\n",
    "  \n",
    "    Answer:Ctrl + C\n",
    "        "
   ]
  },
  {
   "cell_type": "markdown",
   "id": "20b4cf05",
   "metadata": {},
   "source": [
    "10. How can you tell the difference between break and continue?\n",
    "  \n",
    "    Answer:-\n",
    "           'break' statement is used to terminate execution of the current loop and passes the control to the next statement after the loop.\n",
    "           \n",
    "           'continue' statement is used to skip the current iteration of the loop and starts with the next iteration of the loop.\n",
    "        \n",
    "Examples are given below:-"
   ]
  },
  {
   "cell_type": "code",
   "execution_count": 50,
   "id": "65742f51",
   "metadata": {},
   "outputs": [
    {
     "name": "stdout",
     "output_type": "stream",
     "text": [
      "0\n",
      "1\n",
      "2\n",
      "3\n",
      "4\n",
      "5\n",
      "6\n",
      "7\n",
      "8\n",
      "9\n",
      "Happy counting!\n"
     ]
    }
   ],
   "source": [
    "# Use of break statement\n",
    "# Terminates the while loop when count becomes 10\n",
    "count = 0\n",
    "while True:\n",
    "    if count == 10:\n",
    "        break\n",
    "    print(count)\n",
    "    count += 1\n",
    "print(\"Happy counting!\")"
   ]
  },
  {
   "cell_type": "code",
   "execution_count": 4,
   "id": "acffd486",
   "metadata": {},
   "outputs": [
    {
     "name": "stdout",
     "output_type": "stream",
     "text": [
      "1\n",
      "2\n",
      "3\n",
      "4\n",
      "6\n",
      "7\n",
      "8\n",
      "9\n",
      "10\n",
      "Happy counting!\n"
     ]
    }
   ],
   "source": [
    "# Use of continue statement\n",
    "# Loop skips the current iteration and jump to the next iteration when the if condition becomes true(ie; count = 5)\n",
    "count = 0                    \n",
    "while count < 10:\n",
    "    count = count + 1\n",
    "    # Skipped printing of value 5\n",
    "    if count == 5:\n",
    "        continue\n",
    "    print(count)\n",
    "print('Happy counting!')"
   ]
  },
  {
   "cell_type": "markdown",
   "id": "7796fbd8",
   "metadata": {},
   "source": [
    "11. In a for loop, what is the difference between range(10), range(0, 10), and range(0, 10, 1)?\n",
    "    \n",
    "    Answer:\n",
    "        \n",
    "        In range(10), loop iterates 10 times from 0 to 9. It considers lower limit as zero and it excludes the upper limit(ie; 10) also.\n",
    "        \n",
    "        Syntax: range(upperlimit)\n",
    "        \n",
    "        In range(0, 10), loop iterates 10 times from 0 to 9. Here, lower limit '0' and upper limit '10' are explicitly specified. It excludes the upper limit 10.\n",
    "        \n",
    "        Syntax: range(lower limit, upper limit)\n",
    "            \n",
    "        In range(0, 10, 1), loop iterates 10 times from 0 to 9. Here, lower limit '0', upper limit '10' and step '1' are explicitly specified. It excludes the upper limit 10.\n",
    "        \n",
    "        Syntax: range(lower limit, upper limit, step)\n",
    "        \n",
    "Examples are given below:-"
   ]
  },
  {
   "cell_type": "code",
   "execution_count": 4,
   "id": "3f27c85c",
   "metadata": {},
   "outputs": [
    {
     "name": "stdout",
     "output_type": "stream",
     "text": [
      "0\n",
      "1\n",
      "2\n",
      "3\n",
      "4\n",
      "5\n",
      "6\n",
      "7\n",
      "8\n",
      "9\n"
     ]
    }
   ],
   "source": [
    "for x in range(10):\n",
    "    print(x)"
   ]
  },
  {
   "cell_type": "code",
   "execution_count": 5,
   "id": "9e21e89f",
   "metadata": {},
   "outputs": [
    {
     "name": "stdout",
     "output_type": "stream",
     "text": [
      "0\n",
      "1\n",
      "2\n",
      "3\n",
      "4\n",
      "5\n",
      "6\n",
      "7\n",
      "8\n",
      "9\n"
     ]
    }
   ],
   "source": [
    "for x in range(0,10):\n",
    "    print(x)"
   ]
  },
  {
   "cell_type": "code",
   "execution_count": 6,
   "id": "8679de59",
   "metadata": {},
   "outputs": [
    {
     "name": "stdout",
     "output_type": "stream",
     "text": [
      "0\n",
      "1\n",
      "2\n",
      "3\n",
      "4\n",
      "5\n",
      "6\n",
      "7\n",
      "8\n",
      "9\n"
     ]
    }
   ],
   "source": [
    "for x in range(0, 10, 1):\n",
    "    print(x)"
   ]
  },
  {
   "cell_type": "markdown",
   "id": "858531d5",
   "metadata": {},
   "source": [
    "12. Write a short program that prints the numbers 1 to 10 using a for loop. Then write an equivalent program that prints the numbers 1 to 10 using a while loop.\n",
    "\n",
    "Answers are given below:"
   ]
  },
  {
   "cell_type": "code",
   "execution_count": 12,
   "id": "d3444f9e",
   "metadata": {},
   "outputs": [
    {
     "name": "stdout",
     "output_type": "stream",
     "text": [
      "1\n",
      "2\n",
      "3\n",
      "4\n",
      "5\n",
      "6\n",
      "7\n",
      "8\n",
      "9\n",
      "10\n"
     ]
    }
   ],
   "source": [
    "# Prints the numbers 1 to 10 using a for loop\n",
    "for x in range(1, 11):\n",
    "    print(x)"
   ]
  },
  {
   "cell_type": "code",
   "execution_count": 10,
   "id": "6cd97baa",
   "metadata": {},
   "outputs": [
    {
     "name": "stdout",
     "output_type": "stream",
     "text": [
      "1\n",
      "2\n",
      "3\n",
      "4\n",
      "5\n",
      "6\n",
      "7\n",
      "8\n",
      "9\n",
      "10\n"
     ]
    }
   ],
   "source": [
    "# Prints the numbers 1 to 10 using a while loop\n",
    "x = 1\n",
    "while x <= 10:\n",
    "    print(x)\n",
    "    x += 1"
   ]
  },
  {
   "cell_type": "markdown",
   "id": "b64b82bf",
   "metadata": {},
   "source": [
    "13. If you had a function named bacon() inside a module named spam, how would you call it after importing spam?\n",
    "\n",
    "    Answer:\n",
    "    \n",
    "          import spam\n",
    "\n",
    "          spam.bacon()"
   ]
  }
 ],
 "metadata": {
  "kernelspec": {
   "display_name": "Python 3 (ipykernel)",
   "language": "python",
   "name": "python3"
  },
  "language_info": {
   "codemirror_mode": {
    "name": "ipython",
    "version": 3
   },
   "file_extension": ".py",
   "mimetype": "text/x-python",
   "name": "python",
   "nbconvert_exporter": "python",
   "pygments_lexer": "ipython3",
   "version": "3.9.7"
  }
 },
 "nbformat": 4,
 "nbformat_minor": 5
}
