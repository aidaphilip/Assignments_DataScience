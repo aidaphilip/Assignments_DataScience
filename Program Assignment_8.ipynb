{
 "cells": [
  {
   "cell_type": "code",
   "execution_count": 3,
   "id": "90f745d5",
   "metadata": {},
   "outputs": [
    {
     "name": "stdout",
     "output_type": "stream",
     "text": [
      "[[11, 22, 33], [15, 27, 39], [51, 63, 75]]\n"
     ]
    }
   ],
   "source": [
    "# 1. Write a Python Program to Add Two Matrices?\n",
    "\n",
    "A = [[10,20,30],\n",
    "    [11,22,33],\n",
    "    [44,55,66]]\n",
    "B =[[1,2,3],\n",
    "   [4,5,6],\n",
    "   [7,8,9]]\n",
    "R=[[0,0,0],[0,0,0],[0,0,0]]\n",
    "for i in range(len(A)):\n",
    "    for j in range(len(B)):\n",
    "        R[i][j] = A[i][j]+B[i][j]\n",
    "print(R)"
   ]
  },
  {
   "cell_type": "code",
   "execution_count": 1,
   "id": "da185d04",
   "metadata": {},
   "outputs": [
    {
     "name": "stdout",
     "output_type": "stream",
     "text": [
      "[[300, 360, 420], [330, 396, 462], [726, 891, 1056]]\n"
     ]
    }
   ],
   "source": [
    "# 2. Write a Python Program to Multiply Two Matrices?\n",
    "\n",
    "A = [[10,20,30],\n",
    "    [11,22,33],\n",
    "    [44,55,66]]\n",
    "B =[[1,2,3],\n",
    "   [4,5,6],\n",
    "   [7,8,9]]\n",
    "R=[[0,0,0],[0,0,0],[0,0,0]]\n",
    "\n",
    "for i in range(len(A)):\n",
    "    for j in range(len(B[0])):\n",
    "        for k in range(len(B)):\n",
    "            R[i][j] += A[i][k] * B[k][j]\n",
    "print(R)"
   ]
  },
  {
   "cell_type": "code",
   "execution_count": 4,
   "id": "cdcd70a1",
   "metadata": {},
   "outputs": [
    {
     "name": "stdout",
     "output_type": "stream",
     "text": [
      "[[10, 11, 44], [20, 22, 55], [30, 33, 66]]\n"
     ]
    }
   ],
   "source": [
    "# 3. Write a Python Program to Transpose a Matrix?\n",
    "\n",
    "A = [[10,20,30],\n",
    "    [11,22,33],\n",
    "    [44,55,66]]\n",
    "\n",
    "R=[[0,0,0],[0,0,0],[0,0,0]]\n",
    "\n",
    "for i in range(len(A)):\n",
    "   for j in range(len(A[0])):\n",
    "       R[j][i] = A[i][j]\n",
    "\n",
    "print(R)"
   ]
  },
  {
   "cell_type": "code",
   "execution_count": 10,
   "id": "0cd4f7d5",
   "metadata": {},
   "outputs": [
    {
     "name": "stdout",
     "output_type": "stream",
     "text": [
      "Enter a string: Using the split() method the string is converted into a list of words\n",
      "Sorted words list:\n",
      "a\n",
      "converted\n",
      "into\n",
      "is\n",
      "list\n",
      "method\n",
      "of\n",
      "split()\n",
      "string\n",
      "the\n",
      "the\n",
      "using\n",
      "words\n"
     ]
    }
   ],
   "source": [
    "# 4. Write a Python Program to Sort Words in Alphabetic Order?\n",
    "\n",
    "string = input(\"Enter a string: \")  \n",
    "string = string.lower()\n",
    "# Split string into words \n",
    "words = string.split()  \n",
    "# sort the words  \n",
    "words.sort()  \n",
    "# display the sorted words  \n",
    "print(\"Sorted words list:\")\n",
    "for word in words:  \n",
    "   print(word)  "
   ]
  },
  {
   "cell_type": "code",
   "execution_count": 12,
   "id": "78261fac",
   "metadata": {},
   "outputs": [
    {
     "name": "stdout",
     "output_type": "stream",
     "text": [
      "Enter a string: hello, \"world is - so beautiful\".\n",
      "hello world is  so beautiful\n"
     ]
    }
   ],
   "source": [
    "# 5. Write a Python Program to Remove Punctuation From a String?\n",
    "\n",
    "string = input(\"Enter a string: \") \n",
    "no_punctuation = \"\"\n",
    "\n",
    "for char in string:\n",
    "    if char.isalpha() or char.isdigit() or char.isspace():\n",
    "        no_punctuation += char\n",
    "        \n",
    "print(no_punctuation)\n",
    "        "
   ]
  },
  {
   "cell_type": "code",
   "execution_count": null,
   "id": "dc14b945",
   "metadata": {},
   "outputs": [],
   "source": []
  }
 ],
 "metadata": {
  "kernelspec": {
   "display_name": "Python 3 (ipykernel)",
   "language": "python",
   "name": "python3"
  },
  "language_info": {
   "codemirror_mode": {
    "name": "ipython",
    "version": 3
   },
   "file_extension": ".py",
   "mimetype": "text/x-python",
   "name": "python",
   "nbconvert_exporter": "python",
   "pygments_lexer": "ipython3",
   "version": "3.9.7"
  }
 },
 "nbformat": 4,
 "nbformat_minor": 5
}
