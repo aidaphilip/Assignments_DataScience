{
 "cells": [
  {
   "cell_type": "markdown",
   "id": "48ca9c55",
   "metadata": {},
   "source": [
    "1. In what modes should the PdfFileReader() and PdfFileWriter() File objects will be opened?\n",
    "    \n",
    "    Answer:-\n",
    "        PdfFileReader() needs to be opened in read-binary mode by passing 'rb' as the second argument to open().\n",
    "         PdfFileWriter() needs to be opened in write-binary mode with 'wb'."
   ]
  },
  {
   "cell_type": "markdown",
   "id": "14639f5f",
   "metadata": {},
   "source": [
    "2. From a PdfFileReader object, how do you get a Page object for page 5?\n",
    "\n",
    "    Answer:-\n",
    "        pdfReader.getPage(4)   # Page index 0 for the first page"
   ]
  },
  {
   "cell_type": "markdown",
   "id": "6d2a4500",
   "metadata": {},
   "source": [
    "3. What PdfFileReader variable stores the number of pages in the PDF document?\n",
    "\n",
    "    Answer:-\n",
    "        The total number of pages in the document is stored in the pdfReader.numPages attribute of a PdfFileReader object."
   ]
  },
  {
   "cell_type": "markdown",
   "id": "65c1fa9c",
   "metadata": {},
   "source": [
    "4. If a PdfFileReader object’s PDF is encrypted with the password swordfish, what must you do\n",
    "before you can obtain Page objects from it?\n",
    "\n",
    "    Answer:-\n",
    "         The pdf has to be decrypted by calling .decrypt('swordfish')"
   ]
  },
  {
   "cell_type": "markdown",
   "id": "765b6774",
   "metadata": {},
   "source": [
    "5. What methods do you use to rotate a page?\n",
    "\n",
    "    Answer:-\n",
    "        rotateClockwise(degree as integer argument)\n",
    "        rotateCounterClockwise(degree as integer argument)"
   ]
  },
  {
   "cell_type": "markdown",
   "id": "cd7a446a",
   "metadata": {},
   "source": [
    "6. What is the difference between a Run object and a Paragraph object?\n",
    "\n",
    "    Answer:-\n",
    "        A Run object demarcates a region of text within the paragraph.\n",
    "        The Paragraph object is a member of the Paragraphs collection. The Paragraphs collection includes all the paragraphs in a selection, range, or document.\n",
    "        "
   ]
  },
  {
   "cell_type": "markdown",
   "id": "473c5cb2",
   "metadata": {},
   "source": [
    "7. How do you obtain a list of Paragraph objects for a Document object that’s stored in a variable\n",
    "named doc?\n",
    "    \n",
    "    Answer:-\n",
    "        "
   ]
  },
  {
   "cell_type": "code",
   "execution_count": 1,
   "id": "e0cba458",
   "metadata": {},
   "outputs": [
    {
     "name": "stdout",
     "output_type": "stream",
     "text": [
      "Collecting python-docx\n",
      "  Downloading python-docx-0.8.11.tar.gz (5.6 MB)\n",
      "\u001b[K     |████████████████████████████████| 5.6 MB 677 kB/s eta 0:00:01\n",
      "\u001b[?25hRequirement already satisfied: lxml>=2.3.2 in /opt/anaconda3/lib/python3.9/site-packages (from python-docx) (4.6.3)\n",
      "Building wheels for collected packages: python-docx\n",
      "  Building wheel for python-docx (setup.py) ... \u001b[?25ldone\n",
      "\u001b[?25h  Created wheel for python-docx: filename=python_docx-0.8.11-py3-none-any.whl size=184508 sha256=7c419f0da0b4474f9f603374ac1fd0a17ecb7c08ec6232e90b23ec457b6aa68e\n",
      "  Stored in directory: /Users/justin/Library/Caches/pip/wheels/83/8b/7c/09ae60c42c7ba4ed2dddaf2b8b9186cb105255856d6ed3dba5\n",
      "Successfully built python-docx\n",
      "Installing collected packages: python-docx\n",
      "Successfully installed python-docx-0.8.11\n"
     ]
    }
   ],
   "source": [
    "!pip install python-docx"
   ]
  },
  {
   "cell_type": "code",
   "execution_count": null,
   "id": "4d7c7709",
   "metadata": {},
   "outputs": [],
   "source": [
    "import docx\n",
    "doc = docx.Document('xyz.docx')\n",
    "doc.paragraphs"
   ]
  },
  {
   "cell_type": "markdown",
   "id": "efdded9f",
   "metadata": {},
   "source": [
    "8. What type of object has bold, underline, italic, strike, and outline variables?\n",
    "    \n",
    "    Answer:-\n",
    "        They are Run Object text Attributes."
   ]
  },
  {
   "cell_type": "markdown",
   "id": "2167a8ea",
   "metadata": {},
   "source": [
    "9. What is the difference between False, True, and None for the bold variable?\n",
    "\n",
    "    Answer:-\n",
    "\n",
    "    True means the bold property is “on”, False means it is “off”. The None value means “inherit”."
   ]
  },
  {
   "cell_type": "markdown",
   "id": "969f963c",
   "metadata": {},
   "source": [
    "10. How do you create a Document object for a new Word document?\n",
    "    \n",
    "    Answer:-\n",
    "        import docx\n",
    "        doc = docx.Document()"
   ]
  },
  {
   "cell_type": "markdown",
   "id": "0913dbab",
   "metadata": {},
   "source": [
    "11. How do you add a paragraph with the text 'Hello, there' to a Document object stored in a\n",
    "variable named doc?\n",
    "    \n",
    "    Answer:-\n",
    "        "
   ]
  },
  {
   "cell_type": "code",
   "execution_count": null,
   "id": "727e986b",
   "metadata": {},
   "outputs": [],
   "source": [
    "import docx\n",
    "doc = docx.Document()\n",
    "\n",
    "doc.add_paragraph('Hello there!')\n",
    "doc.save('abc.docx')"
   ]
  },
  {
   "cell_type": "markdown",
   "id": "363c2808",
   "metadata": {},
   "source": [
    "12. What integers represent the levels of headings available in Word documents?\n",
    "\n",
    "    Answer:-\n",
    "        0 - 9 integers represent levels of headings available in word documents.\n",
    "        "
   ]
  },
  {
   "cell_type": "code",
   "execution_count": 5,
   "id": "23d9f3ec",
   "metadata": {},
   "outputs": [],
   "source": [
    "import docx\n",
    "doc = docx.Document()\n",
    "doc.add_heading('Title', 0)\n",
    "doc.add_heading('Heading level 1', 1)\n",
    "doc.add_heading('Heading level 2', 2)\n",
    "doc.add_heading('Heading level 3', 3)\n",
    "doc.add_heading('Heading level 4', 4)\n",
    "doc.add_heading('Heading level 5', 5)\n",
    "doc.add_heading('Heading level 6', 6)\n",
    "doc.add_heading('Heading level 7', 7)\n",
    "doc.add_heading('Heading level 8', 8)\n",
    "doc.add_heading('Heading level 9', 9)\n",
    "doc.save('abc.docx')"
   ]
  }
 ],
 "metadata": {
  "kernelspec": {
   "display_name": "Python 3 (ipykernel)",
   "language": "python",
   "name": "python3"
  },
  "language_info": {
   "codemirror_mode": {
    "name": "ipython",
    "version": 3
   },
   "file_extension": ".py",
   "mimetype": "text/x-python",
   "name": "python",
   "nbconvert_exporter": "python",
   "pygments_lexer": "ipython3",
   "version": "3.9.7"
  }
 },
 "nbformat": 4,
 "nbformat_minor": 5
}
