{
 "cells": [
  {
   "cell_type": "markdown",
   "id": "c45ed8b5",
   "metadata": {},
   "source": [
    "1. What exactly is []?\n",
    "   \n",
    "    Answer:-\n",
    "        In python, an empty square bracket [] represents an empty list. \n",
    "        Also, it is used to access individual elements of tuple, string etc."
   ]
  },
  {
   "cell_type": "code",
   "execution_count": 3,
   "id": "34cc469b",
   "metadata": {},
   "outputs": [
    {
     "data": {
      "text/plain": [
       "list"
      ]
     },
     "execution_count": 3,
     "metadata": {},
     "output_type": "execute_result"
    }
   ],
   "source": [
    "l = []\n",
    "type(l)"
   ]
  },
  {
   "cell_type": "code",
   "execution_count": 4,
   "id": "e7bbb547",
   "metadata": {},
   "outputs": [
    {
     "data": {
      "text/plain": [
       "1"
      ]
     },
     "execution_count": 4,
     "metadata": {},
     "output_type": "execute_result"
    }
   ],
   "source": [
    "t = (1,2,3)\n",
    "t[0]"
   ]
  },
  {
   "cell_type": "code",
   "execution_count": 6,
   "id": "834437d1",
   "metadata": {},
   "outputs": [
    {
     "data": {
      "text/plain": [
       "'H'"
      ]
     },
     "execution_count": 6,
     "metadata": {},
     "output_type": "execute_result"
    }
   ],
   "source": [
    "string = \"Hello\"\n",
    "string[0]"
   ]
  },
  {
   "cell_type": "markdown",
   "id": "3c16c812",
   "metadata": {},
   "source": [
    "2. In a list of values stored in a variable called spam, how would you assign the value 'hello' as the third value? (Assume [2, 4, 6, 8, 10] are in spam.)\n",
    "\n",
    "    Answer:-"
   ]
  },
  {
   "cell_type": "code",
   "execution_count": 8,
   "id": "74091cf0",
   "metadata": {},
   "outputs": [
    {
     "data": {
      "text/plain": [
       "[2, 4, 'hello', 8, 10]"
      ]
     },
     "execution_count": 8,
     "metadata": {},
     "output_type": "execute_result"
    }
   ],
   "source": [
    "spam = [2,4,6,8,10]\n",
    "spam[2] = 'hello'\n",
    "spam"
   ]
  },
  {
   "cell_type": "markdown",
   "id": "47598577",
   "metadata": {},
   "source": [
    "Let's pretend the spam includes the list ['a','b','c','d'] for the next three queries.\n",
    "\n",
    "3. What is the value of spam[int(int('3' * 2) / 11)]?\n",
    "\n",
    "Answer:- \n",
    "    '3' * 2 -> '33'\n",
    "    int('33') -> 33\n",
    "    int(33/11) -> 3\n",
    "    spam[3] -> 'd'"
   ]
  },
  {
   "cell_type": "code",
   "execution_count": 10,
   "id": "295b4440",
   "metadata": {},
   "outputs": [
    {
     "data": {
      "text/plain": [
       "'d'"
      ]
     },
     "execution_count": 10,
     "metadata": {},
     "output_type": "execute_result"
    }
   ],
   "source": [
    "spam = ['a','b','c','d']\n",
    "spam[int(int('3' * 2) / 11)]"
   ]
  },
  {
   "cell_type": "code",
   "execution_count": 11,
   "id": "c6cda009",
   "metadata": {},
   "outputs": [
    {
     "data": {
      "text/plain": [
       "'33'"
      ]
     },
     "execution_count": 11,
     "metadata": {},
     "output_type": "execute_result"
    }
   ],
   "source": [
    "ie;'3'*2"
   ]
  },
  {
   "cell_type": "markdown",
   "id": "f5f65d2d",
   "metadata": {},
   "source": [
    "4. What is the value of spam[-1]?\n",
    "    \n",
    "    Answer:-\n",
    "        spam[-1] -> 'd'"
   ]
  },
  {
   "cell_type": "code",
   "execution_count": 12,
   "id": "67ea42ea",
   "metadata": {},
   "outputs": [
    {
     "data": {
      "text/plain": [
       "'d'"
      ]
     },
     "execution_count": 12,
     "metadata": {},
     "output_type": "execute_result"
    }
   ],
   "source": [
    "spam[-1]"
   ]
  },
  {
   "cell_type": "markdown",
   "id": "d6437960",
   "metadata": {},
   "source": [
    "5. What is the value of spam[:2]?\n",
    "\n",
    "    Answer:-\n",
    "        spam[:2] -> ['a', 'b']"
   ]
  },
  {
   "cell_type": "code",
   "execution_count": 14,
   "id": "b15c0a35",
   "metadata": {},
   "outputs": [
    {
     "data": {
      "text/plain": [
       "['a', 'b']"
      ]
     },
     "execution_count": 14,
     "metadata": {},
     "output_type": "execute_result"
    }
   ],
   "source": [
    "spam[:2]"
   ]
  },
  {
   "cell_type": "markdown",
   "id": "5a16be71",
   "metadata": {},
   "source": [
    "Let's pretend bacon has the list [3.14, 'cat', 11, 'cat', True] for the next three questions."
   ]
  },
  {
   "cell_type": "code",
   "execution_count": 3,
   "id": "db74de20",
   "metadata": {},
   "outputs": [
    {
     "data": {
      "text/plain": [
       "1"
      ]
     },
     "execution_count": 3,
     "metadata": {},
     "output_type": "execute_result"
    }
   ],
   "source": [
    "bacon = [3.14, 'cat', 11, 'cat', True]\n",
    "\n",
    "#6. What is the value of bacon.index('cat')?\n",
    "\n",
    "   # Answer:- 1\n",
    "bacon.index('cat')"
   ]
  },
  {
   "cell_type": "code",
   "execution_count": null,
   "id": "86ad4c99",
   "metadata": {},
   "outputs": [],
   "source": [
    "#7. How does bacon.append(99) change the look of the list value in bacon?\n",
    "\n",
    "#Answer:- [3.14, 'cat', 11, 'cat', True, 99]\n",
    "\n"
   ]
  },
  {
   "cell_type": "code",
   "execution_count": 5,
   "id": "c9587277",
   "metadata": {},
   "outputs": [
    {
     "data": {
      "text/plain": [
       "[3.14, 'cat', 11, 'cat', True, 99]"
      ]
     },
     "execution_count": 5,
     "metadata": {},
     "output_type": "execute_result"
    }
   ],
   "source": [
    "bacon.append(99)\n",
    "bacon"
   ]
  },
  {
   "cell_type": "code",
   "execution_count": 6,
   "id": "d1c4f2d2",
   "metadata": {},
   "outputs": [
    {
     "data": {
      "text/plain": [
       "[3.14, 11, 'cat', True, 99]"
      ]
     },
     "execution_count": 6,
     "metadata": {},
     "output_type": "execute_result"
    }
   ],
   "source": [
    "#8. How does bacon.remove('cat') change the look of the list in bacon?\n",
    "\n",
    "# Answer:- [3.14, 11, 'cat', True, 99]\n",
    "\n",
    "bacon.remove('cat')\n",
    "bacon"
   ]
  },
  {
   "cell_type": "markdown",
   "id": "9dd5d3c0",
   "metadata": {},
   "source": [
    "9. What are the list concatenation and list replication operators?\n",
    "\n",
    "    Answer:- \n",
    "        + is the list concatenation operators.\n",
    "        * is the list replication operator\n",
    "        \n",
    "Examples are given below:-"
   ]
  },
  {
   "cell_type": "code",
   "execution_count": 13,
   "id": "e82b0fbc",
   "metadata": {},
   "outputs": [
    {
     "data": {
      "text/plain": [
       "[[1, 2, 3, 4, 5, 7, 8, 9, 10, 11]]"
      ]
     },
     "execution_count": 13,
     "metadata": {},
     "output_type": "execute_result"
    }
   ],
   "source": [
    "l1 = [1,2,3,4,5]\n",
    "l2 = [7,8,9,10,11]\n",
    "# List concatenation\n",
    "[l1+l2]"
   ]
  },
  {
   "cell_type": "code",
   "execution_count": 14,
   "id": "97bf2885",
   "metadata": {},
   "outputs": [
    {
     "data": {
      "text/plain": [
       "[1, 2, 3, 4, 5, 1, 2, 3, 4, 5, 1, 2, 3, 4, 5]"
      ]
     },
     "execution_count": 14,
     "metadata": {},
     "output_type": "execute_result"
    }
   ],
   "source": [
    "# List replication\n",
    "l1*3"
   ]
  },
  {
   "cell_type": "markdown",
   "id": "fc73322b",
   "metadata": {},
   "source": [
    "10. What is difference between the list methods append() and insert()?\n",
    "\n",
    "    Answer:-\n",
    "        append() is used to append an element to the end of list.\n",
    "        insert() is used to insert an element at a particular index position in the list.\n",
    "\n",
    "Examples are given below:-"
   ]
  },
  {
   "cell_type": "code",
   "execution_count": 16,
   "id": "ea6e05e5",
   "metadata": {},
   "outputs": [
    {
     "data": {
      "text/plain": [
       "[1, 2, 3, 4, 5]"
      ]
     },
     "execution_count": 16,
     "metadata": {},
     "output_type": "execute_result"
    }
   ],
   "source": [
    "l = [1,2,3,4]\n",
    "l.append(5)\n",
    "l"
   ]
  },
  {
   "cell_type": "code",
   "execution_count": 25,
   "id": "efc7dd54",
   "metadata": {},
   "outputs": [
    {
     "data": {
      "text/plain": [
       "[1, 2, 3, 7, 4, 5]"
      ]
     },
     "execution_count": 25,
     "metadata": {},
     "output_type": "execute_result"
    }
   ],
   "source": [
    "l = [1,2,3,4,5]\n",
    "l.insert(3,7)\n",
    "l"
   ]
  },
  {
   "cell_type": "markdown",
   "id": "82384a1d",
   "metadata": {},
   "source": [
    "11. What are the two methods for removing items from a list?\n",
    "\n",
    "    Answer:-\n",
    "        pop(index) and remove(item) are the two methods for removing an element in a list.\n",
    "\n",
    "Examples are given below:-"
   ]
  },
  {
   "cell_type": "code",
   "execution_count": 26,
   "id": "d4c7442f",
   "metadata": {},
   "outputs": [
    {
     "data": {
      "text/plain": [
       "[1, 2, 3, 4, 5]"
      ]
     },
     "execution_count": 26,
     "metadata": {},
     "output_type": "execute_result"
    }
   ],
   "source": [
    "# Remove item with index 3\n",
    "l.pop(3)\n",
    "l"
   ]
  },
  {
   "cell_type": "code",
   "execution_count": 27,
   "id": "a635bf77",
   "metadata": {},
   "outputs": [
    {
     "data": {
      "text/plain": [
       "[1, 2, 4, 5]"
      ]
     },
     "execution_count": 27,
     "metadata": {},
     "output_type": "execute_result"
    }
   ],
   "source": [
    "# Remove item with value 3\n",
    "l.remove(3)\n",
    "l"
   ]
  },
  {
   "cell_type": "markdown",
   "id": "f616d691",
   "metadata": {},
   "source": [
    "12. Describe how list values and string values are identical.\n",
    "\n",
    "    Answer:-\n",
    "        In list and in string we access each element/character by its index.\n",
    "        To access an element/character we use the square bracket [] with index.\n",
    "        \n",
    "Examples are given below:-"
   ]
  },
  {
   "cell_type": "code",
   "execution_count": 28,
   "id": "1bb2380f",
   "metadata": {},
   "outputs": [
    {
     "name": "stdout",
     "output_type": "stream",
     "text": [
      "h\n",
      "e\n",
      "l\n",
      "l\n",
      "o\n"
     ]
    }
   ],
   "source": [
    "l = ['h','e','l','l','o']\n",
    "for i in range(len(l)):\n",
    "    print(l[i])"
   ]
  },
  {
   "cell_type": "code",
   "execution_count": 29,
   "id": "4a89a782",
   "metadata": {},
   "outputs": [
    {
     "name": "stdout",
     "output_type": "stream",
     "text": [
      "h\n",
      "e\n",
      "l\n",
      "l\n",
      "o\n"
     ]
    }
   ],
   "source": [
    "s = 'hello'\n",
    "for i in range(len(l)):\n",
    "    print(l[i])"
   ]
  },
  {
   "cell_type": "markdown",
   "id": "73ee38a3",
   "metadata": {},
   "source": [
    "13. What's the difference between tuples and lists?\n",
    "\n",
    "       Answer:-\n",
    "           Elements enclosed with in open and close parenthesis is called a tuple.\n",
    "           (1,2,3)\n",
    "           () indicates an empty tuple.\n",
    "           tuples are immutable objects. ie' Its values can't be changed overtime.\n",
    "           \n",
    "           Elements enclosed with in open and close square brackets is called a list.\n",
    "           [1,2,3]\n",
    "           [] indicates an empty list\n",
    "           lists are mutable objects. ie; Its values can be chenged anytime.\n",
    "           \n",
    "Examples:-"
   ]
  },
  {
   "cell_type": "code",
   "execution_count": 37,
   "id": "c3950366",
   "metadata": {},
   "outputs": [
    {
     "data": {
      "text/plain": [
       "[1, 2, 14, 4, 5]"
      ]
     },
     "execution_count": 37,
     "metadata": {},
     "output_type": "execute_result"
    }
   ],
   "source": [
    "l = [1,2,3,4,5]\n",
    "l[2] = 14\n",
    "l"
   ]
  },
  {
   "cell_type": "code",
   "execution_count": 38,
   "id": "1252e2f5",
   "metadata": {},
   "outputs": [
    {
     "ename": "TypeError",
     "evalue": "'tuple' object does not support item assignment",
     "output_type": "error",
     "traceback": [
      "\u001b[0;31m---------------------------------------------------------------------------\u001b[0m",
      "\u001b[0;31mTypeError\u001b[0m                                 Traceback (most recent call last)",
      "\u001b[0;32m/var/folders/_5/01nbllds2m75j2trb0dt5d4m0000gn/T/ipykernel_1052/1408306214.py\u001b[0m in \u001b[0;36m<module>\u001b[0;34m\u001b[0m\n\u001b[1;32m      1\u001b[0m \u001b[0mt\u001b[0m \u001b[0;34m=\u001b[0m \u001b[0;34m(\u001b[0m\u001b[0;36m1\u001b[0m\u001b[0;34m,\u001b[0m\u001b[0;36m2\u001b[0m\u001b[0;34m,\u001b[0m\u001b[0;36m3\u001b[0m\u001b[0;34m,\u001b[0m\u001b[0;36m4\u001b[0m\u001b[0;34m,\u001b[0m\u001b[0;36m5\u001b[0m\u001b[0;34m)\u001b[0m\u001b[0;34m\u001b[0m\u001b[0;34m\u001b[0m\u001b[0m\n\u001b[0;32m----> 2\u001b[0;31m \u001b[0mt\u001b[0m\u001b[0;34m[\u001b[0m\u001b[0;36m2\u001b[0m\u001b[0;34m]\u001b[0m \u001b[0;34m=\u001b[0m \u001b[0;36m14\u001b[0m\u001b[0;34m\u001b[0m\u001b[0;34m\u001b[0m\u001b[0m\n\u001b[0m\u001b[1;32m      3\u001b[0m \u001b[0mt\u001b[0m\u001b[0;34m\u001b[0m\u001b[0;34m\u001b[0m\u001b[0m\n",
      "\u001b[0;31mTypeError\u001b[0m: 'tuple' object does not support item assignment"
     ]
    }
   ],
   "source": [
    "t = (1,2,3,4,5)\n",
    "t[2] = 14\n",
    "t"
   ]
  },
  {
   "cell_type": "markdown",
   "id": "502c1e67",
   "metadata": {},
   "source": [
    "14. How do you type a tuple value that only contains the integer 42?\n",
    "\n",
    "    Answer:-\n",
    "        t = (42,)"
   ]
  },
  {
   "cell_type": "code",
   "execution_count": 41,
   "id": "ec81aafa",
   "metadata": {},
   "outputs": [
    {
     "data": {
      "text/plain": [
       "int"
      ]
     },
     "execution_count": 41,
     "metadata": {},
     "output_type": "execute_result"
    }
   ],
   "source": [
    "# Considered as ordinary data type\n",
    "t = (42)\n",
    "type(t)"
   ]
  },
  {
   "cell_type": "code",
   "execution_count": 43,
   "id": "c8e0d202",
   "metadata": {},
   "outputs": [
    {
     "data": {
      "text/plain": [
       "tuple"
      ]
     },
     "execution_count": 43,
     "metadata": {},
     "output_type": "execute_result"
    }
   ],
   "source": [
    "# Trailing comma at the end of element\n",
    "t = (42,)\n",
    "type(t)"
   ]
  },
  {
   "cell_type": "markdown",
   "id": "07cbf466",
   "metadata": {},
   "source": [
    "15. How do you get a list value's tuple form? How do you get a tuple value's list form?\n",
    "\n",
    "    Answer:-\n",
    "        Using the tuple() and list() functions"
   ]
  },
  {
   "cell_type": "code",
   "execution_count": 44,
   "id": "272b92b5",
   "metadata": {},
   "outputs": [
    {
     "data": {
      "text/plain": [
       "[1, 2, 3, 4, 5]"
      ]
     },
     "execution_count": 44,
     "metadata": {},
     "output_type": "execute_result"
    }
   ],
   "source": [
    "l = [1,2,3,4,5]\n",
    "l"
   ]
  },
  {
   "cell_type": "code",
   "execution_count": 45,
   "id": "d939c39d",
   "metadata": {},
   "outputs": [
    {
     "data": {
      "text/plain": [
       "(1, 2, 3, 4, 5)"
      ]
     },
     "execution_count": 45,
     "metadata": {},
     "output_type": "execute_result"
    }
   ],
   "source": [
    "tuple(l)"
   ]
  },
  {
   "cell_type": "code",
   "execution_count": 46,
   "id": "6a5e63c2",
   "metadata": {},
   "outputs": [
    {
     "data": {
      "text/plain": [
       "(1, 2, 3)"
      ]
     },
     "execution_count": 46,
     "metadata": {},
     "output_type": "execute_result"
    }
   ],
   "source": [
    "t = (1,2,3)\n",
    "t"
   ]
  },
  {
   "cell_type": "code",
   "execution_count": 47,
   "id": "69748727",
   "metadata": {},
   "outputs": [
    {
     "data": {
      "text/plain": [
       "[1, 2, 3]"
      ]
     },
     "execution_count": 47,
     "metadata": {},
     "output_type": "execute_result"
    }
   ],
   "source": [
    "list(t)"
   ]
  },
  {
   "cell_type": "markdown",
   "id": "f00660dd",
   "metadata": {},
   "source": [
    "16. Variables that 'contain' list values are not necessarily lists themselves. Instead, what do they\n",
    "contain?\n",
    "\n",
    "    Answer:-\n",
    "        List in a variable acts as an element. That contains references to list values.\n",
    "       \n",
    "Example:-"
   ]
  },
  {
   "cell_type": "code",
   "execution_count": 49,
   "id": "648b5a5f",
   "metadata": {},
   "outputs": [
    {
     "name": "stdout",
     "output_type": "stream",
     "text": [
      "<class 'int'>\n",
      "<class 'int'>\n",
      "<class 'list'>\n"
     ]
    }
   ],
   "source": [
    "t = (1,2,[3,4,5])\n",
    "for i in t:\n",
    "    print(type(i))"
   ]
  },
  {
   "cell_type": "markdown",
   "id": "cb6b432d",
   "metadata": {},
   "source": [
    "17. How do you distinguish between copy().copy() and copy.deepcopy()?\n",
    "\n",
    "    Answer:-\n",
    "        Suppose, l1 is a list.\n",
    "        l2 = copy.copy(l1) is a shallow copy of list l1. That means both l1 and l2 are referencing to the same list object in memory. So, the changes we make in the list original list will also refect in l2 also.\n",
    "        \n",
    "        l3 = copy.deepcopy(l1) actually forms a new object/deep copy of the list object. So, whatever changes we make in the original list(l1) will not reflect in the deepcopy() list.\n",
    "        "
   ]
  },
  {
   "cell_type": "code",
   "execution_count": 72,
   "id": "031184e4",
   "metadata": {},
   "outputs": [
    {
     "data": {
      "text/plain": [
       "[1, 2, [4, 5], 3]"
      ]
     },
     "execution_count": 72,
     "metadata": {},
     "output_type": "execute_result"
    }
   ],
   "source": [
    "import copy\n",
    "l1 = [1,2,[4,5],3]\n",
    "# l1 and l reference same object in memory\n",
    "l2 = copy.copy(l1)\n",
    "l2"
   ]
  },
  {
   "cell_type": "code",
   "execution_count": 76,
   "id": "e76cf16d",
   "metadata": {},
   "outputs": [
    {
     "data": {
      "text/plain": [
       "[1, 2, [4, 5], 3, 7]"
      ]
     },
     "execution_count": 76,
     "metadata": {},
     "output_type": "execute_result"
    }
   ],
   "source": [
    "# Changes made in l1\n",
    "l1.append(7)\n",
    "# Reflected in l2 also\n",
    "l2"
   ]
  },
  {
   "cell_type": "code",
   "execution_count": 77,
   "id": "8e5de66a",
   "metadata": {},
   "outputs": [
    {
     "data": {
      "text/plain": [
       "[1, 2, [4, 5], 3, 7]"
      ]
     },
     "execution_count": 77,
     "metadata": {},
     "output_type": "execute_result"
    }
   ],
   "source": [
    "l1"
   ]
  },
  {
   "cell_type": "code",
   "execution_count": 78,
   "id": "8e9b1708",
   "metadata": {},
   "outputs": [
    {
     "data": {
      "text/plain": [
       "[1, 2, [4, 5], 3, 7]"
      ]
     },
     "execution_count": 78,
     "metadata": {},
     "output_type": "execute_result"
    }
   ],
   "source": [
    "# l3 deep copy of l1\n",
    "l3 = copy.deepcopy(l1)\n",
    "l3"
   ]
  },
  {
   "cell_type": "code",
   "execution_count": 79,
   "id": "bb9cb9e0",
   "metadata": {},
   "outputs": [
    {
     "data": {
      "text/plain": [
       "[1, 2, [4, 5], 3, 7, 8]"
      ]
     },
     "execution_count": 79,
     "metadata": {},
     "output_type": "execute_result"
    }
   ],
   "source": [
    "# Changes made in l1\n",
    "l1.append(8)\n",
    "l1"
   ]
  },
  {
   "cell_type": "code",
   "execution_count": 80,
   "id": "2808086a",
   "metadata": {},
   "outputs": [
    {
     "data": {
      "text/plain": [
       "[1, 2, [4, 5], 3, 7]"
      ]
     },
     "execution_count": 80,
     "metadata": {},
     "output_type": "execute_result"
    }
   ],
   "source": [
    "# Changes made in l1 is not reflected in l3(deepcopy of l1)\n",
    "l3"
   ]
  }
 ],
 "metadata": {
  "kernelspec": {
   "display_name": "Python 3 (ipykernel)",
   "language": "python",
   "name": "python3"
  },
  "language_info": {
   "codemirror_mode": {
    "name": "ipython",
    "version": 3
   },
   "file_extension": ".py",
   "mimetype": "text/x-python",
   "name": "python",
   "nbconvert_exporter": "python",
   "pygments_lexer": "ipython3",
   "version": "3.9.7"
  }
 },
 "nbformat": 4,
 "nbformat_minor": 5
}
