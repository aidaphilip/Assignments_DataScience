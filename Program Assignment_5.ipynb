{
 "cells": [
  {
   "cell_type": "code",
   "execution_count": 11,
   "id": "d2bc5ade-a609-43b0-b4c7-4a91ab98c0e8",
   "metadata": {},
   "outputs": [
    {
     "name": "stdin",
     "output_type": "stream",
     "text": [
      "Enter two positive integers: \n",
      " 72\n",
      " 120\n"
     ]
    },
    {
     "name": "stdout",
     "output_type": "stream",
     "text": [
      "LCM of 72 and 120 is 360\n"
     ]
    }
   ],
   "source": [
    "# 1. Write a Python Program to Find LCM?\n",
    "\n",
    "n1 = int(input(\"Enter two positive integers: \\n\"))\n",
    "n2 = int(input())\n",
    "#find max between na and n2\n",
    "if n1 > n2:\n",
    "    max = n1\n",
    "else:\n",
    "    max = n2\n",
    "while True:\n",
    "    if max % n1 ==0 and max % n2 == 0:\n",
    "        print(f\"LCM of {n1} and {n2} is {max}\")\n",
    "        break\n",
    "    max += 1"
   ]
  },
  {
   "cell_type": "code",
   "execution_count": 16,
   "id": "5dc14b9f-9a17-4cdc-96ec-9dba94832ecf",
   "metadata": {},
   "outputs": [
    {
     "name": "stdin",
     "output_type": "stream",
     "text": [
      "Enter two positive integers: \n",
      " 42\n",
      " 24\n"
     ]
    },
    {
     "name": "stdout",
     "output_type": "stream",
     "text": [
      "HCF of 42 and 24 is 6\n"
     ]
    }
   ],
   "source": [
    "# 2. Write a Python Program to Find HCF?\n",
    "\n",
    "n1 = int(input(\"Enter two positive integers: \\n\"))\n",
    "n2 = int(input())\n",
    "mini = min(n1, n2)\n",
    "while True:\n",
    "    if n1 % mini == 0 and n2 % mini == 0:\n",
    "        break\n",
    "    mini -= 1\n",
    "print(f\"HCF of {n1} and {n2} is {mini}\")"
   ]
  },
  {
   "cell_type": "code",
   "execution_count": 22,
   "id": "65eec3ed-25a4-4f3c-bcd3-97789a0e2e3d",
   "metadata": {},
   "outputs": [
    {
     "name": "stdin",
     "output_type": "stream",
     "text": [
      "Enter a decimal number:  10\n"
     ]
    },
    {
     "name": "stdout",
     "output_type": "stream",
     "text": [
      "0b1010\n",
      "0o12\n",
      "0xa\n"
     ]
    }
   ],
   "source": [
    "# 3. Write a Python Program to Convert Decimal to Binary, Octal and Hexadecimal?\n",
    "def decimaltobinary(a):\n",
    "    print(bin(a))\n",
    "    \n",
    "def decimaltooctal(a):\n",
    "    print(oct(a))\n",
    "    \n",
    "def decimaltohexa(a):\n",
    "    print(hex(a))\n",
    "\n",
    "n = int(input(\"Enter a decimal number: \"))\n",
    "decimaltobinary(n)\n",
    "decimaltooctal(n)\n",
    "decimaltohexa(n)        "
   ]
  },
  {
   "cell_type": "code",
   "execution_count": 34,
   "id": "d127d701-6c6b-4b9b-af5a-13032b1bd211",
   "metadata": {},
   "outputs": [
    {
     "name": "stdin",
     "output_type": "stream",
     "text": [
      "Enter a character:  a\n"
     ]
    },
    {
     "name": "stdout",
     "output_type": "stream",
     "text": [
      "ASCII value of a is 97\n"
     ]
    }
   ],
   "source": [
    "# 4. Write a Python Program To Find ASCII value of a character?\n",
    "\n",
    "a = input(\"Enter a character: \")[0]\n",
    "print(\"ASCII value of\",a,\"is\",ord(a))"
   ]
  },
  {
   "cell_type": "code",
   "execution_count": 42,
   "id": "11de4710-a5c3-4c2a-8331-f00b3d629b8c",
   "metadata": {},
   "outputs": [
    {
     "name": "stdin",
     "output_type": "stream",
     "text": [
      "Enter two numbers (press 'q' to exit): \n",
      " 12\n",
      " 10\n",
      "Enter operator:  +\n"
     ]
    },
    {
     "name": "stdout",
     "output_type": "stream",
     "text": [
      "Sum of 12 and 10 is 22\n"
     ]
    },
    {
     "name": "stdin",
     "output_type": "stream",
     "text": [
      "Enter two numbers (press 'q' to exit): \n",
      " 24\n",
      " 12\n",
      "Enter operator:  -\n"
     ]
    },
    {
     "name": "stdout",
     "output_type": "stream",
     "text": [
      "Difference of 24 and 12 is 12\n"
     ]
    },
    {
     "name": "stdin",
     "output_type": "stream",
     "text": [
      "Enter two numbers (press 'q' to exit): \n",
      " 24\n",
      " 2\n",
      "Enter operator:  *\n"
     ]
    },
    {
     "name": "stdout",
     "output_type": "stream",
     "text": [
      "Product of 24 and 2 is 48\n"
     ]
    },
    {
     "name": "stdin",
     "output_type": "stream",
     "text": [
      "Enter two numbers (press 'q' to exit): \n",
      " 24\n",
      " 2\n",
      "Enter operator:  /\n"
     ]
    },
    {
     "name": "stdout",
     "output_type": "stream",
     "text": [
      "Division result of 24 and 2 is =  12.0\n"
     ]
    },
    {
     "name": "stdin",
     "output_type": "stream",
     "text": [
      "Enter two numbers (press 'q' to exit): \n",
      " q\n"
     ]
    }
   ],
   "source": [
    "# 5. Write a Python Program to Make a Simple Calculator with 4 basic mathematical operations?\n",
    "\n",
    "while True:\n",
    "    a = input(\"Enter two numbers (press 'q' to exit): \\n\")\n",
    "    if a != 'q':\n",
    "        a = int(a)\n",
    "        b = int(input())\n",
    "        op = input(\"Enter operator: \")[0]\n",
    "        if op == '+':\n",
    "            print(f\"Sum of {a} and {b} is\", a+b)\n",
    "        elif op == '-':\n",
    "            print(f\"Difference of {a} and {b} is\", a-b)\n",
    "        elif op == '*':\n",
    "            print(f\"Product of {a} and {b} is\", a*b)\n",
    "        elif op == '/':\n",
    "            print(f\"Division result of {a} and {b} is = \", a/b)\n",
    "    else:\n",
    "        break"
   ]
  }
 ],
 "metadata": {
  "kernelspec": {
   "display_name": "Python 3 (ipykernel)",
   "language": "python",
   "name": "python3"
  },
  "language_info": {
   "codemirror_mode": {
    "name": "ipython",
    "version": 3
   },
   "file_extension": ".py",
   "mimetype": "text/x-python",
   "name": "python",
   "nbconvert_exporter": "python",
   "pygments_lexer": "ipython3",
   "version": "3.9.7"
  }
 },
 "nbformat": 4,
 "nbformat_minor": 5
}
