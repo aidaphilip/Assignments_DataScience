{
 "cells": [
  {
   "cell_type": "markdown",
   "id": "5c2e9f26",
   "metadata": {},
   "source": [
    "1. Write a Python program to convert kilometers to miles?\n",
    "    \n",
    "    Answer:-"
   ]
  },
  {
   "cell_type": "code",
   "execution_count": 2,
   "id": "cf0684cf",
   "metadata": {},
   "outputs": [
    {
     "name": "stdout",
     "output_type": "stream",
     "text": [
      "Enter value in kilometers: 2\n",
      "2.00 kilometers is equal to 1.24 miles\n"
     ]
    }
   ],
   "source": [
    "kilometers = float(input(\"Enter value in kilometers: \"))\n",
    "# conversion factor\n",
    "conversion_factor = 0.621371\n",
    "# calculate miles\n",
    "miles = kilometers * conversion_factor\n",
    "print('%0.2f kilometers is equal to %0.2f miles' %(kilometers,miles))"
   ]
  },
  {
   "cell_type": "markdown",
   "id": "3abd4813",
   "metadata": {},
   "source": [
    "2. Write a Python program to convert Celsius to Fahrenheit?\n",
    "    \n",
    "    Answer:-"
   ]
  },
  {
   "cell_type": "code",
   "execution_count": 3,
   "id": "c96161ac",
   "metadata": {},
   "outputs": [
    {
     "name": "stdout",
     "output_type": "stream",
     "text": [
      "Enter temperature in Celsius : 34\n",
      "34.00 celsius is equal to 93.20 fahrenheit\n"
     ]
    }
   ],
   "source": [
    "celsius = float(input('Enter temperature in Celsius : '))\n",
    "# Calculate temperature in fahrenheit\n",
    "fahrenheit = ((celsius*9)/5)+32\n",
    "print('%0.2f celsius is equal to %0.2f fahrenheit' %(celsius,fahrenheit))"
   ]
  },
  {
   "cell_type": "markdown",
   "id": "2efc7e75",
   "metadata": {},
   "source": [
    "3. Write a Python program to display calendar?\n",
    "    \n",
    "    Answer:-"
   ]
  },
  {
   "cell_type": "code",
   "execution_count": 8,
   "id": "1ebeebfa",
   "metadata": {},
   "outputs": [
    {
     "name": "stdout",
     "output_type": "stream",
     "text": [
      "Enter year : 2022\n",
      "Enter month number : 7\n",
      "\n",
      "      July 2022\n",
      "Mo Tu We Th Fr Sa Su\n",
      "             1  2  3\n",
      " 4  5  6  7  8  9 10\n",
      "11 12 13 14 15 16 17\n",
      "18 19 20 21 22 23 24\n",
      "25 26 27 28 29 30 31\n",
      "\n"
     ]
    }
   ],
   "source": [
    "import calendar\n",
    "year = int(input(\"Enter year : \"))\n",
    "# Month should be between 1 to 12\n",
    "while(True):\n",
    "    mnth = int(input(\"Enter month number : \"))\n",
    "    if mnth >= 1 and mnth <= 12:\n",
    "        break\n",
    "    print('Invalid month! Enter again...')\n",
    "# Printing month\n",
    "print('\\n',calendar.month(year,mnth))"
   ]
  },
  {
   "cell_type": "code",
   "execution_count": null,
   "id": "a613aad4",
   "metadata": {},
   "outputs": [],
   "source": [
    "4. Write a Python program to solve quadratic equation?\n",
    "    \n",
    "    Answer:-"
   ]
  },
  {
   "cell_type": "code",
   "execution_count": 32,
   "id": "c682898f",
   "metadata": {},
   "outputs": [
    {
     "name": "stdout",
     "output_type": "stream",
     "text": [
      "Import coefficients...\n",
      "a = 2\n",
      "b = 4\n",
      "c = 1\n",
      "root1 = -0.29 root2 = -1.71\n"
     ]
    }
   ],
   "source": [
    "import math\n",
    "print('Read coefficients...')\n",
    "a = int(input('a = '))\n",
    "b = int(input('b = '))\n",
    "c = int(input('c = '))\n",
    "#Calculate discriminant\n",
    "discriminant = b * b - 4 * a * c\n",
    "# Two roots exists\n",
    "if discriminant > 0:\n",
    "    root1 = (-b + math.sqrt(discriminant)) / (2 * a)\n",
    "    root2 = (-b - math.sqrt(discriminant)) / (2 * a)\n",
    "    print('root1 = %0.2f root2 = %0.2f'%(root1,root2))\n",
    "    # Same roots\n",
    "elif discriminant == 0:\n",
    "    root1 = root2 = -b / (2 * a)\n",
    "    print(\"root1 = root2 = %0.2f\"%root1)\n",
    "    # Complex roots\n",
    "else:\n",
    "    realpart = -b / (2 * a)\n",
    "    imaginarypart = math.sqrt(-discriminant) / (2 * a)\n",
    "    root1 = complex(realpart,round(imaginarypart,2))\n",
    "    root2 = complex(realpart,-round(imaginarypart,2))\n",
    "    print('root1 = ', root1 , 'root2 = ', root2)"
   ]
  },
  {
   "cell_type": "code",
   "execution_count": null,
   "id": "566690a2",
   "metadata": {},
   "outputs": [],
   "source": [
    "5. Write a Python program to swap two variables without temp variable?\n",
    "\n",
    "Answer:-"
   ]
  },
  {
   "cell_type": "code",
   "execution_count": 39,
   "id": "33c02128",
   "metadata": {},
   "outputs": [
    {
     "name": "stdout",
     "output_type": "stream",
     "text": [
      "a = 56\n",
      "b = 78\n",
      "a =  78 b =  56\n"
     ]
    }
   ],
   "source": [
    "# Program to swap two variables\n",
    "a = int(input('a = '))\n",
    "b = int(input('b = '))\n",
    "a = a + b\n",
    "b = a - b\n",
    "a = a - b\n",
    "print('a = ',a,'b = ',b)"
   ]
  }
 ],
 "metadata": {
  "kernelspec": {
   "display_name": "Python 3 (ipykernel)",
   "language": "python",
   "name": "python3"
  },
  "language_info": {
   "codemirror_mode": {
    "name": "ipython",
    "version": 3
   },
   "file_extension": ".py",
   "mimetype": "text/x-python",
   "name": "python",
   "nbconvert_exporter": "python",
   "pygments_lexer": "ipython3",
   "version": "3.9.7"
  }
 },
 "nbformat": 4,
 "nbformat_minor": 5
}
